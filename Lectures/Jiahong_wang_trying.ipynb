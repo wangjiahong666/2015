{
 "cells": [
  {
   "cell_type": "code",
   "execution_count": 2,
   "metadata": {
    "collapsed": true
   },
   "outputs": [],
   "source": [
    "import pandas as pd"
   ]
  },
  {
   "cell_type": "code",
   "execution_count": 3,
   "metadata": {
    "collapsed": true
   },
   "outputs": [],
   "source": [
    "import numpy as np"
   ]
  },
  {
   "cell_type": "code",
   "execution_count": 4,
   "metadata": {
    "collapsed": true
   },
   "outputs": [],
   "source": [
    "import matplotlib.pyplot as plt"
   ]
  },
  {
   "cell_type": "code",
   "execution_count": 5,
   "metadata": {
    "collapsed": true
   },
   "outputs": [],
   "source": [
    "s = pd.Series([1,3,5,np.nan,6,8])"
   ]
  },
  {
   "cell_type": "code",
   "execution_count": 6,
   "metadata": {
    "collapsed": false
   },
   "outputs": [
    {
     "data": {
      "text/plain": [
       "0     1\n",
       "1     3\n",
       "2     5\n",
       "3   NaN\n",
       "4     6\n",
       "5     8\n",
       "dtype: float64"
      ]
     },
     "execution_count": 6,
     "metadata": {},
     "output_type": "execute_result"
    }
   ],
   "source": [
    "s"
   ]
  },
  {
   "cell_type": "code",
   "execution_count": 7,
   "metadata": {
    "collapsed": true
   },
   "outputs": [],
   "source": [
    "dates = pd.date_range('20130101', periods=6)"
   ]
  },
  {
   "cell_type": "code",
   "execution_count": 8,
   "metadata": {
    "collapsed": false
   },
   "outputs": [
    {
     "data": {
      "text/plain": [
       "DatetimeIndex(['2013-01-01', '2013-01-02', '2013-01-03', '2013-01-04',\n",
       "               '2013-01-05', '2013-01-06'],\n",
       "              dtype='datetime64[ns]', freq='D')"
      ]
     },
     "execution_count": 8,
     "metadata": {},
     "output_type": "execute_result"
    }
   ],
   "source": [
    "dates"
   ]
  },
  {
   "cell_type": "code",
   "execution_count": 9,
   "metadata": {
    "collapsed": false
   },
   "outputs": [
    {
     "name": "stdout",
     "output_type": "stream",
     "text": [
      "DatetimeIndex(['2013-01-01', '2013-01-02', '2013-01-03', '2013-01-04',\n",
      "               '2013-01-05', '2013-01-06'],\n",
      "              dtype='datetime64[ns]', freq='D')\n"
     ]
    }
   ],
   "source": [
    "print dates"
   ]
  },
  {
   "cell_type": "code",
   "execution_count": 10,
   "metadata": {
    "collapsed": true
   },
   "outputs": [],
   "source": [
    "df = pd.DataFrame(np.random.randn(6,4), index=dates, columns=list('ABCD'))"
   ]
  },
  {
   "cell_type": "code",
   "execution_count": 11,
   "metadata": {
    "collapsed": false
   },
   "outputs": [
    {
     "data": {
      "text/html": [
       "<div>\n",
       "<table border=\"1\" class=\"dataframe\">\n",
       "  <thead>\n",
       "    <tr style=\"text-align: right;\">\n",
       "      <th></th>\n",
       "      <th>A</th>\n",
       "      <th>B</th>\n",
       "      <th>C</th>\n",
       "      <th>D</th>\n",
       "    </tr>\n",
       "  </thead>\n",
       "  <tbody>\n",
       "    <tr>\n",
       "      <th>2013-01-01</th>\n",
       "      <td>0.753538</td>\n",
       "      <td>-1.240576</td>\n",
       "      <td>-0.153910</td>\n",
       "      <td>0.639199</td>\n",
       "    </tr>\n",
       "    <tr>\n",
       "      <th>2013-01-02</th>\n",
       "      <td>0.079060</td>\n",
       "      <td>0.449134</td>\n",
       "      <td>0.333426</td>\n",
       "      <td>-0.878546</td>\n",
       "    </tr>\n",
       "    <tr>\n",
       "      <th>2013-01-03</th>\n",
       "      <td>0.687871</td>\n",
       "      <td>0.819009</td>\n",
       "      <td>0.004782</td>\n",
       "      <td>-1.341937</td>\n",
       "    </tr>\n",
       "    <tr>\n",
       "      <th>2013-01-04</th>\n",
       "      <td>-1.475308</td>\n",
       "      <td>-0.759955</td>\n",
       "      <td>0.469682</td>\n",
       "      <td>0.526132</td>\n",
       "    </tr>\n",
       "    <tr>\n",
       "      <th>2013-01-05</th>\n",
       "      <td>0.032034</td>\n",
       "      <td>-0.478151</td>\n",
       "      <td>-0.042554</td>\n",
       "      <td>-2.038785</td>\n",
       "    </tr>\n",
       "    <tr>\n",
       "      <th>2013-01-06</th>\n",
       "      <td>-0.887933</td>\n",
       "      <td>-0.998424</td>\n",
       "      <td>0.644169</td>\n",
       "      <td>-0.923606</td>\n",
       "    </tr>\n",
       "  </tbody>\n",
       "</table>\n",
       "</div>"
      ],
      "text/plain": [
       "                   A         B         C         D\n",
       "2013-01-01  0.753538 -1.240576 -0.153910  0.639199\n",
       "2013-01-02  0.079060  0.449134  0.333426 -0.878546\n",
       "2013-01-03  0.687871  0.819009  0.004782 -1.341937\n",
       "2013-01-04 -1.475308 -0.759955  0.469682  0.526132\n",
       "2013-01-05  0.032034 -0.478151 -0.042554 -2.038785\n",
       "2013-01-06 -0.887933 -0.998424  0.644169 -0.923606"
      ]
     },
     "execution_count": 11,
     "metadata": {},
     "output_type": "execute_result"
    }
   ],
   "source": [
    "df\n"
   ]
  },
  {
   "cell_type": "code",
   "execution_count": 12,
   "metadata": {
    "collapsed": true
   },
   "outputs": [],
   "source": [
    "df2 = pd.DataFrame({ 'A' : 1.,\n",
    "                   'B' : pd.Timestamp('20130102'),\n",
    "                       'C' : pd.Series(1,index=list(range(4)),dtype='float32'),\n",
    "                    'D' : np.array([3] * 4,dtype='int32'),\n",
    "                   'E' : pd.Categorical([\"test\",\"train\",\"test\",\"train\"]),\n",
    "                    'F' : 'foo' })"
   ]
  },
  {
   "cell_type": "code",
   "execution_count": 13,
   "metadata": {
    "collapsed": false
   },
   "outputs": [
    {
     "data": {
      "text/html": [
       "<div>\n",
       "<table border=\"1\" class=\"dataframe\">\n",
       "  <thead>\n",
       "    <tr style=\"text-align: right;\">\n",
       "      <th></th>\n",
       "      <th>A</th>\n",
       "      <th>B</th>\n",
       "      <th>C</th>\n",
       "      <th>D</th>\n",
       "      <th>E</th>\n",
       "      <th>F</th>\n",
       "    </tr>\n",
       "  </thead>\n",
       "  <tbody>\n",
       "    <tr>\n",
       "      <th>0</th>\n",
       "      <td>1</td>\n",
       "      <td>2013-01-02</td>\n",
       "      <td>1</td>\n",
       "      <td>3</td>\n",
       "      <td>test</td>\n",
       "      <td>foo</td>\n",
       "    </tr>\n",
       "    <tr>\n",
       "      <th>1</th>\n",
       "      <td>1</td>\n",
       "      <td>2013-01-02</td>\n",
       "      <td>1</td>\n",
       "      <td>3</td>\n",
       "      <td>train</td>\n",
       "      <td>foo</td>\n",
       "    </tr>\n",
       "    <tr>\n",
       "      <th>2</th>\n",
       "      <td>1</td>\n",
       "      <td>2013-01-02</td>\n",
       "      <td>1</td>\n",
       "      <td>3</td>\n",
       "      <td>test</td>\n",
       "      <td>foo</td>\n",
       "    </tr>\n",
       "    <tr>\n",
       "      <th>3</th>\n",
       "      <td>1</td>\n",
       "      <td>2013-01-02</td>\n",
       "      <td>1</td>\n",
       "      <td>3</td>\n",
       "      <td>train</td>\n",
       "      <td>foo</td>\n",
       "    </tr>\n",
       "  </tbody>\n",
       "</table>\n",
       "</div>"
      ],
      "text/plain": [
       "   A          B  C  D      E    F\n",
       "0  1 2013-01-02  1  3   test  foo\n",
       "1  1 2013-01-02  1  3  train  foo\n",
       "2  1 2013-01-02  1  3   test  foo\n",
       "3  1 2013-01-02  1  3  train  foo"
      ]
     },
     "execution_count": 13,
     "metadata": {},
     "output_type": "execute_result"
    }
   ],
   "source": [
    "df2"
   ]
  },
  {
   "cell_type": "code",
   "execution_count": 14,
   "metadata": {
    "collapsed": false
   },
   "outputs": [
    {
     "data": {
      "text/plain": [
       "A           float64\n",
       "B    datetime64[ns]\n",
       "C           float32\n",
       "D             int32\n",
       "E          category\n",
       "F            object\n",
       "dtype: object"
      ]
     },
     "execution_count": 14,
     "metadata": {},
     "output_type": "execute_result"
    }
   ],
   "source": [
    "df2.dtypes"
   ]
  },
  {
   "cell_type": "code",
   "execution_count": 15,
   "metadata": {
    "collapsed": false
   },
   "outputs": [
    {
     "data": {
      "text/html": [
       "<div>\n",
       "<table border=\"1\" class=\"dataframe\">\n",
       "  <thead>\n",
       "    <tr style=\"text-align: right;\">\n",
       "      <th></th>\n",
       "      <th>A</th>\n",
       "      <th>B</th>\n",
       "      <th>C</th>\n",
       "      <th>D</th>\n",
       "    </tr>\n",
       "  </thead>\n",
       "  <tbody>\n",
       "    <tr>\n",
       "      <th>2013-01-01</th>\n",
       "      <td>0.753538</td>\n",
       "      <td>-1.240576</td>\n",
       "      <td>-0.153910</td>\n",
       "      <td>0.639199</td>\n",
       "    </tr>\n",
       "    <tr>\n",
       "      <th>2013-01-02</th>\n",
       "      <td>0.079060</td>\n",
       "      <td>0.449134</td>\n",
       "      <td>0.333426</td>\n",
       "      <td>-0.878546</td>\n",
       "    </tr>\n",
       "    <tr>\n",
       "      <th>2013-01-03</th>\n",
       "      <td>0.687871</td>\n",
       "      <td>0.819009</td>\n",
       "      <td>0.004782</td>\n",
       "      <td>-1.341937</td>\n",
       "    </tr>\n",
       "    <tr>\n",
       "      <th>2013-01-04</th>\n",
       "      <td>-1.475308</td>\n",
       "      <td>-0.759955</td>\n",
       "      <td>0.469682</td>\n",
       "      <td>0.526132</td>\n",
       "    </tr>\n",
       "    <tr>\n",
       "      <th>2013-01-05</th>\n",
       "      <td>0.032034</td>\n",
       "      <td>-0.478151</td>\n",
       "      <td>-0.042554</td>\n",
       "      <td>-2.038785</td>\n",
       "    </tr>\n",
       "  </tbody>\n",
       "</table>\n",
       "</div>"
      ],
      "text/plain": [
       "                   A         B         C         D\n",
       "2013-01-01  0.753538 -1.240576 -0.153910  0.639199\n",
       "2013-01-02  0.079060  0.449134  0.333426 -0.878546\n",
       "2013-01-03  0.687871  0.819009  0.004782 -1.341937\n",
       "2013-01-04 -1.475308 -0.759955  0.469682  0.526132\n",
       "2013-01-05  0.032034 -0.478151 -0.042554 -2.038785"
      ]
     },
     "execution_count": 15,
     "metadata": {},
     "output_type": "execute_result"
    }
   ],
   "source": [
    "df.head()"
   ]
  },
  {
   "cell_type": "code",
   "execution_count": 16,
   "metadata": {
    "collapsed": false
   },
   "outputs": [
    {
     "data": {
      "text/html": [
       "<div>\n",
       "<table border=\"1\" class=\"dataframe\">\n",
       "  <thead>\n",
       "    <tr style=\"text-align: right;\">\n",
       "      <th></th>\n",
       "      <th>A</th>\n",
       "      <th>B</th>\n",
       "      <th>C</th>\n",
       "      <th>D</th>\n",
       "    </tr>\n",
       "  </thead>\n",
       "  <tbody>\n",
       "    <tr>\n",
       "      <th>2013-01-04</th>\n",
       "      <td>-1.475308</td>\n",
       "      <td>-0.759955</td>\n",
       "      <td>0.469682</td>\n",
       "      <td>0.526132</td>\n",
       "    </tr>\n",
       "    <tr>\n",
       "      <th>2013-01-05</th>\n",
       "      <td>0.032034</td>\n",
       "      <td>-0.478151</td>\n",
       "      <td>-0.042554</td>\n",
       "      <td>-2.038785</td>\n",
       "    </tr>\n",
       "    <tr>\n",
       "      <th>2013-01-06</th>\n",
       "      <td>-0.887933</td>\n",
       "      <td>-0.998424</td>\n",
       "      <td>0.644169</td>\n",
       "      <td>-0.923606</td>\n",
       "    </tr>\n",
       "  </tbody>\n",
       "</table>\n",
       "</div>"
      ],
      "text/plain": [
       "                   A         B         C         D\n",
       "2013-01-04 -1.475308 -0.759955  0.469682  0.526132\n",
       "2013-01-05  0.032034 -0.478151 -0.042554 -2.038785\n",
       "2013-01-06 -0.887933 -0.998424  0.644169 -0.923606"
      ]
     },
     "execution_count": 16,
     "metadata": {},
     "output_type": "execute_result"
    }
   ],
   "source": [
    "df.tail(3)"
   ]
  },
  {
   "cell_type": "code",
   "execution_count": 17,
   "metadata": {
    "collapsed": false
   },
   "outputs": [
    {
     "data": {
      "text/plain": [
       "DatetimeIndex(['2013-01-01', '2013-01-02', '2013-01-03', '2013-01-04',\n",
       "               '2013-01-05', '2013-01-06'],\n",
       "              dtype='datetime64[ns]', freq='D')"
      ]
     },
     "execution_count": 17,
     "metadata": {},
     "output_type": "execute_result"
    }
   ],
   "source": [
    "df.index"
   ]
  },
  {
   "cell_type": "code",
   "execution_count": 18,
   "metadata": {
    "collapsed": false
   },
   "outputs": [
    {
     "data": {
      "text/plain": [
       "array([[ 0.75353828, -1.24057636, -0.15390986,  0.63919944],\n",
       "       [ 0.07906015,  0.44913424,  0.33342638, -0.87854617],\n",
       "       [ 0.68787095,  0.81900876,  0.00478237, -1.34193713],\n",
       "       [-1.47530808, -0.75995501,  0.46968245,  0.52613156],\n",
       "       [ 0.03203362, -0.47815119, -0.04255372, -2.03878548],\n",
       "       [-0.88793343, -0.99842367,  0.64416912, -0.92360631]])"
      ]
     },
     "execution_count": 18,
     "metadata": {},
     "output_type": "execute_result"
    }
   ],
   "source": [
    "df.values"
   ]
  },
  {
   "cell_type": "code",
   "execution_count": 24,
   "metadata": {
    "collapsed": false
   },
   "outputs": [
    {
     "data": {
      "text/html": [
       "<div>\n",
       "<table border=\"1\" class=\"dataframe\">\n",
       "  <thead>\n",
       "    <tr style=\"text-align: right;\">\n",
       "      <th></th>\n",
       "      <th>A</th>\n",
       "      <th>B</th>\n",
       "      <th>C</th>\n",
       "      <th>D</th>\n",
       "    </tr>\n",
       "  </thead>\n",
       "  <tbody>\n",
       "    <tr>\n",
       "      <th>count</th>\n",
       "      <td>6.000000</td>\n",
       "      <td>6.000000</td>\n",
       "      <td>6.000000</td>\n",
       "      <td>6.000000</td>\n",
       "    </tr>\n",
       "    <tr>\n",
       "      <th>mean</th>\n",
       "      <td>-0.135123</td>\n",
       "      <td>-0.368161</td>\n",
       "      <td>0.209266</td>\n",
       "      <td>-0.669591</td>\n",
       "    </tr>\n",
       "    <tr>\n",
       "      <th>std</th>\n",
       "      <td>0.883592</td>\n",
       "      <td>0.824777</td>\n",
       "      <td>0.319217</td>\n",
       "      <td>1.056183</td>\n",
       "    </tr>\n",
       "    <tr>\n",
       "      <th>min</th>\n",
       "      <td>-1.475308</td>\n",
       "      <td>-1.240576</td>\n",
       "      <td>-0.153910</td>\n",
       "      <td>-2.038785</td>\n",
       "    </tr>\n",
       "    <tr>\n",
       "      <th>25%</th>\n",
       "      <td>-0.657942</td>\n",
       "      <td>-0.938807</td>\n",
       "      <td>-0.030720</td>\n",
       "      <td>-1.237354</td>\n",
       "    </tr>\n",
       "    <tr>\n",
       "      <th>50%</th>\n",
       "      <td>0.055547</td>\n",
       "      <td>-0.619053</td>\n",
       "      <td>0.169104</td>\n",
       "      <td>-0.901076</td>\n",
       "    </tr>\n",
       "    <tr>\n",
       "      <th>75%</th>\n",
       "      <td>0.535668</td>\n",
       "      <td>0.217313</td>\n",
       "      <td>0.435618</td>\n",
       "      <td>0.174962</td>\n",
       "    </tr>\n",
       "    <tr>\n",
       "      <th>max</th>\n",
       "      <td>0.753538</td>\n",
       "      <td>0.819009</td>\n",
       "      <td>0.644169</td>\n",
       "      <td>0.639199</td>\n",
       "    </tr>\n",
       "  </tbody>\n",
       "</table>\n",
       "</div>"
      ],
      "text/plain": [
       "              A         B         C         D\n",
       "count  6.000000  6.000000  6.000000  6.000000\n",
       "mean  -0.135123 -0.368161  0.209266 -0.669591\n",
       "std    0.883592  0.824777  0.319217  1.056183\n",
       "min   -1.475308 -1.240576 -0.153910 -2.038785\n",
       "25%   -0.657942 -0.938807 -0.030720 -1.237354\n",
       "50%    0.055547 -0.619053  0.169104 -0.901076\n",
       "75%    0.535668  0.217313  0.435618  0.174962\n",
       "max    0.753538  0.819009  0.644169  0.639199"
      ]
     },
     "execution_count": 24,
     "metadata": {},
     "output_type": "execute_result"
    }
   ],
   "source": [
    "df.describe()"
   ]
  },
  {
   "cell_type": "code",
   "execution_count": 25,
   "metadata": {
    "collapsed": false
   },
   "outputs": [
    {
     "ename": "ValueError",
     "evalue": "No axis named 2 for object type <class 'pandas.core.frame.DataFrame'>",
     "output_type": "error",
     "traceback": [
      "\u001b[1;31m---------------------------------------------------------------------------\u001b[0m",
      "\u001b[1;31mValueError\u001b[0m                                Traceback (most recent call last)",
      "\u001b[1;32m<ipython-input-25-923fd6236e5f>\u001b[0m in \u001b[0;36m<module>\u001b[1;34m()\u001b[0m\n\u001b[1;32m----> 1\u001b[1;33m \u001b[0mdf\u001b[0m\u001b[1;33m.\u001b[0m\u001b[0msort_index\u001b[0m\u001b[1;33m(\u001b[0m\u001b[0maxis\u001b[0m\u001b[1;33m=\u001b[0m\u001b[1;36m2\u001b[0m\u001b[1;33m,\u001b[0m \u001b[0mascending\u001b[0m\u001b[1;33m=\u001b[0m\u001b[0mFalse\u001b[0m\u001b[1;33m)\u001b[0m\u001b[1;33m\u001b[0m\u001b[0m\n\u001b[0m",
      "\u001b[1;32mC:\\Users\\AlexMerhoom\\Anaconda2\\lib\\site-packages\\pandas\\core\\frame.pyc\u001b[0m in \u001b[0;36msort_index\u001b[1;34m(self, axis, level, ascending, inplace, kind, na_position, sort_remaining, by)\u001b[0m\n\u001b[0;32m   3180\u001b[0m \u001b[1;33m\u001b[0m\u001b[0m\n\u001b[0;32m   3181\u001b[0m \u001b[1;33m\u001b[0m\u001b[0m\n\u001b[1;32m-> 3182\u001b[1;33m         \u001b[0maxis\u001b[0m \u001b[1;33m=\u001b[0m \u001b[0mself\u001b[0m\u001b[1;33m.\u001b[0m\u001b[0m_get_axis_number\u001b[0m\u001b[1;33m(\u001b[0m\u001b[0maxis\u001b[0m\u001b[1;33m)\u001b[0m\u001b[1;33m\u001b[0m\u001b[0m\n\u001b[0m\u001b[0;32m   3183\u001b[0m         \u001b[0mlabels\u001b[0m \u001b[1;33m=\u001b[0m \u001b[0mself\u001b[0m\u001b[1;33m.\u001b[0m\u001b[0m_get_axis\u001b[0m\u001b[1;33m(\u001b[0m\u001b[0maxis\u001b[0m\u001b[1;33m)\u001b[0m\u001b[1;33m\u001b[0m\u001b[0m\n\u001b[0;32m   3184\u001b[0m \u001b[1;33m\u001b[0m\u001b[0m\n",
      "\u001b[1;32mC:\\Users\\AlexMerhoom\\Anaconda2\\lib\\site-packages\\pandas\\core\\generic.pyc\u001b[0m in \u001b[0;36m_get_axis_number\u001b[1;34m(self, axis)\u001b[0m\n\u001b[0;32m    313\u001b[0m                 \u001b[1;32mpass\u001b[0m\u001b[1;33m\u001b[0m\u001b[0m\n\u001b[0;32m    314\u001b[0m         raise ValueError('No axis named {0} for object type {1}'\n\u001b[1;32m--> 315\u001b[1;33m                          .format(axis, type(self)))\n\u001b[0m\u001b[0;32m    316\u001b[0m \u001b[1;33m\u001b[0m\u001b[0m\n\u001b[0;32m    317\u001b[0m     \u001b[1;32mdef\u001b[0m \u001b[0m_get_axis_name\u001b[0m\u001b[1;33m(\u001b[0m\u001b[0mself\u001b[0m\u001b[1;33m,\u001b[0m \u001b[0maxis\u001b[0m\u001b[1;33m)\u001b[0m\u001b[1;33m:\u001b[0m\u001b[1;33m\u001b[0m\u001b[0m\n",
      "\u001b[1;31mValueError\u001b[0m: No axis named 2 for object type <class 'pandas.core.frame.DataFrame'>"
     ]
    }
   ],
   "source": [
    "df.sort_index(axis=2, ascending=False)"
   ]
  },
  {
   "cell_type": "code",
   "execution_count": 26,
   "metadata": {
    "collapsed": false
   },
   "outputs": [
    {
     "data": {
      "text/html": [
       "<div>\n",
       "<table border=\"1\" class=\"dataframe\">\n",
       "  <thead>\n",
       "    <tr style=\"text-align: right;\">\n",
       "      <th></th>\n",
       "      <th>D</th>\n",
       "      <th>C</th>\n",
       "      <th>B</th>\n",
       "      <th>A</th>\n",
       "    </tr>\n",
       "  </thead>\n",
       "  <tbody>\n",
       "    <tr>\n",
       "      <th>2013-01-01</th>\n",
       "      <td>0.639199</td>\n",
       "      <td>-0.153910</td>\n",
       "      <td>-1.240576</td>\n",
       "      <td>0.753538</td>\n",
       "    </tr>\n",
       "    <tr>\n",
       "      <th>2013-01-02</th>\n",
       "      <td>-0.878546</td>\n",
       "      <td>0.333426</td>\n",
       "      <td>0.449134</td>\n",
       "      <td>0.079060</td>\n",
       "    </tr>\n",
       "    <tr>\n",
       "      <th>2013-01-03</th>\n",
       "      <td>-1.341937</td>\n",
       "      <td>0.004782</td>\n",
       "      <td>0.819009</td>\n",
       "      <td>0.687871</td>\n",
       "    </tr>\n",
       "    <tr>\n",
       "      <th>2013-01-04</th>\n",
       "      <td>0.526132</td>\n",
       "      <td>0.469682</td>\n",
       "      <td>-0.759955</td>\n",
       "      <td>-1.475308</td>\n",
       "    </tr>\n",
       "    <tr>\n",
       "      <th>2013-01-05</th>\n",
       "      <td>-2.038785</td>\n",
       "      <td>-0.042554</td>\n",
       "      <td>-0.478151</td>\n",
       "      <td>0.032034</td>\n",
       "    </tr>\n",
       "    <tr>\n",
       "      <th>2013-01-06</th>\n",
       "      <td>-0.923606</td>\n",
       "      <td>0.644169</td>\n",
       "      <td>-0.998424</td>\n",
       "      <td>-0.887933</td>\n",
       "    </tr>\n",
       "  </tbody>\n",
       "</table>\n",
       "</div>"
      ],
      "text/plain": [
       "                   D         C         B         A\n",
       "2013-01-01  0.639199 -0.153910 -1.240576  0.753538\n",
       "2013-01-02 -0.878546  0.333426  0.449134  0.079060\n",
       "2013-01-03 -1.341937  0.004782  0.819009  0.687871\n",
       "2013-01-04  0.526132  0.469682 -0.759955 -1.475308\n",
       "2013-01-05 -2.038785 -0.042554 -0.478151  0.032034\n",
       "2013-01-06 -0.923606  0.644169 -0.998424 -0.887933"
      ]
     },
     "execution_count": 26,
     "metadata": {},
     "output_type": "execute_result"
    }
   ],
   "source": [
    "df.sort_index(axis=1, ascending=False)"
   ]
  },
  {
   "cell_type": "code",
   "execution_count": 27,
   "metadata": {
    "collapsed": false
   },
   "outputs": [
    {
     "data": {
      "text/html": [
       "<div>\n",
       "<table border=\"1\" class=\"dataframe\">\n",
       "  <thead>\n",
       "    <tr style=\"text-align: right;\">\n",
       "      <th></th>\n",
       "      <th>A</th>\n",
       "      <th>B</th>\n",
       "      <th>C</th>\n",
       "      <th>D</th>\n",
       "    </tr>\n",
       "  </thead>\n",
       "  <tbody>\n",
       "    <tr>\n",
       "      <th>2013-01-01</th>\n",
       "      <td>0.753538</td>\n",
       "      <td>-1.240576</td>\n",
       "      <td>-0.153910</td>\n",
       "      <td>0.639199</td>\n",
       "    </tr>\n",
       "    <tr>\n",
       "      <th>2013-01-05</th>\n",
       "      <td>0.032034</td>\n",
       "      <td>-0.478151</td>\n",
       "      <td>-0.042554</td>\n",
       "      <td>-2.038785</td>\n",
       "    </tr>\n",
       "    <tr>\n",
       "      <th>2013-01-03</th>\n",
       "      <td>0.687871</td>\n",
       "      <td>0.819009</td>\n",
       "      <td>0.004782</td>\n",
       "      <td>-1.341937</td>\n",
       "    </tr>\n",
       "    <tr>\n",
       "      <th>2013-01-02</th>\n",
       "      <td>0.079060</td>\n",
       "      <td>0.449134</td>\n",
       "      <td>0.333426</td>\n",
       "      <td>-0.878546</td>\n",
       "    </tr>\n",
       "    <tr>\n",
       "      <th>2013-01-04</th>\n",
       "      <td>-1.475308</td>\n",
       "      <td>-0.759955</td>\n",
       "      <td>0.469682</td>\n",
       "      <td>0.526132</td>\n",
       "    </tr>\n",
       "    <tr>\n",
       "      <th>2013-01-06</th>\n",
       "      <td>-0.887933</td>\n",
       "      <td>-0.998424</td>\n",
       "      <td>0.644169</td>\n",
       "      <td>-0.923606</td>\n",
       "    </tr>\n",
       "  </tbody>\n",
       "</table>\n",
       "</div>"
      ],
      "text/plain": [
       "                   A         B         C         D\n",
       "2013-01-01  0.753538 -1.240576 -0.153910  0.639199\n",
       "2013-01-05  0.032034 -0.478151 -0.042554 -2.038785\n",
       "2013-01-03  0.687871  0.819009  0.004782 -1.341937\n",
       "2013-01-02  0.079060  0.449134  0.333426 -0.878546\n",
       "2013-01-04 -1.475308 -0.759955  0.469682  0.526132\n",
       "2013-01-06 -0.887933 -0.998424  0.644169 -0.923606"
      ]
     },
     "execution_count": 27,
     "metadata": {},
     "output_type": "execute_result"
    }
   ],
   "source": [
    "df.sort_values(by='C')"
   ]
  },
  {
   "cell_type": "code",
   "execution_count": 28,
   "metadata": {
    "collapsed": false
   },
   "outputs": [
    {
     "data": {
      "text/plain": [
       "2013-01-01    0.753538\n",
       "2013-01-02    0.079060\n",
       "2013-01-03    0.687871\n",
       "2013-01-04   -1.475308\n",
       "2013-01-05    0.032034\n",
       "2013-01-06   -0.887933\n",
       "Freq: D, Name: A, dtype: float64"
      ]
     },
     "execution_count": 28,
     "metadata": {},
     "output_type": "execute_result"
    }
   ],
   "source": [
    "df.A"
   ]
  },
  {
   "cell_type": "code",
   "execution_count": 29,
   "metadata": {
    "collapsed": false
   },
   "outputs": [
    {
     "data": {
      "text/plain": [
       "2013-01-01    0.753538\n",
       "2013-01-02    0.079060\n",
       "2013-01-03    0.687871\n",
       "2013-01-04   -1.475308\n",
       "2013-01-05    0.032034\n",
       "2013-01-06   -0.887933\n",
       "Freq: D, Name: A, dtype: float64"
      ]
     },
     "execution_count": 29,
     "metadata": {},
     "output_type": "execute_result"
    }
   ],
   "source": [
    "df['A']"
   ]
  },
  {
   "cell_type": "code",
   "execution_count": 30,
   "metadata": {
    "collapsed": false
   },
   "outputs": [
    {
     "data": {
      "text/html": [
       "<div>\n",
       "<table border=\"1\" class=\"dataframe\">\n",
       "  <thead>\n",
       "    <tr style=\"text-align: right;\">\n",
       "      <th></th>\n",
       "      <th>A</th>\n",
       "      <th>B</th>\n",
       "      <th>C</th>\n",
       "      <th>D</th>\n",
       "    </tr>\n",
       "  </thead>\n",
       "  <tbody>\n",
       "    <tr>\n",
       "      <th>2013-01-01</th>\n",
       "      <td>0.753538</td>\n",
       "      <td>-1.240576</td>\n",
       "      <td>-0.153910</td>\n",
       "      <td>0.639199</td>\n",
       "    </tr>\n",
       "    <tr>\n",
       "      <th>2013-01-02</th>\n",
       "      <td>0.079060</td>\n",
       "      <td>0.449134</td>\n",
       "      <td>0.333426</td>\n",
       "      <td>-0.878546</td>\n",
       "    </tr>\n",
       "    <tr>\n",
       "      <th>2013-01-03</th>\n",
       "      <td>0.687871</td>\n",
       "      <td>0.819009</td>\n",
       "      <td>0.004782</td>\n",
       "      <td>-1.341937</td>\n",
       "    </tr>\n",
       "  </tbody>\n",
       "</table>\n",
       "</div>"
      ],
      "text/plain": [
       "                   A         B         C         D\n",
       "2013-01-01  0.753538 -1.240576 -0.153910  0.639199\n",
       "2013-01-02  0.079060  0.449134  0.333426 -0.878546\n",
       "2013-01-03  0.687871  0.819009  0.004782 -1.341937"
      ]
     },
     "execution_count": 30,
     "metadata": {},
     "output_type": "execute_result"
    }
   ],
   "source": [
    "df[0:3]"
   ]
  },
  {
   "cell_type": "code",
   "execution_count": 31,
   "metadata": {
    "collapsed": false
   },
   "outputs": [
    {
     "data": {
      "text/html": [
       "<div>\n",
       "<table border=\"1\" class=\"dataframe\">\n",
       "  <thead>\n",
       "    <tr style=\"text-align: right;\">\n",
       "      <th></th>\n",
       "      <th>A</th>\n",
       "      <th>B</th>\n",
       "      <th>C</th>\n",
       "      <th>D</th>\n",
       "    </tr>\n",
       "  </thead>\n",
       "  <tbody>\n",
       "    <tr>\n",
       "      <th>2013-01-02</th>\n",
       "      <td>0.079060</td>\n",
       "      <td>0.449134</td>\n",
       "      <td>0.333426</td>\n",
       "      <td>-0.878546</td>\n",
       "    </tr>\n",
       "    <tr>\n",
       "      <th>2013-01-03</th>\n",
       "      <td>0.687871</td>\n",
       "      <td>0.819009</td>\n",
       "      <td>0.004782</td>\n",
       "      <td>-1.341937</td>\n",
       "    </tr>\n",
       "    <tr>\n",
       "      <th>2013-01-04</th>\n",
       "      <td>-1.475308</td>\n",
       "      <td>-0.759955</td>\n",
       "      <td>0.469682</td>\n",
       "      <td>0.526132</td>\n",
       "    </tr>\n",
       "  </tbody>\n",
       "</table>\n",
       "</div>"
      ],
      "text/plain": [
       "                   A         B         C         D\n",
       "2013-01-02  0.079060  0.449134  0.333426 -0.878546\n",
       "2013-01-03  0.687871  0.819009  0.004782 -1.341937\n",
       "2013-01-04 -1.475308 -0.759955  0.469682  0.526132"
      ]
     },
     "execution_count": 31,
     "metadata": {},
     "output_type": "execute_result"
    }
   ],
   "source": [
    "df['20130102':'20130104']"
   ]
  },
  {
   "cell_type": "code",
   "execution_count": 32,
   "metadata": {
    "collapsed": false
   },
   "outputs": [
    {
     "data": {
      "text/html": [
       "<div>\n",
       "<table border=\"1\" class=\"dataframe\">\n",
       "  <thead>\n",
       "    <tr style=\"text-align: right;\">\n",
       "      <th></th>\n",
       "      <th>A</th>\n",
       "      <th>B</th>\n",
       "      <th>C</th>\n",
       "      <th>D</th>\n",
       "    </tr>\n",
       "  </thead>\n",
       "  <tbody>\n",
       "    <tr>\n",
       "      <th>2013-01-01</th>\n",
       "      <td>0.753538</td>\n",
       "      <td>-1.240576</td>\n",
       "      <td>-0.153910</td>\n",
       "      <td>0.639199</td>\n",
       "    </tr>\n",
       "    <tr>\n",
       "      <th>2013-01-02</th>\n",
       "      <td>0.079060</td>\n",
       "      <td>0.449134</td>\n",
       "      <td>0.333426</td>\n",
       "      <td>-0.878546</td>\n",
       "    </tr>\n",
       "    <tr>\n",
       "      <th>2013-01-03</th>\n",
       "      <td>0.687871</td>\n",
       "      <td>0.819009</td>\n",
       "      <td>0.004782</td>\n",
       "      <td>-1.341937</td>\n",
       "    </tr>\n",
       "    <tr>\n",
       "      <th>2013-01-04</th>\n",
       "      <td>-1.475308</td>\n",
       "      <td>-0.759955</td>\n",
       "      <td>0.469682</td>\n",
       "      <td>0.526132</td>\n",
       "    </tr>\n",
       "    <tr>\n",
       "      <th>2013-01-05</th>\n",
       "      <td>0.032034</td>\n",
       "      <td>-0.478151</td>\n",
       "      <td>-0.042554</td>\n",
       "      <td>-2.038785</td>\n",
       "    </tr>\n",
       "    <tr>\n",
       "      <th>2013-01-06</th>\n",
       "      <td>-0.887933</td>\n",
       "      <td>-0.998424</td>\n",
       "      <td>0.644169</td>\n",
       "      <td>-0.923606</td>\n",
       "    </tr>\n",
       "  </tbody>\n",
       "</table>\n",
       "</div>"
      ],
      "text/plain": [
       "                   A         B         C         D\n",
       "2013-01-01  0.753538 -1.240576 -0.153910  0.639199\n",
       "2013-01-02  0.079060  0.449134  0.333426 -0.878546\n",
       "2013-01-03  0.687871  0.819009  0.004782 -1.341937\n",
       "2013-01-04 -1.475308 -0.759955  0.469682  0.526132\n",
       "2013-01-05  0.032034 -0.478151 -0.042554 -2.038785\n",
       "2013-01-06 -0.887933 -0.998424  0.644169 -0.923606"
      ]
     },
     "execution_count": 32,
     "metadata": {},
     "output_type": "execute_result"
    }
   ],
   "source": [
    "df"
   ]
  },
  {
   "cell_type": "code",
   "execution_count": 33,
   "metadata": {
    "collapsed": false
   },
   "outputs": [
    {
     "data": {
      "text/plain": [
       "A    0.753538\n",
       "B   -1.240576\n",
       "C   -0.153910\n",
       "D    0.639199\n",
       "Name: 2013-01-01 00:00:00, dtype: float64"
      ]
     },
     "execution_count": 33,
     "metadata": {},
     "output_type": "execute_result"
    }
   ],
   "source": [
    "df.loc[dates[0]]"
   ]
  },
  {
   "cell_type": "code",
   "execution_count": 34,
   "metadata": {
    "collapsed": false
   },
   "outputs": [
    {
     "data": {
      "text/html": [
       "<div>\n",
       "<table border=\"1\" class=\"dataframe\">\n",
       "  <thead>\n",
       "    <tr style=\"text-align: right;\">\n",
       "      <th></th>\n",
       "      <th>A</th>\n",
       "      <th>B</th>\n",
       "    </tr>\n",
       "  </thead>\n",
       "  <tbody>\n",
       "    <tr>\n",
       "      <th>2013-01-01</th>\n",
       "      <td>0.753538</td>\n",
       "      <td>-1.240576</td>\n",
       "    </tr>\n",
       "    <tr>\n",
       "      <th>2013-01-02</th>\n",
       "      <td>0.079060</td>\n",
       "      <td>0.449134</td>\n",
       "    </tr>\n",
       "    <tr>\n",
       "      <th>2013-01-03</th>\n",
       "      <td>0.687871</td>\n",
       "      <td>0.819009</td>\n",
       "    </tr>\n",
       "    <tr>\n",
       "      <th>2013-01-04</th>\n",
       "      <td>-1.475308</td>\n",
       "      <td>-0.759955</td>\n",
       "    </tr>\n",
       "    <tr>\n",
       "      <th>2013-01-05</th>\n",
       "      <td>0.032034</td>\n",
       "      <td>-0.478151</td>\n",
       "    </tr>\n",
       "    <tr>\n",
       "      <th>2013-01-06</th>\n",
       "      <td>-0.887933</td>\n",
       "      <td>-0.998424</td>\n",
       "    </tr>\n",
       "  </tbody>\n",
       "</table>\n",
       "</div>"
      ],
      "text/plain": [
       "                   A         B\n",
       "2013-01-01  0.753538 -1.240576\n",
       "2013-01-02  0.079060  0.449134\n",
       "2013-01-03  0.687871  0.819009\n",
       "2013-01-04 -1.475308 -0.759955\n",
       "2013-01-05  0.032034 -0.478151\n",
       "2013-01-06 -0.887933 -0.998424"
      ]
     },
     "execution_count": 34,
     "metadata": {},
     "output_type": "execute_result"
    }
   ],
   "source": [
    "df.loc[:,['A','B']]"
   ]
  },
  {
   "cell_type": "code",
   "execution_count": 35,
   "metadata": {
    "collapsed": false
   },
   "outputs": [
    {
     "data": {
      "text/html": [
       "<div>\n",
       "<table border=\"1\" class=\"dataframe\">\n",
       "  <thead>\n",
       "    <tr style=\"text-align: right;\">\n",
       "      <th></th>\n",
       "      <th>A</th>\n",
       "      <th>B</th>\n",
       "    </tr>\n",
       "  </thead>\n",
       "  <tbody>\n",
       "    <tr>\n",
       "      <th>2013-01-02</th>\n",
       "      <td>0.079060</td>\n",
       "      <td>0.449134</td>\n",
       "    </tr>\n",
       "    <tr>\n",
       "      <th>2013-01-03</th>\n",
       "      <td>0.687871</td>\n",
       "      <td>0.819009</td>\n",
       "    </tr>\n",
       "    <tr>\n",
       "      <th>2013-01-04</th>\n",
       "      <td>-1.475308</td>\n",
       "      <td>-0.759955</td>\n",
       "    </tr>\n",
       "  </tbody>\n",
       "</table>\n",
       "</div>"
      ],
      "text/plain": [
       "                   A         B\n",
       "2013-01-02  0.079060  0.449134\n",
       "2013-01-03  0.687871  0.819009\n",
       "2013-01-04 -1.475308 -0.759955"
      ]
     },
     "execution_count": 35,
     "metadata": {},
     "output_type": "execute_result"
    }
   ],
   "source": [
    "df.loc['20130102':'20130104',['A','B']]"
   ]
  },
  {
   "cell_type": "code",
   "execution_count": 36,
   "metadata": {
    "collapsed": false
   },
   "outputs": [
    {
     "data": {
      "text/html": [
       "<div>\n",
       "<table border=\"1\" class=\"dataframe\">\n",
       "  <thead>\n",
       "    <tr style=\"text-align: right;\">\n",
       "      <th></th>\n",
       "      <th>A</th>\n",
       "      <th>B</th>\n",
       "      <th>C</th>\n",
       "      <th>D</th>\n",
       "    </tr>\n",
       "  </thead>\n",
       "  <tbody>\n",
       "    <tr>\n",
       "      <th>2013-01-01</th>\n",
       "      <td>0.753538</td>\n",
       "      <td>-1.240576</td>\n",
       "      <td>-0.153910</td>\n",
       "      <td>0.639199</td>\n",
       "    </tr>\n",
       "    <tr>\n",
       "      <th>2013-01-02</th>\n",
       "      <td>0.079060</td>\n",
       "      <td>0.449134</td>\n",
       "      <td>0.333426</td>\n",
       "      <td>-0.878546</td>\n",
       "    </tr>\n",
       "    <tr>\n",
       "      <th>2013-01-03</th>\n",
       "      <td>0.687871</td>\n",
       "      <td>0.819009</td>\n",
       "      <td>0.004782</td>\n",
       "      <td>-1.341937</td>\n",
       "    </tr>\n",
       "    <tr>\n",
       "      <th>2013-01-04</th>\n",
       "      <td>-1.475308</td>\n",
       "      <td>-0.759955</td>\n",
       "      <td>0.469682</td>\n",
       "      <td>0.526132</td>\n",
       "    </tr>\n",
       "    <tr>\n",
       "      <th>2013-01-05</th>\n",
       "      <td>0.032034</td>\n",
       "      <td>-0.478151</td>\n",
       "      <td>-0.042554</td>\n",
       "      <td>-2.038785</td>\n",
       "    </tr>\n",
       "    <tr>\n",
       "      <th>2013-01-06</th>\n",
       "      <td>-0.887933</td>\n",
       "      <td>-0.998424</td>\n",
       "      <td>0.644169</td>\n",
       "      <td>-0.923606</td>\n",
       "    </tr>\n",
       "  </tbody>\n",
       "</table>\n",
       "</div>"
      ],
      "text/plain": [
       "                   A         B         C         D\n",
       "2013-01-01  0.753538 -1.240576 -0.153910  0.639199\n",
       "2013-01-02  0.079060  0.449134  0.333426 -0.878546\n",
       "2013-01-03  0.687871  0.819009  0.004782 -1.341937\n",
       "2013-01-04 -1.475308 -0.759955  0.469682  0.526132\n",
       "2013-01-05  0.032034 -0.478151 -0.042554 -2.038785\n",
       "2013-01-06 -0.887933 -0.998424  0.644169 -0.923606"
      ]
     },
     "execution_count": 36,
     "metadata": {},
     "output_type": "execute_result"
    }
   ],
   "source": [
    "df"
   ]
  },
  {
   "cell_type": "code",
   "execution_count": 37,
   "metadata": {
    "collapsed": false
   },
   "outputs": [
    {
     "data": {
      "text/plain": [
       "A   -1.475308\n",
       "B   -0.759955\n",
       "C    0.469682\n",
       "D    0.526132\n",
       "Name: 2013-01-04 00:00:00, dtype: float64"
      ]
     },
     "execution_count": 37,
     "metadata": {},
     "output_type": "execute_result"
    }
   ],
   "source": [
    "df.iloc[3]"
   ]
  },
  {
   "cell_type": "code",
   "execution_count": 38,
   "metadata": {
    "collapsed": false
   },
   "outputs": [
    {
     "data": {
      "text/html": [
       "<div>\n",
       "<table border=\"1\" class=\"dataframe\">\n",
       "  <thead>\n",
       "    <tr style=\"text-align: right;\">\n",
       "      <th></th>\n",
       "      <th>A</th>\n",
       "      <th>B</th>\n",
       "    </tr>\n",
       "  </thead>\n",
       "  <tbody>\n",
       "    <tr>\n",
       "      <th>2013-01-04</th>\n",
       "      <td>-1.475308</td>\n",
       "      <td>-0.759955</td>\n",
       "    </tr>\n",
       "    <tr>\n",
       "      <th>2013-01-05</th>\n",
       "      <td>0.032034</td>\n",
       "      <td>-0.478151</td>\n",
       "    </tr>\n",
       "  </tbody>\n",
       "</table>\n",
       "</div>"
      ],
      "text/plain": [
       "                   A         B\n",
       "2013-01-04 -1.475308 -0.759955\n",
       "2013-01-05  0.032034 -0.478151"
      ]
     },
     "execution_count": 38,
     "metadata": {},
     "output_type": "execute_result"
    }
   ],
   "source": [
    "df.iloc[3:5,0:2]"
   ]
  },
  {
   "cell_type": "code",
   "execution_count": 39,
   "metadata": {
    "collapsed": false
   },
   "outputs": [
    {
     "data": {
      "text/html": [
       "<div>\n",
       "<table border=\"1\" class=\"dataframe\">\n",
       "  <thead>\n",
       "    <tr style=\"text-align: right;\">\n",
       "      <th></th>\n",
       "      <th>A</th>\n",
       "      <th>B</th>\n",
       "      <th>C</th>\n",
       "      <th>D</th>\n",
       "    </tr>\n",
       "  </thead>\n",
       "  <tbody>\n",
       "    <tr>\n",
       "      <th>2013-01-01</th>\n",
       "      <td>0.753538</td>\n",
       "      <td>-1.240576</td>\n",
       "      <td>-0.153910</td>\n",
       "      <td>0.639199</td>\n",
       "    </tr>\n",
       "    <tr>\n",
       "      <th>2013-01-02</th>\n",
       "      <td>0.079060</td>\n",
       "      <td>0.449134</td>\n",
       "      <td>0.333426</td>\n",
       "      <td>-0.878546</td>\n",
       "    </tr>\n",
       "    <tr>\n",
       "      <th>2013-01-03</th>\n",
       "      <td>0.687871</td>\n",
       "      <td>0.819009</td>\n",
       "      <td>0.004782</td>\n",
       "      <td>-1.341937</td>\n",
       "    </tr>\n",
       "    <tr>\n",
       "      <th>2013-01-04</th>\n",
       "      <td>-1.475308</td>\n",
       "      <td>-0.759955</td>\n",
       "      <td>0.469682</td>\n",
       "      <td>0.526132</td>\n",
       "    </tr>\n",
       "    <tr>\n",
       "      <th>2013-01-05</th>\n",
       "      <td>0.032034</td>\n",
       "      <td>-0.478151</td>\n",
       "      <td>-0.042554</td>\n",
       "      <td>-2.038785</td>\n",
       "    </tr>\n",
       "    <tr>\n",
       "      <th>2013-01-06</th>\n",
       "      <td>-0.887933</td>\n",
       "      <td>-0.998424</td>\n",
       "      <td>0.644169</td>\n",
       "      <td>-0.923606</td>\n",
       "    </tr>\n",
       "  </tbody>\n",
       "</table>\n",
       "</div>"
      ],
      "text/plain": [
       "                   A         B         C         D\n",
       "2013-01-01  0.753538 -1.240576 -0.153910  0.639199\n",
       "2013-01-02  0.079060  0.449134  0.333426 -0.878546\n",
       "2013-01-03  0.687871  0.819009  0.004782 -1.341937\n",
       "2013-01-04 -1.475308 -0.759955  0.469682  0.526132\n",
       "2013-01-05  0.032034 -0.478151 -0.042554 -2.038785\n",
       "2013-01-06 -0.887933 -0.998424  0.644169 -0.923606"
      ]
     },
     "execution_count": 39,
     "metadata": {},
     "output_type": "execute_result"
    }
   ],
   "source": [
    "df"
   ]
  },
  {
   "cell_type": "code",
   "execution_count": 40,
   "metadata": {
    "collapsed": false
   },
   "outputs": [
    {
     "data": {
      "text/html": [
       "<div>\n",
       "<table border=\"1\" class=\"dataframe\">\n",
       "  <thead>\n",
       "    <tr style=\"text-align: right;\">\n",
       "      <th></th>\n",
       "      <th>A</th>\n",
       "      <th>B</th>\n",
       "      <th>C</th>\n",
       "      <th>D</th>\n",
       "    </tr>\n",
       "  </thead>\n",
       "  <tbody>\n",
       "    <tr>\n",
       "      <th>2013-01-01</th>\n",
       "      <td>0.753538</td>\n",
       "      <td>-1.240576</td>\n",
       "      <td>-0.153910</td>\n",
       "      <td>0.639199</td>\n",
       "    </tr>\n",
       "    <tr>\n",
       "      <th>2013-01-02</th>\n",
       "      <td>0.079060</td>\n",
       "      <td>0.449134</td>\n",
       "      <td>0.333426</td>\n",
       "      <td>-0.878546</td>\n",
       "    </tr>\n",
       "    <tr>\n",
       "      <th>2013-01-03</th>\n",
       "      <td>0.687871</td>\n",
       "      <td>0.819009</td>\n",
       "      <td>0.004782</td>\n",
       "      <td>-1.341937</td>\n",
       "    </tr>\n",
       "    <tr>\n",
       "      <th>2013-01-05</th>\n",
       "      <td>0.032034</td>\n",
       "      <td>-0.478151</td>\n",
       "      <td>-0.042554</td>\n",
       "      <td>-2.038785</td>\n",
       "    </tr>\n",
       "  </tbody>\n",
       "</table>\n",
       "</div>"
      ],
      "text/plain": [
       "                   A         B         C         D\n",
       "2013-01-01  0.753538 -1.240576 -0.153910  0.639199\n",
       "2013-01-02  0.079060  0.449134  0.333426 -0.878546\n",
       "2013-01-03  0.687871  0.819009  0.004782 -1.341937\n",
       "2013-01-05  0.032034 -0.478151 -0.042554 -2.038785"
      ]
     },
     "execution_count": 40,
     "metadata": {},
     "output_type": "execute_result"
    }
   ],
   "source": [
    "df[df.A > 0]"
   ]
  },
  {
   "cell_type": "code",
   "execution_count": 41,
   "metadata": {
    "collapsed": false
   },
   "outputs": [
    {
     "data": {
      "text/html": [
       "<div>\n",
       "<table border=\"1\" class=\"dataframe\">\n",
       "  <thead>\n",
       "    <tr style=\"text-align: right;\">\n",
       "      <th></th>\n",
       "      <th>A</th>\n",
       "      <th>B</th>\n",
       "      <th>C</th>\n",
       "      <th>D</th>\n",
       "    </tr>\n",
       "  </thead>\n",
       "  <tbody>\n",
       "    <tr>\n",
       "      <th>2013-01-01</th>\n",
       "      <td>0.753538</td>\n",
       "      <td>-1.240576</td>\n",
       "      <td>-0.153910</td>\n",
       "      <td>0.639199</td>\n",
       "    </tr>\n",
       "    <tr>\n",
       "      <th>2013-01-04</th>\n",
       "      <td>-1.475308</td>\n",
       "      <td>-0.759955</td>\n",
       "      <td>0.469682</td>\n",
       "      <td>0.526132</td>\n",
       "    </tr>\n",
       "    <tr>\n",
       "      <th>2013-01-05</th>\n",
       "      <td>0.032034</td>\n",
       "      <td>-0.478151</td>\n",
       "      <td>-0.042554</td>\n",
       "      <td>-2.038785</td>\n",
       "    </tr>\n",
       "    <tr>\n",
       "      <th>2013-01-06</th>\n",
       "      <td>-0.887933</td>\n",
       "      <td>-0.998424</td>\n",
       "      <td>0.644169</td>\n",
       "      <td>-0.923606</td>\n",
       "    </tr>\n",
       "  </tbody>\n",
       "</table>\n",
       "</div>"
      ],
      "text/plain": [
       "                   A         B         C         D\n",
       "2013-01-01  0.753538 -1.240576 -0.153910  0.639199\n",
       "2013-01-04 -1.475308 -0.759955  0.469682  0.526132\n",
       "2013-01-05  0.032034 -0.478151 -0.042554 -2.038785\n",
       "2013-01-06 -0.887933 -0.998424  0.644169 -0.923606"
      ]
     },
     "execution_count": 41,
     "metadata": {},
     "output_type": "execute_result"
    }
   ],
   "source": [
    "df[df.B<0]"
   ]
  },
  {
   "cell_type": "code",
   "execution_count": 42,
   "metadata": {
    "collapsed": true
   },
   "outputs": [],
   "source": [
    "df2 = df.copy()"
   ]
  },
  {
   "cell_type": "code",
   "execution_count": 43,
   "metadata": {
    "collapsed": false
   },
   "outputs": [
    {
     "data": {
      "text/html": [
       "<div>\n",
       "<table border=\"1\" class=\"dataframe\">\n",
       "  <thead>\n",
       "    <tr style=\"text-align: right;\">\n",
       "      <th></th>\n",
       "      <th>A</th>\n",
       "      <th>B</th>\n",
       "      <th>C</th>\n",
       "      <th>D</th>\n",
       "    </tr>\n",
       "  </thead>\n",
       "  <tbody>\n",
       "    <tr>\n",
       "      <th>2013-01-01</th>\n",
       "      <td>0.753538</td>\n",
       "      <td>-1.240576</td>\n",
       "      <td>-0.153910</td>\n",
       "      <td>0.639199</td>\n",
       "    </tr>\n",
       "    <tr>\n",
       "      <th>2013-01-02</th>\n",
       "      <td>0.079060</td>\n",
       "      <td>0.449134</td>\n",
       "      <td>0.333426</td>\n",
       "      <td>-0.878546</td>\n",
       "    </tr>\n",
       "    <tr>\n",
       "      <th>2013-01-03</th>\n",
       "      <td>0.687871</td>\n",
       "      <td>0.819009</td>\n",
       "      <td>0.004782</td>\n",
       "      <td>-1.341937</td>\n",
       "    </tr>\n",
       "    <tr>\n",
       "      <th>2013-01-04</th>\n",
       "      <td>-1.475308</td>\n",
       "      <td>-0.759955</td>\n",
       "      <td>0.469682</td>\n",
       "      <td>0.526132</td>\n",
       "    </tr>\n",
       "    <tr>\n",
       "      <th>2013-01-05</th>\n",
       "      <td>0.032034</td>\n",
       "      <td>-0.478151</td>\n",
       "      <td>-0.042554</td>\n",
       "      <td>-2.038785</td>\n",
       "    </tr>\n",
       "    <tr>\n",
       "      <th>2013-01-06</th>\n",
       "      <td>-0.887933</td>\n",
       "      <td>-0.998424</td>\n",
       "      <td>0.644169</td>\n",
       "      <td>-0.923606</td>\n",
       "    </tr>\n",
       "  </tbody>\n",
       "</table>\n",
       "</div>"
      ],
      "text/plain": [
       "                   A         B         C         D\n",
       "2013-01-01  0.753538 -1.240576 -0.153910  0.639199\n",
       "2013-01-02  0.079060  0.449134  0.333426 -0.878546\n",
       "2013-01-03  0.687871  0.819009  0.004782 -1.341937\n",
       "2013-01-04 -1.475308 -0.759955  0.469682  0.526132\n",
       "2013-01-05  0.032034 -0.478151 -0.042554 -2.038785\n",
       "2013-01-06 -0.887933 -0.998424  0.644169 -0.923606"
      ]
     },
     "execution_count": 43,
     "metadata": {},
     "output_type": "execute_result"
    }
   ],
   "source": [
    "df2"
   ]
  },
  {
   "cell_type": "code",
   "execution_count": 44,
   "metadata": {
    "collapsed": true
   },
   "outputs": [],
   "source": [
    "df2['E'] = ['one', 'one','two','three','four','three']"
   ]
  },
  {
   "cell_type": "code",
   "execution_count": 45,
   "metadata": {
    "collapsed": false
   },
   "outputs": [
    {
     "data": {
      "text/html": [
       "<div>\n",
       "<table border=\"1\" class=\"dataframe\">\n",
       "  <thead>\n",
       "    <tr style=\"text-align: right;\">\n",
       "      <th></th>\n",
       "      <th>A</th>\n",
       "      <th>B</th>\n",
       "      <th>C</th>\n",
       "      <th>D</th>\n",
       "      <th>E</th>\n",
       "    </tr>\n",
       "  </thead>\n",
       "  <tbody>\n",
       "    <tr>\n",
       "      <th>2013-01-01</th>\n",
       "      <td>0.753538</td>\n",
       "      <td>-1.240576</td>\n",
       "      <td>-0.153910</td>\n",
       "      <td>0.639199</td>\n",
       "      <td>one</td>\n",
       "    </tr>\n",
       "    <tr>\n",
       "      <th>2013-01-02</th>\n",
       "      <td>0.079060</td>\n",
       "      <td>0.449134</td>\n",
       "      <td>0.333426</td>\n",
       "      <td>-0.878546</td>\n",
       "      <td>one</td>\n",
       "    </tr>\n",
       "    <tr>\n",
       "      <th>2013-01-03</th>\n",
       "      <td>0.687871</td>\n",
       "      <td>0.819009</td>\n",
       "      <td>0.004782</td>\n",
       "      <td>-1.341937</td>\n",
       "      <td>two</td>\n",
       "    </tr>\n",
       "    <tr>\n",
       "      <th>2013-01-04</th>\n",
       "      <td>-1.475308</td>\n",
       "      <td>-0.759955</td>\n",
       "      <td>0.469682</td>\n",
       "      <td>0.526132</td>\n",
       "      <td>three</td>\n",
       "    </tr>\n",
       "    <tr>\n",
       "      <th>2013-01-05</th>\n",
       "      <td>0.032034</td>\n",
       "      <td>-0.478151</td>\n",
       "      <td>-0.042554</td>\n",
       "      <td>-2.038785</td>\n",
       "      <td>four</td>\n",
       "    </tr>\n",
       "    <tr>\n",
       "      <th>2013-01-06</th>\n",
       "      <td>-0.887933</td>\n",
       "      <td>-0.998424</td>\n",
       "      <td>0.644169</td>\n",
       "      <td>-0.923606</td>\n",
       "      <td>three</td>\n",
       "    </tr>\n",
       "  </tbody>\n",
       "</table>\n",
       "</div>"
      ],
      "text/plain": [
       "                   A         B         C         D      E\n",
       "2013-01-01  0.753538 -1.240576 -0.153910  0.639199    one\n",
       "2013-01-02  0.079060  0.449134  0.333426 -0.878546    one\n",
       "2013-01-03  0.687871  0.819009  0.004782 -1.341937    two\n",
       "2013-01-04 -1.475308 -0.759955  0.469682  0.526132  three\n",
       "2013-01-05  0.032034 -0.478151 -0.042554 -2.038785   four\n",
       "2013-01-06 -0.887933 -0.998424  0.644169 -0.923606  three"
      ]
     },
     "execution_count": 45,
     "metadata": {},
     "output_type": "execute_result"
    }
   ],
   "source": [
    "df2"
   ]
  },
  {
   "cell_type": "code",
   "execution_count": 46,
   "metadata": {
    "collapsed": false
   },
   "outputs": [
    {
     "data": {
      "text/html": [
       "<div>\n",
       "<table border=\"1\" class=\"dataframe\">\n",
       "  <thead>\n",
       "    <tr style=\"text-align: right;\">\n",
       "      <th></th>\n",
       "      <th>A</th>\n",
       "      <th>B</th>\n",
       "      <th>C</th>\n",
       "      <th>D</th>\n",
       "      <th>E</th>\n",
       "    </tr>\n",
       "  </thead>\n",
       "  <tbody>\n",
       "    <tr>\n",
       "      <th>2013-01-03</th>\n",
       "      <td>0.687871</td>\n",
       "      <td>0.819009</td>\n",
       "      <td>0.004782</td>\n",
       "      <td>-1.341937</td>\n",
       "      <td>two</td>\n",
       "    </tr>\n",
       "    <tr>\n",
       "      <th>2013-01-05</th>\n",
       "      <td>0.032034</td>\n",
       "      <td>-0.478151</td>\n",
       "      <td>-0.042554</td>\n",
       "      <td>-2.038785</td>\n",
       "      <td>four</td>\n",
       "    </tr>\n",
       "  </tbody>\n",
       "</table>\n",
       "</div>"
      ],
      "text/plain": [
       "                   A         B         C         D     E\n",
       "2013-01-03  0.687871  0.819009  0.004782 -1.341937   two\n",
       "2013-01-05  0.032034 -0.478151 -0.042554 -2.038785  four"
      ]
     },
     "execution_count": 46,
     "metadata": {},
     "output_type": "execute_result"
    }
   ],
   "source": [
    "df2[df2['E'].isin(['two','four'])]"
   ]
  },
  {
   "cell_type": "code",
   "execution_count": 47,
   "metadata": {
    "collapsed": true
   },
   "outputs": [],
   "source": [
    "s1 = pd.Series([1,2,3,4,5,6], index=pd.date_range('20130102', periods=6))"
   ]
  },
  {
   "cell_type": "code",
   "execution_count": 48,
   "metadata": {
    "collapsed": false
   },
   "outputs": [
    {
     "data": {
      "text/plain": [
       "2013-01-02    1\n",
       "2013-01-03    2\n",
       "2013-01-04    3\n",
       "2013-01-05    4\n",
       "2013-01-06    5\n",
       "2013-01-07    6\n",
       "Freq: D, dtype: int64"
      ]
     },
     "execution_count": 48,
     "metadata": {},
     "output_type": "execute_result"
    }
   ],
   "source": [
    "s1"
   ]
  },
  {
   "cell_type": "code",
   "execution_count": 49,
   "metadata": {
    "collapsed": true
   },
   "outputs": [],
   "source": [
    "df['F'] = s1"
   ]
  },
  {
   "cell_type": "code",
   "execution_count": 50,
   "metadata": {
    "collapsed": false
   },
   "outputs": [
    {
     "data": {
      "text/html": [
       "<div>\n",
       "<table border=\"1\" class=\"dataframe\">\n",
       "  <thead>\n",
       "    <tr style=\"text-align: right;\">\n",
       "      <th></th>\n",
       "      <th>A</th>\n",
       "      <th>B</th>\n",
       "      <th>C</th>\n",
       "      <th>D</th>\n",
       "      <th>F</th>\n",
       "    </tr>\n",
       "  </thead>\n",
       "  <tbody>\n",
       "    <tr>\n",
       "      <th>2013-01-01</th>\n",
       "      <td>0.753538</td>\n",
       "      <td>-1.240576</td>\n",
       "      <td>-0.153910</td>\n",
       "      <td>0.639199</td>\n",
       "      <td>NaN</td>\n",
       "    </tr>\n",
       "    <tr>\n",
       "      <th>2013-01-02</th>\n",
       "      <td>0.079060</td>\n",
       "      <td>0.449134</td>\n",
       "      <td>0.333426</td>\n",
       "      <td>-0.878546</td>\n",
       "      <td>1</td>\n",
       "    </tr>\n",
       "    <tr>\n",
       "      <th>2013-01-03</th>\n",
       "      <td>0.687871</td>\n",
       "      <td>0.819009</td>\n",
       "      <td>0.004782</td>\n",
       "      <td>-1.341937</td>\n",
       "      <td>2</td>\n",
       "    </tr>\n",
       "    <tr>\n",
       "      <th>2013-01-04</th>\n",
       "      <td>-1.475308</td>\n",
       "      <td>-0.759955</td>\n",
       "      <td>0.469682</td>\n",
       "      <td>0.526132</td>\n",
       "      <td>3</td>\n",
       "    </tr>\n",
       "    <tr>\n",
       "      <th>2013-01-05</th>\n",
       "      <td>0.032034</td>\n",
       "      <td>-0.478151</td>\n",
       "      <td>-0.042554</td>\n",
       "      <td>-2.038785</td>\n",
       "      <td>4</td>\n",
       "    </tr>\n",
       "    <tr>\n",
       "      <th>2013-01-06</th>\n",
       "      <td>-0.887933</td>\n",
       "      <td>-0.998424</td>\n",
       "      <td>0.644169</td>\n",
       "      <td>-0.923606</td>\n",
       "      <td>5</td>\n",
       "    </tr>\n",
       "  </tbody>\n",
       "</table>\n",
       "</div>"
      ],
      "text/plain": [
       "                   A         B         C         D   F\n",
       "2013-01-01  0.753538 -1.240576 -0.153910  0.639199 NaN\n",
       "2013-01-02  0.079060  0.449134  0.333426 -0.878546   1\n",
       "2013-01-03  0.687871  0.819009  0.004782 -1.341937   2\n",
       "2013-01-04 -1.475308 -0.759955  0.469682  0.526132   3\n",
       "2013-01-05  0.032034 -0.478151 -0.042554 -2.038785   4\n",
       "2013-01-06 -0.887933 -0.998424  0.644169 -0.923606   5"
      ]
     },
     "execution_count": 50,
     "metadata": {},
     "output_type": "execute_result"
    }
   ],
   "source": [
    "df\n"
   ]
  },
  {
   "cell_type": "code",
   "execution_count": 51,
   "metadata": {
    "collapsed": true
   },
   "outputs": [],
   "source": [
    "df.at[dates[0],'A'] = 0"
   ]
  },
  {
   "cell_type": "code",
   "execution_count": 52,
   "metadata": {
    "collapsed": false
   },
   "outputs": [
    {
     "data": {
      "text/html": [
       "<div>\n",
       "<table border=\"1\" class=\"dataframe\">\n",
       "  <thead>\n",
       "    <tr style=\"text-align: right;\">\n",
       "      <th></th>\n",
       "      <th>A</th>\n",
       "      <th>B</th>\n",
       "      <th>C</th>\n",
       "      <th>D</th>\n",
       "      <th>F</th>\n",
       "    </tr>\n",
       "  </thead>\n",
       "  <tbody>\n",
       "    <tr>\n",
       "      <th>2013-01-01</th>\n",
       "      <td>0.000000</td>\n",
       "      <td>-1.240576</td>\n",
       "      <td>-0.153910</td>\n",
       "      <td>0.639199</td>\n",
       "      <td>NaN</td>\n",
       "    </tr>\n",
       "    <tr>\n",
       "      <th>2013-01-02</th>\n",
       "      <td>0.079060</td>\n",
       "      <td>0.449134</td>\n",
       "      <td>0.333426</td>\n",
       "      <td>-0.878546</td>\n",
       "      <td>1</td>\n",
       "    </tr>\n",
       "    <tr>\n",
       "      <th>2013-01-03</th>\n",
       "      <td>0.687871</td>\n",
       "      <td>0.819009</td>\n",
       "      <td>0.004782</td>\n",
       "      <td>-1.341937</td>\n",
       "      <td>2</td>\n",
       "    </tr>\n",
       "    <tr>\n",
       "      <th>2013-01-04</th>\n",
       "      <td>-1.475308</td>\n",
       "      <td>-0.759955</td>\n",
       "      <td>0.469682</td>\n",
       "      <td>0.526132</td>\n",
       "      <td>3</td>\n",
       "    </tr>\n",
       "    <tr>\n",
       "      <th>2013-01-05</th>\n",
       "      <td>0.032034</td>\n",
       "      <td>-0.478151</td>\n",
       "      <td>-0.042554</td>\n",
       "      <td>-2.038785</td>\n",
       "      <td>4</td>\n",
       "    </tr>\n",
       "    <tr>\n",
       "      <th>2013-01-06</th>\n",
       "      <td>-0.887933</td>\n",
       "      <td>-0.998424</td>\n",
       "      <td>0.644169</td>\n",
       "      <td>-0.923606</td>\n",
       "      <td>5</td>\n",
       "    </tr>\n",
       "  </tbody>\n",
       "</table>\n",
       "</div>"
      ],
      "text/plain": [
       "                   A         B         C         D   F\n",
       "2013-01-01  0.000000 -1.240576 -0.153910  0.639199 NaN\n",
       "2013-01-02  0.079060  0.449134  0.333426 -0.878546   1\n",
       "2013-01-03  0.687871  0.819009  0.004782 -1.341937   2\n",
       "2013-01-04 -1.475308 -0.759955  0.469682  0.526132   3\n",
       "2013-01-05  0.032034 -0.478151 -0.042554 -2.038785   4\n",
       "2013-01-06 -0.887933 -0.998424  0.644169 -0.923606   5"
      ]
     },
     "execution_count": 52,
     "metadata": {},
     "output_type": "execute_result"
    }
   ],
   "source": [
    "df"
   ]
  },
  {
   "cell_type": "code",
   "execution_count": 53,
   "metadata": {
    "collapsed": true
   },
   "outputs": [],
   "source": [
    "df.iat[0,1] = 0"
   ]
  },
  {
   "cell_type": "code",
   "execution_count": 54,
   "metadata": {
    "collapsed": false
   },
   "outputs": [
    {
     "data": {
      "text/html": [
       "<div>\n",
       "<table border=\"1\" class=\"dataframe\">\n",
       "  <thead>\n",
       "    <tr style=\"text-align: right;\">\n",
       "      <th></th>\n",
       "      <th>A</th>\n",
       "      <th>B</th>\n",
       "      <th>C</th>\n",
       "      <th>D</th>\n",
       "      <th>F</th>\n",
       "    </tr>\n",
       "  </thead>\n",
       "  <tbody>\n",
       "    <tr>\n",
       "      <th>2013-01-01</th>\n",
       "      <td>0.000000</td>\n",
       "      <td>0.000000</td>\n",
       "      <td>-0.153910</td>\n",
       "      <td>0.639199</td>\n",
       "      <td>NaN</td>\n",
       "    </tr>\n",
       "    <tr>\n",
       "      <th>2013-01-02</th>\n",
       "      <td>0.079060</td>\n",
       "      <td>0.449134</td>\n",
       "      <td>0.333426</td>\n",
       "      <td>-0.878546</td>\n",
       "      <td>1</td>\n",
       "    </tr>\n",
       "    <tr>\n",
       "      <th>2013-01-03</th>\n",
       "      <td>0.687871</td>\n",
       "      <td>0.819009</td>\n",
       "      <td>0.004782</td>\n",
       "      <td>-1.341937</td>\n",
       "      <td>2</td>\n",
       "    </tr>\n",
       "    <tr>\n",
       "      <th>2013-01-04</th>\n",
       "      <td>-1.475308</td>\n",
       "      <td>-0.759955</td>\n",
       "      <td>0.469682</td>\n",
       "      <td>0.526132</td>\n",
       "      <td>3</td>\n",
       "    </tr>\n",
       "    <tr>\n",
       "      <th>2013-01-05</th>\n",
       "      <td>0.032034</td>\n",
       "      <td>-0.478151</td>\n",
       "      <td>-0.042554</td>\n",
       "      <td>-2.038785</td>\n",
       "      <td>4</td>\n",
       "    </tr>\n",
       "    <tr>\n",
       "      <th>2013-01-06</th>\n",
       "      <td>-0.887933</td>\n",
       "      <td>-0.998424</td>\n",
       "      <td>0.644169</td>\n",
       "      <td>-0.923606</td>\n",
       "      <td>5</td>\n",
       "    </tr>\n",
       "  </tbody>\n",
       "</table>\n",
       "</div>"
      ],
      "text/plain": [
       "                   A         B         C         D   F\n",
       "2013-01-01  0.000000  0.000000 -0.153910  0.639199 NaN\n",
       "2013-01-02  0.079060  0.449134  0.333426 -0.878546   1\n",
       "2013-01-03  0.687871  0.819009  0.004782 -1.341937   2\n",
       "2013-01-04 -1.475308 -0.759955  0.469682  0.526132   3\n",
       "2013-01-05  0.032034 -0.478151 -0.042554 -2.038785   4\n",
       "2013-01-06 -0.887933 -0.998424  0.644169 -0.923606   5"
      ]
     },
     "execution_count": 54,
     "metadata": {},
     "output_type": "execute_result"
    }
   ],
   "source": [
    "df"
   ]
  },
  {
   "cell_type": "code",
   "execution_count": 55,
   "metadata": {
    "collapsed": true
   },
   "outputs": [],
   "source": [
    "df.loc[:,'D'] = np.array([5] * len(df))\n"
   ]
  },
  {
   "cell_type": "code",
   "execution_count": 56,
   "metadata": {
    "collapsed": false
   },
   "outputs": [
    {
     "data": {
      "text/html": [
       "<div>\n",
       "<table border=\"1\" class=\"dataframe\">\n",
       "  <thead>\n",
       "    <tr style=\"text-align: right;\">\n",
       "      <th></th>\n",
       "      <th>A</th>\n",
       "      <th>B</th>\n",
       "      <th>C</th>\n",
       "      <th>D</th>\n",
       "      <th>F</th>\n",
       "    </tr>\n",
       "  </thead>\n",
       "  <tbody>\n",
       "    <tr>\n",
       "      <th>2013-01-01</th>\n",
       "      <td>0.000000</td>\n",
       "      <td>0.000000</td>\n",
       "      <td>-0.153910</td>\n",
       "      <td>5</td>\n",
       "      <td>NaN</td>\n",
       "    </tr>\n",
       "    <tr>\n",
       "      <th>2013-01-02</th>\n",
       "      <td>0.079060</td>\n",
       "      <td>0.449134</td>\n",
       "      <td>0.333426</td>\n",
       "      <td>5</td>\n",
       "      <td>1</td>\n",
       "    </tr>\n",
       "    <tr>\n",
       "      <th>2013-01-03</th>\n",
       "      <td>0.687871</td>\n",
       "      <td>0.819009</td>\n",
       "      <td>0.004782</td>\n",
       "      <td>5</td>\n",
       "      <td>2</td>\n",
       "    </tr>\n",
       "    <tr>\n",
       "      <th>2013-01-04</th>\n",
       "      <td>-1.475308</td>\n",
       "      <td>-0.759955</td>\n",
       "      <td>0.469682</td>\n",
       "      <td>5</td>\n",
       "      <td>3</td>\n",
       "    </tr>\n",
       "    <tr>\n",
       "      <th>2013-01-05</th>\n",
       "      <td>0.032034</td>\n",
       "      <td>-0.478151</td>\n",
       "      <td>-0.042554</td>\n",
       "      <td>5</td>\n",
       "      <td>4</td>\n",
       "    </tr>\n",
       "    <tr>\n",
       "      <th>2013-01-06</th>\n",
       "      <td>-0.887933</td>\n",
       "      <td>-0.998424</td>\n",
       "      <td>0.644169</td>\n",
       "      <td>5</td>\n",
       "      <td>5</td>\n",
       "    </tr>\n",
       "  </tbody>\n",
       "</table>\n",
       "</div>"
      ],
      "text/plain": [
       "                   A         B         C  D   F\n",
       "2013-01-01  0.000000  0.000000 -0.153910  5 NaN\n",
       "2013-01-02  0.079060  0.449134  0.333426  5   1\n",
       "2013-01-03  0.687871  0.819009  0.004782  5   2\n",
       "2013-01-04 -1.475308 -0.759955  0.469682  5   3\n",
       "2013-01-05  0.032034 -0.478151 -0.042554  5   4\n",
       "2013-01-06 -0.887933 -0.998424  0.644169  5   5"
      ]
     },
     "execution_count": 56,
     "metadata": {},
     "output_type": "execute_result"
    }
   ],
   "source": [
    "df"
   ]
  },
  {
   "cell_type": "code",
   "execution_count": 57,
   "metadata": {
    "collapsed": true
   },
   "outputs": [],
   "source": [
    "df2 = df.copy()"
   ]
  },
  {
   "cell_type": "code",
   "execution_count": 58,
   "metadata": {
    "collapsed": false
   },
   "outputs": [
    {
     "data": {
      "text/html": [
       "<div>\n",
       "<table border=\"1\" class=\"dataframe\">\n",
       "  <thead>\n",
       "    <tr style=\"text-align: right;\">\n",
       "      <th></th>\n",
       "      <th>A</th>\n",
       "      <th>B</th>\n",
       "      <th>C</th>\n",
       "      <th>D</th>\n",
       "      <th>F</th>\n",
       "    </tr>\n",
       "  </thead>\n",
       "  <tbody>\n",
       "    <tr>\n",
       "      <th>2013-01-01</th>\n",
       "      <td>0.000000</td>\n",
       "      <td>0.000000</td>\n",
       "      <td>-0.153910</td>\n",
       "      <td>5</td>\n",
       "      <td>NaN</td>\n",
       "    </tr>\n",
       "    <tr>\n",
       "      <th>2013-01-02</th>\n",
       "      <td>0.079060</td>\n",
       "      <td>0.449134</td>\n",
       "      <td>0.333426</td>\n",
       "      <td>5</td>\n",
       "      <td>1</td>\n",
       "    </tr>\n",
       "    <tr>\n",
       "      <th>2013-01-03</th>\n",
       "      <td>0.687871</td>\n",
       "      <td>0.819009</td>\n",
       "      <td>0.004782</td>\n",
       "      <td>5</td>\n",
       "      <td>2</td>\n",
       "    </tr>\n",
       "    <tr>\n",
       "      <th>2013-01-04</th>\n",
       "      <td>-1.475308</td>\n",
       "      <td>-0.759955</td>\n",
       "      <td>0.469682</td>\n",
       "      <td>5</td>\n",
       "      <td>3</td>\n",
       "    </tr>\n",
       "    <tr>\n",
       "      <th>2013-01-05</th>\n",
       "      <td>0.032034</td>\n",
       "      <td>-0.478151</td>\n",
       "      <td>-0.042554</td>\n",
       "      <td>5</td>\n",
       "      <td>4</td>\n",
       "    </tr>\n",
       "    <tr>\n",
       "      <th>2013-01-06</th>\n",
       "      <td>-0.887933</td>\n",
       "      <td>-0.998424</td>\n",
       "      <td>0.644169</td>\n",
       "      <td>5</td>\n",
       "      <td>5</td>\n",
       "    </tr>\n",
       "  </tbody>\n",
       "</table>\n",
       "</div>"
      ],
      "text/plain": [
       "                   A         B         C  D   F\n",
       "2013-01-01  0.000000  0.000000 -0.153910  5 NaN\n",
       "2013-01-02  0.079060  0.449134  0.333426  5   1\n",
       "2013-01-03  0.687871  0.819009  0.004782  5   2\n",
       "2013-01-04 -1.475308 -0.759955  0.469682  5   3\n",
       "2013-01-05  0.032034 -0.478151 -0.042554  5   4\n",
       "2013-01-06 -0.887933 -0.998424  0.644169  5   5"
      ]
     },
     "execution_count": 58,
     "metadata": {},
     "output_type": "execute_result"
    }
   ],
   "source": [
    "df2"
   ]
  },
  {
   "cell_type": "code",
   "execution_count": 59,
   "metadata": {
    "collapsed": true
   },
   "outputs": [],
   "source": [
    "df2[df2 > 0] = -df2"
   ]
  },
  {
   "cell_type": "code",
   "execution_count": 60,
   "metadata": {
    "collapsed": false
   },
   "outputs": [
    {
     "data": {
      "text/html": [
       "<div>\n",
       "<table border=\"1\" class=\"dataframe\">\n",
       "  <thead>\n",
       "    <tr style=\"text-align: right;\">\n",
       "      <th></th>\n",
       "      <th>A</th>\n",
       "      <th>B</th>\n",
       "      <th>C</th>\n",
       "      <th>D</th>\n",
       "      <th>F</th>\n",
       "    </tr>\n",
       "  </thead>\n",
       "  <tbody>\n",
       "    <tr>\n",
       "      <th>2013-01-01</th>\n",
       "      <td>0.000000</td>\n",
       "      <td>0.000000</td>\n",
       "      <td>-0.153910</td>\n",
       "      <td>-5</td>\n",
       "      <td>NaN</td>\n",
       "    </tr>\n",
       "    <tr>\n",
       "      <th>2013-01-02</th>\n",
       "      <td>-0.079060</td>\n",
       "      <td>-0.449134</td>\n",
       "      <td>-0.333426</td>\n",
       "      <td>-5</td>\n",
       "      <td>-1</td>\n",
       "    </tr>\n",
       "    <tr>\n",
       "      <th>2013-01-03</th>\n",
       "      <td>-0.687871</td>\n",
       "      <td>-0.819009</td>\n",
       "      <td>-0.004782</td>\n",
       "      <td>-5</td>\n",
       "      <td>-2</td>\n",
       "    </tr>\n",
       "    <tr>\n",
       "      <th>2013-01-04</th>\n",
       "      <td>-1.475308</td>\n",
       "      <td>-0.759955</td>\n",
       "      <td>-0.469682</td>\n",
       "      <td>-5</td>\n",
       "      <td>-3</td>\n",
       "    </tr>\n",
       "    <tr>\n",
       "      <th>2013-01-05</th>\n",
       "      <td>-0.032034</td>\n",
       "      <td>-0.478151</td>\n",
       "      <td>-0.042554</td>\n",
       "      <td>-5</td>\n",
       "      <td>-4</td>\n",
       "    </tr>\n",
       "    <tr>\n",
       "      <th>2013-01-06</th>\n",
       "      <td>-0.887933</td>\n",
       "      <td>-0.998424</td>\n",
       "      <td>-0.644169</td>\n",
       "      <td>-5</td>\n",
       "      <td>-5</td>\n",
       "    </tr>\n",
       "  </tbody>\n",
       "</table>\n",
       "</div>"
      ],
      "text/plain": [
       "                   A         B         C  D   F\n",
       "2013-01-01  0.000000  0.000000 -0.153910 -5 NaN\n",
       "2013-01-02 -0.079060 -0.449134 -0.333426 -5  -1\n",
       "2013-01-03 -0.687871 -0.819009 -0.004782 -5  -2\n",
       "2013-01-04 -1.475308 -0.759955 -0.469682 -5  -3\n",
       "2013-01-05 -0.032034 -0.478151 -0.042554 -5  -4\n",
       "2013-01-06 -0.887933 -0.998424 -0.644169 -5  -5"
      ]
     },
     "execution_count": 60,
     "metadata": {},
     "output_type": "execute_result"
    }
   ],
   "source": [
    "df2"
   ]
  },
  {
   "cell_type": "code",
   "execution_count": 61,
   "metadata": {
    "collapsed": true
   },
   "outputs": [],
   "source": [
    "df1 = df.reindex(index=dates[0:4], columns=list(df.columns) + ['E'])"
   ]
  },
  {
   "cell_type": "code",
   "execution_count": 62,
   "metadata": {
    "collapsed": false
   },
   "outputs": [
    {
     "data": {
      "text/html": [
       "<div>\n",
       "<table border=\"1\" class=\"dataframe\">\n",
       "  <thead>\n",
       "    <tr style=\"text-align: right;\">\n",
       "      <th></th>\n",
       "      <th>A</th>\n",
       "      <th>B</th>\n",
       "      <th>C</th>\n",
       "      <th>D</th>\n",
       "      <th>F</th>\n",
       "      <th>E</th>\n",
       "    </tr>\n",
       "  </thead>\n",
       "  <tbody>\n",
       "    <tr>\n",
       "      <th>2013-01-01</th>\n",
       "      <td>0.000000</td>\n",
       "      <td>0.000000</td>\n",
       "      <td>-0.153910</td>\n",
       "      <td>5</td>\n",
       "      <td>NaN</td>\n",
       "      <td>NaN</td>\n",
       "    </tr>\n",
       "    <tr>\n",
       "      <th>2013-01-02</th>\n",
       "      <td>0.079060</td>\n",
       "      <td>0.449134</td>\n",
       "      <td>0.333426</td>\n",
       "      <td>5</td>\n",
       "      <td>1</td>\n",
       "      <td>NaN</td>\n",
       "    </tr>\n",
       "    <tr>\n",
       "      <th>2013-01-03</th>\n",
       "      <td>0.687871</td>\n",
       "      <td>0.819009</td>\n",
       "      <td>0.004782</td>\n",
       "      <td>5</td>\n",
       "      <td>2</td>\n",
       "      <td>NaN</td>\n",
       "    </tr>\n",
       "    <tr>\n",
       "      <th>2013-01-04</th>\n",
       "      <td>-1.475308</td>\n",
       "      <td>-0.759955</td>\n",
       "      <td>0.469682</td>\n",
       "      <td>5</td>\n",
       "      <td>3</td>\n",
       "      <td>NaN</td>\n",
       "    </tr>\n",
       "  </tbody>\n",
       "</table>\n",
       "</div>"
      ],
      "text/plain": [
       "                   A         B         C  D   F   E\n",
       "2013-01-01  0.000000  0.000000 -0.153910  5 NaN NaN\n",
       "2013-01-02  0.079060  0.449134  0.333426  5   1 NaN\n",
       "2013-01-03  0.687871  0.819009  0.004782  5   2 NaN\n",
       "2013-01-04 -1.475308 -0.759955  0.469682  5   3 NaN"
      ]
     },
     "execution_count": 62,
     "metadata": {},
     "output_type": "execute_result"
    }
   ],
   "source": [
    "df1"
   ]
  },
  {
   "cell_type": "code",
   "execution_count": 63,
   "metadata": {
    "collapsed": false
   },
   "outputs": [
    {
     "data": {
      "text/html": [
       "<div>\n",
       "<table border=\"1\" class=\"dataframe\">\n",
       "  <thead>\n",
       "    <tr style=\"text-align: right;\">\n",
       "      <th></th>\n",
       "      <th>A</th>\n",
       "      <th>B</th>\n",
       "      <th>C</th>\n",
       "      <th>D</th>\n",
       "      <th>F</th>\n",
       "      <th>E</th>\n",
       "    </tr>\n",
       "  </thead>\n",
       "  <tbody>\n",
       "  </tbody>\n",
       "</table>\n",
       "</div>"
      ],
      "text/plain": [
       "Empty DataFrame\n",
       "Columns: [A, B, C, D, F, E]\n",
       "Index: []"
      ]
     },
     "execution_count": 63,
     "metadata": {},
     "output_type": "execute_result"
    }
   ],
   "source": [
    "df1.dropna(how='any')"
   ]
  },
  {
   "cell_type": "code",
   "execution_count": 64,
   "metadata": {
    "collapsed": false
   },
   "outputs": [
    {
     "data": {
      "text/html": [
       "<div>\n",
       "<table border=\"1\" class=\"dataframe\">\n",
       "  <thead>\n",
       "    <tr style=\"text-align: right;\">\n",
       "      <th></th>\n",
       "      <th>A</th>\n",
       "      <th>B</th>\n",
       "      <th>C</th>\n",
       "      <th>D</th>\n",
       "      <th>F</th>\n",
       "      <th>E</th>\n",
       "    </tr>\n",
       "  </thead>\n",
       "  <tbody>\n",
       "  </tbody>\n",
       "</table>\n",
       "</div>"
      ],
      "text/plain": [
       "Empty DataFrame\n",
       "Columns: [A, B, C, D, F, E]\n",
       "Index: []"
      ]
     },
     "execution_count": 64,
     "metadata": {},
     "output_type": "execute_result"
    }
   ],
   "source": [
    "df1.dropna(how='any')"
   ]
  },
  {
   "cell_type": "code",
   "execution_count": 65,
   "metadata": {
    "collapsed": false
   },
   "outputs": [
    {
     "data": {
      "text/html": [
       "<div>\n",
       "<table border=\"1\" class=\"dataframe\">\n",
       "  <thead>\n",
       "    <tr style=\"text-align: right;\">\n",
       "      <th></th>\n",
       "      <th>A</th>\n",
       "      <th>B</th>\n",
       "      <th>C</th>\n",
       "      <th>D</th>\n",
       "      <th>F</th>\n",
       "      <th>E</th>\n",
       "    </tr>\n",
       "  </thead>\n",
       "  <tbody>\n",
       "    <tr>\n",
       "      <th>2013-01-01</th>\n",
       "      <td>0.000000</td>\n",
       "      <td>0.000000</td>\n",
       "      <td>-0.153910</td>\n",
       "      <td>5</td>\n",
       "      <td>NaN</td>\n",
       "      <td>NaN</td>\n",
       "    </tr>\n",
       "    <tr>\n",
       "      <th>2013-01-02</th>\n",
       "      <td>0.079060</td>\n",
       "      <td>0.449134</td>\n",
       "      <td>0.333426</td>\n",
       "      <td>5</td>\n",
       "      <td>1</td>\n",
       "      <td>NaN</td>\n",
       "    </tr>\n",
       "    <tr>\n",
       "      <th>2013-01-03</th>\n",
       "      <td>0.687871</td>\n",
       "      <td>0.819009</td>\n",
       "      <td>0.004782</td>\n",
       "      <td>5</td>\n",
       "      <td>2</td>\n",
       "      <td>NaN</td>\n",
       "    </tr>\n",
       "    <tr>\n",
       "      <th>2013-01-04</th>\n",
       "      <td>-1.475308</td>\n",
       "      <td>-0.759955</td>\n",
       "      <td>0.469682</td>\n",
       "      <td>5</td>\n",
       "      <td>3</td>\n",
       "      <td>NaN</td>\n",
       "    </tr>\n",
       "  </tbody>\n",
       "</table>\n",
       "</div>"
      ],
      "text/plain": [
       "                   A         B         C  D   F   E\n",
       "2013-01-01  0.000000  0.000000 -0.153910  5 NaN NaN\n",
       "2013-01-02  0.079060  0.449134  0.333426  5   1 NaN\n",
       "2013-01-03  0.687871  0.819009  0.004782  5   2 NaN\n",
       "2013-01-04 -1.475308 -0.759955  0.469682  5   3 NaN"
      ]
     },
     "execution_count": 65,
     "metadata": {},
     "output_type": "execute_result"
    }
   ],
   "source": [
    "df1"
   ]
  },
  {
   "cell_type": "code",
   "execution_count": 66,
   "metadata": {
    "collapsed": false
   },
   "outputs": [
    {
     "data": {
      "text/html": [
       "<div>\n",
       "<table border=\"1\" class=\"dataframe\">\n",
       "  <thead>\n",
       "    <tr style=\"text-align: right;\">\n",
       "      <th></th>\n",
       "      <th>A</th>\n",
       "      <th>B</th>\n",
       "      <th>C</th>\n",
       "      <th>D</th>\n",
       "      <th>F</th>\n",
       "      <th>E</th>\n",
       "    </tr>\n",
       "  </thead>\n",
       "  <tbody>\n",
       "  </tbody>\n",
       "</table>\n",
       "</div>"
      ],
      "text/plain": [
       "Empty DataFrame\n",
       "Columns: [A, B, C, D, F, E]\n",
       "Index: []"
      ]
     },
     "execution_count": 66,
     "metadata": {},
     "output_type": "execute_result"
    }
   ],
   "source": [
    "df1.dropna(how='any')"
   ]
  },
  {
   "cell_type": "code",
   "execution_count": 67,
   "metadata": {
    "collapsed": false
   },
   "outputs": [
    {
     "data": {
      "text/html": [
       "<div>\n",
       "<table border=\"1\" class=\"dataframe\">\n",
       "  <thead>\n",
       "    <tr style=\"text-align: right;\">\n",
       "      <th></th>\n",
       "      <th>A</th>\n",
       "      <th>B</th>\n",
       "      <th>C</th>\n",
       "      <th>D</th>\n",
       "      <th>F</th>\n",
       "      <th>E</th>\n",
       "    </tr>\n",
       "  </thead>\n",
       "  <tbody>\n",
       "    <tr>\n",
       "      <th>2013-01-01</th>\n",
       "      <td>0.000000</td>\n",
       "      <td>0.000000</td>\n",
       "      <td>-0.153910</td>\n",
       "      <td>5</td>\n",
       "      <td>NaN</td>\n",
       "      <td>NaN</td>\n",
       "    </tr>\n",
       "    <tr>\n",
       "      <th>2013-01-02</th>\n",
       "      <td>0.079060</td>\n",
       "      <td>0.449134</td>\n",
       "      <td>0.333426</td>\n",
       "      <td>5</td>\n",
       "      <td>1</td>\n",
       "      <td>NaN</td>\n",
       "    </tr>\n",
       "    <tr>\n",
       "      <th>2013-01-03</th>\n",
       "      <td>0.687871</td>\n",
       "      <td>0.819009</td>\n",
       "      <td>0.004782</td>\n",
       "      <td>5</td>\n",
       "      <td>2</td>\n",
       "      <td>NaN</td>\n",
       "    </tr>\n",
       "    <tr>\n",
       "      <th>2013-01-04</th>\n",
       "      <td>-1.475308</td>\n",
       "      <td>-0.759955</td>\n",
       "      <td>0.469682</td>\n",
       "      <td>5</td>\n",
       "      <td>3</td>\n",
       "      <td>NaN</td>\n",
       "    </tr>\n",
       "  </tbody>\n",
       "</table>\n",
       "</div>"
      ],
      "text/plain": [
       "                   A         B         C  D   F   E\n",
       "2013-01-01  0.000000  0.000000 -0.153910  5 NaN NaN\n",
       "2013-01-02  0.079060  0.449134  0.333426  5   1 NaN\n",
       "2013-01-03  0.687871  0.819009  0.004782  5   2 NaN\n",
       "2013-01-04 -1.475308 -0.759955  0.469682  5   3 NaN"
      ]
     },
     "execution_count": 67,
     "metadata": {},
     "output_type": "execute_result"
    }
   ],
   "source": [
    "df1"
   ]
  },
  {
   "cell_type": "code",
   "execution_count": 68,
   "metadata": {
    "collapsed": false
   },
   "outputs": [
    {
     "data": {
      "text/html": [
       "<div>\n",
       "<table border=\"1\" class=\"dataframe\">\n",
       "  <thead>\n",
       "    <tr style=\"text-align: right;\">\n",
       "      <th></th>\n",
       "      <th>A</th>\n",
       "      <th>B</th>\n",
       "      <th>C</th>\n",
       "      <th>D</th>\n",
       "      <th>F</th>\n",
       "      <th>E</th>\n",
       "    </tr>\n",
       "  </thead>\n",
       "  <tbody>\n",
       "    <tr>\n",
       "      <th>2013-01-01</th>\n",
       "      <td>0.000000</td>\n",
       "      <td>0.000000</td>\n",
       "      <td>-0.153910</td>\n",
       "      <td>5</td>\n",
       "      <td>5</td>\n",
       "      <td>5</td>\n",
       "    </tr>\n",
       "    <tr>\n",
       "      <th>2013-01-02</th>\n",
       "      <td>0.079060</td>\n",
       "      <td>0.449134</td>\n",
       "      <td>0.333426</td>\n",
       "      <td>5</td>\n",
       "      <td>1</td>\n",
       "      <td>5</td>\n",
       "    </tr>\n",
       "    <tr>\n",
       "      <th>2013-01-03</th>\n",
       "      <td>0.687871</td>\n",
       "      <td>0.819009</td>\n",
       "      <td>0.004782</td>\n",
       "      <td>5</td>\n",
       "      <td>2</td>\n",
       "      <td>5</td>\n",
       "    </tr>\n",
       "    <tr>\n",
       "      <th>2013-01-04</th>\n",
       "      <td>-1.475308</td>\n",
       "      <td>-0.759955</td>\n",
       "      <td>0.469682</td>\n",
       "      <td>5</td>\n",
       "      <td>3</td>\n",
       "      <td>5</td>\n",
       "    </tr>\n",
       "  </tbody>\n",
       "</table>\n",
       "</div>"
      ],
      "text/plain": [
       "                   A         B         C  D  F  E\n",
       "2013-01-01  0.000000  0.000000 -0.153910  5  5  5\n",
       "2013-01-02  0.079060  0.449134  0.333426  5  1  5\n",
       "2013-01-03  0.687871  0.819009  0.004782  5  2  5\n",
       "2013-01-04 -1.475308 -0.759955  0.469682  5  3  5"
      ]
     },
     "execution_count": 68,
     "metadata": {},
     "output_type": "execute_result"
    }
   ],
   "source": [
    "df1.fillna(value=5)"
   ]
  },
  {
   "cell_type": "code",
   "execution_count": 69,
   "metadata": {
    "collapsed": false
   },
   "outputs": [
    {
     "data": {
      "text/html": [
       "<div>\n",
       "<table border=\"1\" class=\"dataframe\">\n",
       "  <thead>\n",
       "    <tr style=\"text-align: right;\">\n",
       "      <th></th>\n",
       "      <th>A</th>\n",
       "      <th>B</th>\n",
       "      <th>C</th>\n",
       "      <th>D</th>\n",
       "      <th>F</th>\n",
       "      <th>E</th>\n",
       "    </tr>\n",
       "  </thead>\n",
       "  <tbody>\n",
       "    <tr>\n",
       "      <th>2013-01-01</th>\n",
       "      <td>False</td>\n",
       "      <td>False</td>\n",
       "      <td>False</td>\n",
       "      <td>False</td>\n",
       "      <td>True</td>\n",
       "      <td>True</td>\n",
       "    </tr>\n",
       "    <tr>\n",
       "      <th>2013-01-02</th>\n",
       "      <td>False</td>\n",
       "      <td>False</td>\n",
       "      <td>False</td>\n",
       "      <td>False</td>\n",
       "      <td>False</td>\n",
       "      <td>True</td>\n",
       "    </tr>\n",
       "    <tr>\n",
       "      <th>2013-01-03</th>\n",
       "      <td>False</td>\n",
       "      <td>False</td>\n",
       "      <td>False</td>\n",
       "      <td>False</td>\n",
       "      <td>False</td>\n",
       "      <td>True</td>\n",
       "    </tr>\n",
       "    <tr>\n",
       "      <th>2013-01-04</th>\n",
       "      <td>False</td>\n",
       "      <td>False</td>\n",
       "      <td>False</td>\n",
       "      <td>False</td>\n",
       "      <td>False</td>\n",
       "      <td>True</td>\n",
       "    </tr>\n",
       "  </tbody>\n",
       "</table>\n",
       "</div>"
      ],
      "text/plain": [
       "                A      B      C      D      F     E\n",
       "2013-01-01  False  False  False  False   True  True\n",
       "2013-01-02  False  False  False  False  False  True\n",
       "2013-01-03  False  False  False  False  False  True\n",
       "2013-01-04  False  False  False  False  False  True"
      ]
     },
     "execution_count": 69,
     "metadata": {},
     "output_type": "execute_result"
    }
   ],
   "source": [
    "pd.isnull(df1)"
   ]
  },
  {
   "cell_type": "code",
   "execution_count": 70,
   "metadata": {
    "collapsed": false
   },
   "outputs": [
    {
     "data": {
      "text/html": [
       "<div>\n",
       "<table border=\"1\" class=\"dataframe\">\n",
       "  <thead>\n",
       "    <tr style=\"text-align: right;\">\n",
       "      <th></th>\n",
       "      <th>A</th>\n",
       "      <th>B</th>\n",
       "      <th>C</th>\n",
       "      <th>D</th>\n",
       "      <th>F</th>\n",
       "    </tr>\n",
       "  </thead>\n",
       "  <tbody>\n",
       "    <tr>\n",
       "      <th>2013-01-01</th>\n",
       "      <td>0.000000</td>\n",
       "      <td>0.000000</td>\n",
       "      <td>-0.153910</td>\n",
       "      <td>5</td>\n",
       "      <td>NaN</td>\n",
       "    </tr>\n",
       "    <tr>\n",
       "      <th>2013-01-02</th>\n",
       "      <td>0.079060</td>\n",
       "      <td>0.449134</td>\n",
       "      <td>0.333426</td>\n",
       "      <td>5</td>\n",
       "      <td>1</td>\n",
       "    </tr>\n",
       "    <tr>\n",
       "      <th>2013-01-03</th>\n",
       "      <td>0.687871</td>\n",
       "      <td>0.819009</td>\n",
       "      <td>0.004782</td>\n",
       "      <td>5</td>\n",
       "      <td>2</td>\n",
       "    </tr>\n",
       "    <tr>\n",
       "      <th>2013-01-04</th>\n",
       "      <td>-1.475308</td>\n",
       "      <td>-0.759955</td>\n",
       "      <td>0.469682</td>\n",
       "      <td>5</td>\n",
       "      <td>3</td>\n",
       "    </tr>\n",
       "    <tr>\n",
       "      <th>2013-01-05</th>\n",
       "      <td>0.032034</td>\n",
       "      <td>-0.478151</td>\n",
       "      <td>-0.042554</td>\n",
       "      <td>5</td>\n",
       "      <td>4</td>\n",
       "    </tr>\n",
       "    <tr>\n",
       "      <th>2013-01-06</th>\n",
       "      <td>-0.887933</td>\n",
       "      <td>-0.998424</td>\n",
       "      <td>0.644169</td>\n",
       "      <td>5</td>\n",
       "      <td>5</td>\n",
       "    </tr>\n",
       "  </tbody>\n",
       "</table>\n",
       "</div>"
      ],
      "text/plain": [
       "                   A         B         C  D   F\n",
       "2013-01-01  0.000000  0.000000 -0.153910  5 NaN\n",
       "2013-01-02  0.079060  0.449134  0.333426  5   1\n",
       "2013-01-03  0.687871  0.819009  0.004782  5   2\n",
       "2013-01-04 -1.475308 -0.759955  0.469682  5   3\n",
       "2013-01-05  0.032034 -0.478151 -0.042554  5   4\n",
       "2013-01-06 -0.887933 -0.998424  0.644169  5   5"
      ]
     },
     "execution_count": 70,
     "metadata": {},
     "output_type": "execute_result"
    }
   ],
   "source": [
    "df"
   ]
  },
  {
   "cell_type": "code",
   "execution_count": 71,
   "metadata": {
    "collapsed": false
   },
   "outputs": [
    {
     "data": {
      "text/plain": [
       "A   -0.260713\n",
       "B   -0.161398\n",
       "C    0.209266\n",
       "D    5.000000\n",
       "F    3.000000\n",
       "dtype: float64"
      ]
     },
     "execution_count": 71,
     "metadata": {},
     "output_type": "execute_result"
    }
   ],
   "source": [
    "df.mean()"
   ]
  },
  {
   "cell_type": "code",
   "execution_count": 72,
   "metadata": {
    "collapsed": false
   },
   "outputs": [
    {
     "data": {
      "text/plain": [
       "2013-01-01    1.211523\n",
       "2013-01-02    1.372324\n",
       "2013-01-03    1.702332\n",
       "2013-01-04    1.246884\n",
       "2013-01-05    1.702266\n",
       "2013-01-06    1.751562\n",
       "Freq: D, dtype: float64"
      ]
     },
     "execution_count": 72,
     "metadata": {},
     "output_type": "execute_result"
    }
   ],
   "source": [
    "df.mean(1)"
   ]
  },
  {
   "cell_type": "code",
   "execution_count": 73,
   "metadata": {
    "collapsed": false
   },
   "outputs": [
    {
     "data": {
      "text/plain": [
       "DatetimeIndex(['2013-01-01', '2013-01-02', '2013-01-03', '2013-01-04',\n",
       "               '2013-01-05', '2013-01-06'],\n",
       "              dtype='datetime64[ns]', freq='D')"
      ]
     },
     "execution_count": 73,
     "metadata": {},
     "output_type": "execute_result"
    }
   ],
   "source": [
    "dates"
   ]
  },
  {
   "cell_type": "code",
   "execution_count": 74,
   "metadata": {
    "collapsed": true
   },
   "outputs": [],
   "source": [
    " s = pd.Series([1,3,5,np.nan,6,8], index=dates).shift(2)"
   ]
  },
  {
   "cell_type": "code",
   "execution_count": 75,
   "metadata": {
    "collapsed": false
   },
   "outputs": [
    {
     "data": {
      "text/plain": [
       "2013-01-01   NaN\n",
       "2013-01-02   NaN\n",
       "2013-01-03     1\n",
       "2013-01-04     3\n",
       "2013-01-05     5\n",
       "2013-01-06   NaN\n",
       "Freq: D, dtype: float64"
      ]
     },
     "execution_count": 75,
     "metadata": {},
     "output_type": "execute_result"
    }
   ],
   "source": [
    "s"
   ]
  },
  {
   "cell_type": "code",
   "execution_count": 76,
   "metadata": {
    "collapsed": false
   },
   "outputs": [
    {
     "data": {
      "text/html": [
       "<div>\n",
       "<table border=\"1\" class=\"dataframe\">\n",
       "  <thead>\n",
       "    <tr style=\"text-align: right;\">\n",
       "      <th></th>\n",
       "      <th>A</th>\n",
       "      <th>B</th>\n",
       "      <th>C</th>\n",
       "      <th>D</th>\n",
       "      <th>F</th>\n",
       "    </tr>\n",
       "  </thead>\n",
       "  <tbody>\n",
       "    <tr>\n",
       "      <th>2013-01-01</th>\n",
       "      <td>0.000000</td>\n",
       "      <td>0.000000</td>\n",
       "      <td>-0.153910</td>\n",
       "      <td>5</td>\n",
       "      <td>NaN</td>\n",
       "    </tr>\n",
       "    <tr>\n",
       "      <th>2013-01-02</th>\n",
       "      <td>0.079060</td>\n",
       "      <td>0.449134</td>\n",
       "      <td>0.333426</td>\n",
       "      <td>5</td>\n",
       "      <td>1</td>\n",
       "    </tr>\n",
       "    <tr>\n",
       "      <th>2013-01-03</th>\n",
       "      <td>0.687871</td>\n",
       "      <td>0.819009</td>\n",
       "      <td>0.004782</td>\n",
       "      <td>5</td>\n",
       "      <td>2</td>\n",
       "    </tr>\n",
       "    <tr>\n",
       "      <th>2013-01-04</th>\n",
       "      <td>-1.475308</td>\n",
       "      <td>-0.759955</td>\n",
       "      <td>0.469682</td>\n",
       "      <td>5</td>\n",
       "      <td>3</td>\n",
       "    </tr>\n",
       "    <tr>\n",
       "      <th>2013-01-05</th>\n",
       "      <td>0.032034</td>\n",
       "      <td>-0.478151</td>\n",
       "      <td>-0.042554</td>\n",
       "      <td>5</td>\n",
       "      <td>4</td>\n",
       "    </tr>\n",
       "    <tr>\n",
       "      <th>2013-01-06</th>\n",
       "      <td>-0.887933</td>\n",
       "      <td>-0.998424</td>\n",
       "      <td>0.644169</td>\n",
       "      <td>5</td>\n",
       "      <td>5</td>\n",
       "    </tr>\n",
       "  </tbody>\n",
       "</table>\n",
       "</div>"
      ],
      "text/plain": [
       "                   A         B         C  D   F\n",
       "2013-01-01  0.000000  0.000000 -0.153910  5 NaN\n",
       "2013-01-02  0.079060  0.449134  0.333426  5   1\n",
       "2013-01-03  0.687871  0.819009  0.004782  5   2\n",
       "2013-01-04 -1.475308 -0.759955  0.469682  5   3\n",
       "2013-01-05  0.032034 -0.478151 -0.042554  5   4\n",
       "2013-01-06 -0.887933 -0.998424  0.644169  5   5"
      ]
     },
     "execution_count": 76,
     "metadata": {},
     "output_type": "execute_result"
    }
   ],
   "source": [
    "df"
   ]
  },
  {
   "cell_type": "code",
   "execution_count": 77,
   "metadata": {
    "collapsed": false
   },
   "outputs": [
    {
     "data": {
      "text/html": [
       "<div>\n",
       "<table border=\"1\" class=\"dataframe\">\n",
       "  <thead>\n",
       "    <tr style=\"text-align: right;\">\n",
       "      <th></th>\n",
       "      <th>A</th>\n",
       "      <th>B</th>\n",
       "      <th>C</th>\n",
       "      <th>D</th>\n",
       "      <th>F</th>\n",
       "    </tr>\n",
       "  </thead>\n",
       "  <tbody>\n",
       "    <tr>\n",
       "      <th>2013-01-01</th>\n",
       "      <td>NaN</td>\n",
       "      <td>NaN</td>\n",
       "      <td>NaN</td>\n",
       "      <td>NaN</td>\n",
       "      <td>NaN</td>\n",
       "    </tr>\n",
       "    <tr>\n",
       "      <th>2013-01-02</th>\n",
       "      <td>NaN</td>\n",
       "      <td>NaN</td>\n",
       "      <td>NaN</td>\n",
       "      <td>NaN</td>\n",
       "      <td>NaN</td>\n",
       "    </tr>\n",
       "    <tr>\n",
       "      <th>2013-01-03</th>\n",
       "      <td>-0.312129</td>\n",
       "      <td>-0.180991</td>\n",
       "      <td>-0.995218</td>\n",
       "      <td>4</td>\n",
       "      <td>1</td>\n",
       "    </tr>\n",
       "    <tr>\n",
       "      <th>2013-01-04</th>\n",
       "      <td>-4.475308</td>\n",
       "      <td>-3.759955</td>\n",
       "      <td>-2.530318</td>\n",
       "      <td>2</td>\n",
       "      <td>0</td>\n",
       "    </tr>\n",
       "    <tr>\n",
       "      <th>2013-01-05</th>\n",
       "      <td>-4.967966</td>\n",
       "      <td>-5.478151</td>\n",
       "      <td>-5.042554</td>\n",
       "      <td>0</td>\n",
       "      <td>-1</td>\n",
       "    </tr>\n",
       "    <tr>\n",
       "      <th>2013-01-06</th>\n",
       "      <td>NaN</td>\n",
       "      <td>NaN</td>\n",
       "      <td>NaN</td>\n",
       "      <td>NaN</td>\n",
       "      <td>NaN</td>\n",
       "    </tr>\n",
       "  </tbody>\n",
       "</table>\n",
       "</div>"
      ],
      "text/plain": [
       "                   A         B         C   D   F\n",
       "2013-01-01       NaN       NaN       NaN NaN NaN\n",
       "2013-01-02       NaN       NaN       NaN NaN NaN\n",
       "2013-01-03 -0.312129 -0.180991 -0.995218   4   1\n",
       "2013-01-04 -4.475308 -3.759955 -2.530318   2   0\n",
       "2013-01-05 -4.967966 -5.478151 -5.042554   0  -1\n",
       "2013-01-06       NaN       NaN       NaN NaN NaN"
      ]
     },
     "execution_count": 77,
     "metadata": {},
     "output_type": "execute_result"
    }
   ],
   "source": [
    "df.sub(s, axis='index')"
   ]
  },
  {
   "cell_type": "code",
   "execution_count": 78,
   "metadata": {
    "collapsed": false
   },
   "outputs": [
    {
     "data": {
      "text/plain": [
       "2013-01-01   NaN\n",
       "2013-01-02   NaN\n",
       "2013-01-03     1\n",
       "2013-01-04     3\n",
       "2013-01-05     5\n",
       "2013-01-06   NaN\n",
       "Freq: D, dtype: float64"
      ]
     },
     "execution_count": 78,
     "metadata": {},
     "output_type": "execute_result"
    }
   ],
   "source": [
    "s"
   ]
  },
  {
   "cell_type": "code",
   "execution_count": 79,
   "metadata": {
    "collapsed": false
   },
   "outputs": [
    {
     "data": {
      "text/html": [
       "<div>\n",
       "<table border=\"1\" class=\"dataframe\">\n",
       "  <thead>\n",
       "    <tr style=\"text-align: right;\">\n",
       "      <th></th>\n",
       "      <th>A</th>\n",
       "      <th>B</th>\n",
       "      <th>C</th>\n",
       "      <th>D</th>\n",
       "      <th>F</th>\n",
       "    </tr>\n",
       "  </thead>\n",
       "  <tbody>\n",
       "    <tr>\n",
       "      <th>2013-01-01</th>\n",
       "      <td>0.000000</td>\n",
       "      <td>0.000000</td>\n",
       "      <td>-0.153910</td>\n",
       "      <td>5</td>\n",
       "      <td>NaN</td>\n",
       "    </tr>\n",
       "    <tr>\n",
       "      <th>2013-01-02</th>\n",
       "      <td>0.079060</td>\n",
       "      <td>0.449134</td>\n",
       "      <td>0.179517</td>\n",
       "      <td>10</td>\n",
       "      <td>1</td>\n",
       "    </tr>\n",
       "    <tr>\n",
       "      <th>2013-01-03</th>\n",
       "      <td>0.766931</td>\n",
       "      <td>1.268143</td>\n",
       "      <td>0.184299</td>\n",
       "      <td>15</td>\n",
       "      <td>3</td>\n",
       "    </tr>\n",
       "    <tr>\n",
       "      <th>2013-01-04</th>\n",
       "      <td>-0.708377</td>\n",
       "      <td>0.508188</td>\n",
       "      <td>0.653981</td>\n",
       "      <td>20</td>\n",
       "      <td>6</td>\n",
       "    </tr>\n",
       "    <tr>\n",
       "      <th>2013-01-05</th>\n",
       "      <td>-0.676343</td>\n",
       "      <td>0.030037</td>\n",
       "      <td>0.611428</td>\n",
       "      <td>25</td>\n",
       "      <td>10</td>\n",
       "    </tr>\n",
       "    <tr>\n",
       "      <th>2013-01-06</th>\n",
       "      <td>-1.564277</td>\n",
       "      <td>-0.968387</td>\n",
       "      <td>1.255597</td>\n",
       "      <td>30</td>\n",
       "      <td>15</td>\n",
       "    </tr>\n",
       "  </tbody>\n",
       "</table>\n",
       "</div>"
      ],
      "text/plain": [
       "                   A         B         C   D   F\n",
       "2013-01-01  0.000000  0.000000 -0.153910   5 NaN\n",
       "2013-01-02  0.079060  0.449134  0.179517  10   1\n",
       "2013-01-03  0.766931  1.268143  0.184299  15   3\n",
       "2013-01-04 -0.708377  0.508188  0.653981  20   6\n",
       "2013-01-05 -0.676343  0.030037  0.611428  25  10\n",
       "2013-01-06 -1.564277 -0.968387  1.255597  30  15"
      ]
     },
     "execution_count": 79,
     "metadata": {},
     "output_type": "execute_result"
    }
   ],
   "source": [
    "df.apply(np.cumsum)"
   ]
  },
  {
   "cell_type": "code",
   "execution_count": 80,
   "metadata": {
    "collapsed": false
   },
   "outputs": [
    {
     "data": {
      "text/html": [
       "<div>\n",
       "<table border=\"1\" class=\"dataframe\">\n",
       "  <thead>\n",
       "    <tr style=\"text-align: right;\">\n",
       "      <th></th>\n",
       "      <th>A</th>\n",
       "      <th>B</th>\n",
       "      <th>C</th>\n",
       "      <th>D</th>\n",
       "      <th>F</th>\n",
       "    </tr>\n",
       "  </thead>\n",
       "  <tbody>\n",
       "    <tr>\n",
       "      <th>2013-01-01</th>\n",
       "      <td>0.000000</td>\n",
       "      <td>0.000000</td>\n",
       "      <td>-0.153910</td>\n",
       "      <td>5</td>\n",
       "      <td>NaN</td>\n",
       "    </tr>\n",
       "    <tr>\n",
       "      <th>2013-01-02</th>\n",
       "      <td>0.079060</td>\n",
       "      <td>0.449134</td>\n",
       "      <td>0.333426</td>\n",
       "      <td>5</td>\n",
       "      <td>1</td>\n",
       "    </tr>\n",
       "    <tr>\n",
       "      <th>2013-01-03</th>\n",
       "      <td>0.687871</td>\n",
       "      <td>0.819009</td>\n",
       "      <td>0.004782</td>\n",
       "      <td>5</td>\n",
       "      <td>2</td>\n",
       "    </tr>\n",
       "    <tr>\n",
       "      <th>2013-01-04</th>\n",
       "      <td>-1.475308</td>\n",
       "      <td>-0.759955</td>\n",
       "      <td>0.469682</td>\n",
       "      <td>5</td>\n",
       "      <td>3</td>\n",
       "    </tr>\n",
       "    <tr>\n",
       "      <th>2013-01-05</th>\n",
       "      <td>0.032034</td>\n",
       "      <td>-0.478151</td>\n",
       "      <td>-0.042554</td>\n",
       "      <td>5</td>\n",
       "      <td>4</td>\n",
       "    </tr>\n",
       "    <tr>\n",
       "      <th>2013-01-06</th>\n",
       "      <td>-0.887933</td>\n",
       "      <td>-0.998424</td>\n",
       "      <td>0.644169</td>\n",
       "      <td>5</td>\n",
       "      <td>5</td>\n",
       "    </tr>\n",
       "  </tbody>\n",
       "</table>\n",
       "</div>"
      ],
      "text/plain": [
       "                   A         B         C  D   F\n",
       "2013-01-01  0.000000  0.000000 -0.153910  5 NaN\n",
       "2013-01-02  0.079060  0.449134  0.333426  5   1\n",
       "2013-01-03  0.687871  0.819009  0.004782  5   2\n",
       "2013-01-04 -1.475308 -0.759955  0.469682  5   3\n",
       "2013-01-05  0.032034 -0.478151 -0.042554  5   4\n",
       "2013-01-06 -0.887933 -0.998424  0.644169  5   5"
      ]
     },
     "execution_count": 80,
     "metadata": {},
     "output_type": "execute_result"
    }
   ],
   "source": [
    "df"
   ]
  },
  {
   "cell_type": "code",
   "execution_count": 81,
   "metadata": {
    "collapsed": false
   },
   "outputs": [
    {
     "data": {
      "text/html": [
       "<div>\n",
       "<table border=\"1\" class=\"dataframe\">\n",
       "  <thead>\n",
       "    <tr style=\"text-align: right;\">\n",
       "      <th></th>\n",
       "      <th>A</th>\n",
       "      <th>B</th>\n",
       "      <th>C</th>\n",
       "      <th>D</th>\n",
       "      <th>F</th>\n",
       "    </tr>\n",
       "  </thead>\n",
       "  <tbody>\n",
       "    <tr>\n",
       "      <th>2013-01-01</th>\n",
       "      <td>0.000000</td>\n",
       "      <td>0.000000</td>\n",
       "      <td>-0.153910</td>\n",
       "      <td>5</td>\n",
       "      <td>NaN</td>\n",
       "    </tr>\n",
       "    <tr>\n",
       "      <th>2013-01-02</th>\n",
       "      <td>0.079060</td>\n",
       "      <td>0.449134</td>\n",
       "      <td>0.179517</td>\n",
       "      <td>10</td>\n",
       "      <td>1</td>\n",
       "    </tr>\n",
       "    <tr>\n",
       "      <th>2013-01-03</th>\n",
       "      <td>0.766931</td>\n",
       "      <td>1.268143</td>\n",
       "      <td>0.184299</td>\n",
       "      <td>15</td>\n",
       "      <td>3</td>\n",
       "    </tr>\n",
       "    <tr>\n",
       "      <th>2013-01-04</th>\n",
       "      <td>-0.708377</td>\n",
       "      <td>0.508188</td>\n",
       "      <td>0.653981</td>\n",
       "      <td>20</td>\n",
       "      <td>6</td>\n",
       "    </tr>\n",
       "    <tr>\n",
       "      <th>2013-01-05</th>\n",
       "      <td>-0.676343</td>\n",
       "      <td>0.030037</td>\n",
       "      <td>0.611428</td>\n",
       "      <td>25</td>\n",
       "      <td>10</td>\n",
       "    </tr>\n",
       "    <tr>\n",
       "      <th>2013-01-06</th>\n",
       "      <td>-1.564277</td>\n",
       "      <td>-0.968387</td>\n",
       "      <td>1.255597</td>\n",
       "      <td>30</td>\n",
       "      <td>15</td>\n",
       "    </tr>\n",
       "  </tbody>\n",
       "</table>\n",
       "</div>"
      ],
      "text/plain": [
       "                   A         B         C   D   F\n",
       "2013-01-01  0.000000  0.000000 -0.153910   5 NaN\n",
       "2013-01-02  0.079060  0.449134  0.179517  10   1\n",
       "2013-01-03  0.766931  1.268143  0.184299  15   3\n",
       "2013-01-04 -0.708377  0.508188  0.653981  20   6\n",
       "2013-01-05 -0.676343  0.030037  0.611428  25  10\n",
       "2013-01-06 -1.564277 -0.968387  1.255597  30  15"
      ]
     },
     "execution_count": 81,
     "metadata": {},
     "output_type": "execute_result"
    }
   ],
   "source": [
    "df.apply(np.cumsum)"
   ]
  },
  {
   "cell_type": "code",
   "execution_count": 82,
   "metadata": {
    "collapsed": true
   },
   "outputs": [],
   "source": [
    "s = pd.Series(np.random.randint(0, 7, size=10))"
   ]
  },
  {
   "cell_type": "code",
   "execution_count": 83,
   "metadata": {
    "collapsed": false
   },
   "outputs": [
    {
     "data": {
      "text/plain": [
       "0    0\n",
       "1    6\n",
       "2    3\n",
       "3    6\n",
       "4    2\n",
       "5    5\n",
       "6    1\n",
       "7    3\n",
       "8    3\n",
       "9    4\n",
       "dtype: int32"
      ]
     },
     "execution_count": 83,
     "metadata": {},
     "output_type": "execute_result"
    }
   ],
   "source": [
    "s"
   ]
  },
  {
   "cell_type": "code",
   "execution_count": 84,
   "metadata": {
    "collapsed": false
   },
   "outputs": [
    {
     "data": {
      "text/plain": [
       "3    3\n",
       "6    2\n",
       "5    1\n",
       "4    1\n",
       "2    1\n",
       "1    1\n",
       "0    1\n",
       "dtype: int64"
      ]
     },
     "execution_count": 84,
     "metadata": {},
     "output_type": "execute_result"
    }
   ],
   "source": [
    "s.value_counts()"
   ]
  },
  {
   "cell_type": "code",
   "execution_count": 85,
   "metadata": {
    "collapsed": true
   },
   "outputs": [],
   "source": [
    "s = pd.Series(['A', 'B', 'C', 'Aaba', 'Baca', np.nan, 'CABA', 'dog', 'cat'])"
   ]
  },
  {
   "cell_type": "code",
   "execution_count": 86,
   "metadata": {
    "collapsed": false
   },
   "outputs": [
    {
     "data": {
      "text/plain": [
       "0       A\n",
       "1       B\n",
       "2       C\n",
       "3    Aaba\n",
       "4    Baca\n",
       "5     NaN\n",
       "6    CABA\n",
       "7     dog\n",
       "8     cat\n",
       "dtype: object"
      ]
     },
     "execution_count": 86,
     "metadata": {},
     "output_type": "execute_result"
    }
   ],
   "source": [
    "s"
   ]
  },
  {
   "cell_type": "code",
   "execution_count": 87,
   "metadata": {
    "collapsed": false
   },
   "outputs": [
    {
     "data": {
      "text/plain": [
       "0       a\n",
       "1       b\n",
       "2       c\n",
       "3    aaba\n",
       "4    baca\n",
       "5     NaN\n",
       "6    caba\n",
       "7     dog\n",
       "8     cat\n",
       "dtype: object"
      ]
     },
     "execution_count": 87,
     "metadata": {},
     "output_type": "execute_result"
    }
   ],
   "source": [
    "s.str.lower()"
   ]
  },
  {
   "cell_type": "code",
   "execution_count": 88,
   "metadata": {
    "collapsed": true
   },
   "outputs": [],
   "source": [
    "df = pd.DataFrame(np.random.randn(10, 4))"
   ]
  },
  {
   "cell_type": "code",
   "execution_count": 89,
   "metadata": {
    "collapsed": false
   },
   "outputs": [
    {
     "data": {
      "text/html": [
       "<div>\n",
       "<table border=\"1\" class=\"dataframe\">\n",
       "  <thead>\n",
       "    <tr style=\"text-align: right;\">\n",
       "      <th></th>\n",
       "      <th>0</th>\n",
       "      <th>1</th>\n",
       "      <th>2</th>\n",
       "      <th>3</th>\n",
       "    </tr>\n",
       "  </thead>\n",
       "  <tbody>\n",
       "    <tr>\n",
       "      <th>0</th>\n",
       "      <td>1.796353</td>\n",
       "      <td>1.671889</td>\n",
       "      <td>-1.096811</td>\n",
       "      <td>0.477183</td>\n",
       "    </tr>\n",
       "    <tr>\n",
       "      <th>1</th>\n",
       "      <td>-0.222112</td>\n",
       "      <td>-0.418191</td>\n",
       "      <td>1.303197</td>\n",
       "      <td>0.656835</td>\n",
       "    </tr>\n",
       "    <tr>\n",
       "      <th>2</th>\n",
       "      <td>-0.638981</td>\n",
       "      <td>-0.233075</td>\n",
       "      <td>0.103479</td>\n",
       "      <td>-1.060755</td>\n",
       "    </tr>\n",
       "    <tr>\n",
       "      <th>3</th>\n",
       "      <td>0.985157</td>\n",
       "      <td>0.436202</td>\n",
       "      <td>-1.799926</td>\n",
       "      <td>0.807265</td>\n",
       "    </tr>\n",
       "    <tr>\n",
       "      <th>4</th>\n",
       "      <td>0.894514</td>\n",
       "      <td>-0.858785</td>\n",
       "      <td>-1.115635</td>\n",
       "      <td>-0.096151</td>\n",
       "    </tr>\n",
       "    <tr>\n",
       "      <th>5</th>\n",
       "      <td>0.581984</td>\n",
       "      <td>0.327658</td>\n",
       "      <td>0.460883</td>\n",
       "      <td>2.083328</td>\n",
       "    </tr>\n",
       "    <tr>\n",
       "      <th>6</th>\n",
       "      <td>1.495337</td>\n",
       "      <td>0.334146</td>\n",
       "      <td>1.250654</td>\n",
       "      <td>0.800978</td>\n",
       "    </tr>\n",
       "    <tr>\n",
       "      <th>7</th>\n",
       "      <td>-1.471434</td>\n",
       "      <td>0.338325</td>\n",
       "      <td>-1.003767</td>\n",
       "      <td>1.095440</td>\n",
       "    </tr>\n",
       "    <tr>\n",
       "      <th>8</th>\n",
       "      <td>1.447407</td>\n",
       "      <td>0.053442</td>\n",
       "      <td>-1.056391</td>\n",
       "      <td>0.193543</td>\n",
       "    </tr>\n",
       "    <tr>\n",
       "      <th>9</th>\n",
       "      <td>-0.644332</td>\n",
       "      <td>-0.567260</td>\n",
       "      <td>-1.664519</td>\n",
       "      <td>-0.626467</td>\n",
       "    </tr>\n",
       "  </tbody>\n",
       "</table>\n",
       "</div>"
      ],
      "text/plain": [
       "          0         1         2         3\n",
       "0  1.796353  1.671889 -1.096811  0.477183\n",
       "1 -0.222112 -0.418191  1.303197  0.656835\n",
       "2 -0.638981 -0.233075  0.103479 -1.060755\n",
       "3  0.985157  0.436202 -1.799926  0.807265\n",
       "4  0.894514 -0.858785 -1.115635 -0.096151\n",
       "5  0.581984  0.327658  0.460883  2.083328\n",
       "6  1.495337  0.334146  1.250654  0.800978\n",
       "7 -1.471434  0.338325 -1.003767  1.095440\n",
       "8  1.447407  0.053442 -1.056391  0.193543\n",
       "9 -0.644332 -0.567260 -1.664519 -0.626467"
      ]
     },
     "execution_count": 89,
     "metadata": {},
     "output_type": "execute_result"
    }
   ],
   "source": [
    "df"
   ]
  },
  {
   "cell_type": "code",
   "execution_count": 90,
   "metadata": {
    "collapsed": true
   },
   "outputs": [],
   "source": [
    "pieces = [df[:3], df[3:7], df[7:]]"
   ]
  },
  {
   "cell_type": "code",
   "execution_count": 91,
   "metadata": {
    "collapsed": false
   },
   "outputs": [
    {
     "data": {
      "text/plain": [
       "[          0         1         2         3\n",
       " 0  1.796353  1.671889 -1.096811  0.477183\n",
       " 1 -0.222112 -0.418191  1.303197  0.656835\n",
       " 2 -0.638981 -0.233075  0.103479 -1.060755,\n",
       "           0         1         2         3\n",
       " 3  0.985157  0.436202 -1.799926  0.807265\n",
       " 4  0.894514 -0.858785 -1.115635 -0.096151\n",
       " 5  0.581984  0.327658  0.460883  2.083328\n",
       " 6  1.495337  0.334146  1.250654  0.800978,\n",
       "           0         1         2         3\n",
       " 7 -1.471434  0.338325 -1.003767  1.095440\n",
       " 8  1.447407  0.053442 -1.056391  0.193543\n",
       " 9 -0.644332 -0.567260 -1.664519 -0.626467]"
      ]
     },
     "execution_count": 91,
     "metadata": {},
     "output_type": "execute_result"
    }
   ],
   "source": [
    "pieces"
   ]
  },
  {
   "cell_type": "code",
   "execution_count": 92,
   "metadata": {
    "collapsed": false
   },
   "outputs": [
    {
     "data": {
      "text/html": [
       "<div>\n",
       "<table border=\"1\" class=\"dataframe\">\n",
       "  <thead>\n",
       "    <tr style=\"text-align: right;\">\n",
       "      <th></th>\n",
       "      <th>0</th>\n",
       "      <th>1</th>\n",
       "      <th>2</th>\n",
       "      <th>3</th>\n",
       "    </tr>\n",
       "  </thead>\n",
       "  <tbody>\n",
       "    <tr>\n",
       "      <th>0</th>\n",
       "      <td>1.796353</td>\n",
       "      <td>1.671889</td>\n",
       "      <td>-1.096811</td>\n",
       "      <td>0.477183</td>\n",
       "    </tr>\n",
       "    <tr>\n",
       "      <th>1</th>\n",
       "      <td>-0.222112</td>\n",
       "      <td>-0.418191</td>\n",
       "      <td>1.303197</td>\n",
       "      <td>0.656835</td>\n",
       "    </tr>\n",
       "    <tr>\n",
       "      <th>2</th>\n",
       "      <td>-0.638981</td>\n",
       "      <td>-0.233075</td>\n",
       "      <td>0.103479</td>\n",
       "      <td>-1.060755</td>\n",
       "    </tr>\n",
       "    <tr>\n",
       "      <th>3</th>\n",
       "      <td>0.985157</td>\n",
       "      <td>0.436202</td>\n",
       "      <td>-1.799926</td>\n",
       "      <td>0.807265</td>\n",
       "    </tr>\n",
       "    <tr>\n",
       "      <th>4</th>\n",
       "      <td>0.894514</td>\n",
       "      <td>-0.858785</td>\n",
       "      <td>-1.115635</td>\n",
       "      <td>-0.096151</td>\n",
       "    </tr>\n",
       "    <tr>\n",
       "      <th>5</th>\n",
       "      <td>0.581984</td>\n",
       "      <td>0.327658</td>\n",
       "      <td>0.460883</td>\n",
       "      <td>2.083328</td>\n",
       "    </tr>\n",
       "    <tr>\n",
       "      <th>6</th>\n",
       "      <td>1.495337</td>\n",
       "      <td>0.334146</td>\n",
       "      <td>1.250654</td>\n",
       "      <td>0.800978</td>\n",
       "    </tr>\n",
       "    <tr>\n",
       "      <th>7</th>\n",
       "      <td>-1.471434</td>\n",
       "      <td>0.338325</td>\n",
       "      <td>-1.003767</td>\n",
       "      <td>1.095440</td>\n",
       "    </tr>\n",
       "    <tr>\n",
       "      <th>8</th>\n",
       "      <td>1.447407</td>\n",
       "      <td>0.053442</td>\n",
       "      <td>-1.056391</td>\n",
       "      <td>0.193543</td>\n",
       "    </tr>\n",
       "    <tr>\n",
       "      <th>9</th>\n",
       "      <td>-0.644332</td>\n",
       "      <td>-0.567260</td>\n",
       "      <td>-1.664519</td>\n",
       "      <td>-0.626467</td>\n",
       "    </tr>\n",
       "  </tbody>\n",
       "</table>\n",
       "</div>"
      ],
      "text/plain": [
       "          0         1         2         3\n",
       "0  1.796353  1.671889 -1.096811  0.477183\n",
       "1 -0.222112 -0.418191  1.303197  0.656835\n",
       "2 -0.638981 -0.233075  0.103479 -1.060755\n",
       "3  0.985157  0.436202 -1.799926  0.807265\n",
       "4  0.894514 -0.858785 -1.115635 -0.096151\n",
       "5  0.581984  0.327658  0.460883  2.083328\n",
       "6  1.495337  0.334146  1.250654  0.800978\n",
       "7 -1.471434  0.338325 -1.003767  1.095440\n",
       "8  1.447407  0.053442 -1.056391  0.193543\n",
       "9 -0.644332 -0.567260 -1.664519 -0.626467"
      ]
     },
     "execution_count": 92,
     "metadata": {},
     "output_type": "execute_result"
    }
   ],
   "source": [
    "pd.concat(pieces)"
   ]
  },
  {
   "cell_type": "code",
   "execution_count": 93,
   "metadata": {
    "collapsed": true
   },
   "outputs": [],
   "source": [
    "left = pd.DataFrame({'key': ['foo', 'foo'], 'lval': [1, 2]})"
   ]
  },
  {
   "cell_type": "code",
   "execution_count": 94,
   "metadata": {
    "collapsed": false
   },
   "outputs": [
    {
     "data": {
      "text/html": [
       "<div>\n",
       "<table border=\"1\" class=\"dataframe\">\n",
       "  <thead>\n",
       "    <tr style=\"text-align: right;\">\n",
       "      <th></th>\n",
       "      <th>key</th>\n",
       "      <th>lval</th>\n",
       "    </tr>\n",
       "  </thead>\n",
       "  <tbody>\n",
       "    <tr>\n",
       "      <th>0</th>\n",
       "      <td>foo</td>\n",
       "      <td>1</td>\n",
       "    </tr>\n",
       "    <tr>\n",
       "      <th>1</th>\n",
       "      <td>foo</td>\n",
       "      <td>2</td>\n",
       "    </tr>\n",
       "  </tbody>\n",
       "</table>\n",
       "</div>"
      ],
      "text/plain": [
       "   key  lval\n",
       "0  foo     1\n",
       "1  foo     2"
      ]
     },
     "execution_count": 94,
     "metadata": {},
     "output_type": "execute_result"
    }
   ],
   "source": [
    "left"
   ]
  },
  {
   "cell_type": "code",
   "execution_count": 95,
   "metadata": {
    "collapsed": true
   },
   "outputs": [],
   "source": [
    " right = pd.DataFrame({'key': ['foo', 'foo'], 'rval': [4, 5]})"
   ]
  },
  {
   "cell_type": "code",
   "execution_count": 96,
   "metadata": {
    "collapsed": false
   },
   "outputs": [
    {
     "data": {
      "text/html": [
       "<div>\n",
       "<table border=\"1\" class=\"dataframe\">\n",
       "  <thead>\n",
       "    <tr style=\"text-align: right;\">\n",
       "      <th></th>\n",
       "      <th>key</th>\n",
       "      <th>rval</th>\n",
       "    </tr>\n",
       "  </thead>\n",
       "  <tbody>\n",
       "    <tr>\n",
       "      <th>0</th>\n",
       "      <td>foo</td>\n",
       "      <td>4</td>\n",
       "    </tr>\n",
       "    <tr>\n",
       "      <th>1</th>\n",
       "      <td>foo</td>\n",
       "      <td>5</td>\n",
       "    </tr>\n",
       "  </tbody>\n",
       "</table>\n",
       "</div>"
      ],
      "text/plain": [
       "   key  rval\n",
       "0  foo     4\n",
       "1  foo     5"
      ]
     },
     "execution_count": 96,
     "metadata": {},
     "output_type": "execute_result"
    }
   ],
   "source": [
    "right"
   ]
  },
  {
   "cell_type": "code",
   "execution_count": 97,
   "metadata": {
    "collapsed": false
   },
   "outputs": [
    {
     "data": {
      "text/html": [
       "<div>\n",
       "<table border=\"1\" class=\"dataframe\">\n",
       "  <thead>\n",
       "    <tr style=\"text-align: right;\">\n",
       "      <th></th>\n",
       "      <th>key</th>\n",
       "      <th>lval</th>\n",
       "      <th>rval</th>\n",
       "    </tr>\n",
       "  </thead>\n",
       "  <tbody>\n",
       "    <tr>\n",
       "      <th>0</th>\n",
       "      <td>foo</td>\n",
       "      <td>1</td>\n",
       "      <td>4</td>\n",
       "    </tr>\n",
       "    <tr>\n",
       "      <th>1</th>\n",
       "      <td>foo</td>\n",
       "      <td>1</td>\n",
       "      <td>5</td>\n",
       "    </tr>\n",
       "    <tr>\n",
       "      <th>2</th>\n",
       "      <td>foo</td>\n",
       "      <td>2</td>\n",
       "      <td>4</td>\n",
       "    </tr>\n",
       "    <tr>\n",
       "      <th>3</th>\n",
       "      <td>foo</td>\n",
       "      <td>2</td>\n",
       "      <td>5</td>\n",
       "    </tr>\n",
       "  </tbody>\n",
       "</table>\n",
       "</div>"
      ],
      "text/plain": [
       "   key  lval  rval\n",
       "0  foo     1     4\n",
       "1  foo     1     5\n",
       "2  foo     2     4\n",
       "3  foo     2     5"
      ]
     },
     "execution_count": 97,
     "metadata": {},
     "output_type": "execute_result"
    }
   ],
   "source": [
    "pd.merge(left, right, on='key')"
   ]
  },
  {
   "cell_type": "code",
   "execution_count": 98,
   "metadata": {
    "collapsed": true
   },
   "outputs": [],
   "source": [
    "df = pd.DataFrame(np.random.randn(8, 4), columns=['A','B','C','D'])"
   ]
  },
  {
   "cell_type": "code",
   "execution_count": 99,
   "metadata": {
    "collapsed": false
   },
   "outputs": [
    {
     "data": {
      "text/html": [
       "<div>\n",
       "<table border=\"1\" class=\"dataframe\">\n",
       "  <thead>\n",
       "    <tr style=\"text-align: right;\">\n",
       "      <th></th>\n",
       "      <th>A</th>\n",
       "      <th>B</th>\n",
       "      <th>C</th>\n",
       "      <th>D</th>\n",
       "    </tr>\n",
       "  </thead>\n",
       "  <tbody>\n",
       "    <tr>\n",
       "      <th>0</th>\n",
       "      <td>1.827990</td>\n",
       "      <td>1.177180</td>\n",
       "      <td>1.526874</td>\n",
       "      <td>0.176576</td>\n",
       "    </tr>\n",
       "    <tr>\n",
       "      <th>1</th>\n",
       "      <td>1.335268</td>\n",
       "      <td>-0.788418</td>\n",
       "      <td>1.885086</td>\n",
       "      <td>-1.022073</td>\n",
       "    </tr>\n",
       "    <tr>\n",
       "      <th>2</th>\n",
       "      <td>0.161495</td>\n",
       "      <td>0.115672</td>\n",
       "      <td>0.195773</td>\n",
       "      <td>-0.307617</td>\n",
       "    </tr>\n",
       "    <tr>\n",
       "      <th>3</th>\n",
       "      <td>1.559138</td>\n",
       "      <td>1.599825</td>\n",
       "      <td>0.815790</td>\n",
       "      <td>0.549556</td>\n",
       "    </tr>\n",
       "    <tr>\n",
       "      <th>4</th>\n",
       "      <td>-0.492847</td>\n",
       "      <td>-0.179839</td>\n",
       "      <td>-2.081423</td>\n",
       "      <td>-0.761020</td>\n",
       "    </tr>\n",
       "    <tr>\n",
       "      <th>5</th>\n",
       "      <td>0.767459</td>\n",
       "      <td>-0.105366</td>\n",
       "      <td>-0.280443</td>\n",
       "      <td>-2.950745</td>\n",
       "    </tr>\n",
       "    <tr>\n",
       "      <th>6</th>\n",
       "      <td>-0.313958</td>\n",
       "      <td>1.229328</td>\n",
       "      <td>0.426375</td>\n",
       "      <td>-0.400016</td>\n",
       "    </tr>\n",
       "    <tr>\n",
       "      <th>7</th>\n",
       "      <td>-0.102007</td>\n",
       "      <td>0.867093</td>\n",
       "      <td>-2.555230</td>\n",
       "      <td>-0.879770</td>\n",
       "    </tr>\n",
       "  </tbody>\n",
       "</table>\n",
       "</div>"
      ],
      "text/plain": [
       "          A         B         C         D\n",
       "0  1.827990  1.177180  1.526874  0.176576\n",
       "1  1.335268 -0.788418  1.885086 -1.022073\n",
       "2  0.161495  0.115672  0.195773 -0.307617\n",
       "3  1.559138  1.599825  0.815790  0.549556\n",
       "4 -0.492847 -0.179839 -2.081423 -0.761020\n",
       "5  0.767459 -0.105366 -0.280443 -2.950745\n",
       "6 -0.313958  1.229328  0.426375 -0.400016\n",
       "7 -0.102007  0.867093 -2.555230 -0.879770"
      ]
     },
     "execution_count": 99,
     "metadata": {},
     "output_type": "execute_result"
    }
   ],
   "source": [
    "df"
   ]
  },
  {
   "cell_type": "code",
   "execution_count": 100,
   "metadata": {
    "collapsed": true
   },
   "outputs": [],
   "source": [
    "s = df.iloc[3]"
   ]
  },
  {
   "cell_type": "code",
   "execution_count": 101,
   "metadata": {
    "collapsed": false
   },
   "outputs": [
    {
     "data": {
      "text/plain": [
       "A    1.559138\n",
       "B    1.599825\n",
       "C    0.815790\n",
       "D    0.549556\n",
       "Name: 3, dtype: float64"
      ]
     },
     "execution_count": 101,
     "metadata": {},
     "output_type": "execute_result"
    }
   ],
   "source": [
    "s"
   ]
  },
  {
   "cell_type": "code",
   "execution_count": 102,
   "metadata": {
    "collapsed": false
   },
   "outputs": [
    {
     "data": {
      "text/html": [
       "<div>\n",
       "<table border=\"1\" class=\"dataframe\">\n",
       "  <thead>\n",
       "    <tr style=\"text-align: right;\">\n",
       "      <th></th>\n",
       "      <th>A</th>\n",
       "      <th>B</th>\n",
       "      <th>C</th>\n",
       "      <th>D</th>\n",
       "    </tr>\n",
       "  </thead>\n",
       "  <tbody>\n",
       "    <tr>\n",
       "      <th>0</th>\n",
       "      <td>1.827990</td>\n",
       "      <td>1.177180</td>\n",
       "      <td>1.526874</td>\n",
       "      <td>0.176576</td>\n",
       "    </tr>\n",
       "    <tr>\n",
       "      <th>1</th>\n",
       "      <td>1.335268</td>\n",
       "      <td>-0.788418</td>\n",
       "      <td>1.885086</td>\n",
       "      <td>-1.022073</td>\n",
       "    </tr>\n",
       "    <tr>\n",
       "      <th>2</th>\n",
       "      <td>0.161495</td>\n",
       "      <td>0.115672</td>\n",
       "      <td>0.195773</td>\n",
       "      <td>-0.307617</td>\n",
       "    </tr>\n",
       "    <tr>\n",
       "      <th>3</th>\n",
       "      <td>1.559138</td>\n",
       "      <td>1.599825</td>\n",
       "      <td>0.815790</td>\n",
       "      <td>0.549556</td>\n",
       "    </tr>\n",
       "    <tr>\n",
       "      <th>4</th>\n",
       "      <td>-0.492847</td>\n",
       "      <td>-0.179839</td>\n",
       "      <td>-2.081423</td>\n",
       "      <td>-0.761020</td>\n",
       "    </tr>\n",
       "    <tr>\n",
       "      <th>5</th>\n",
       "      <td>0.767459</td>\n",
       "      <td>-0.105366</td>\n",
       "      <td>-0.280443</td>\n",
       "      <td>-2.950745</td>\n",
       "    </tr>\n",
       "    <tr>\n",
       "      <th>6</th>\n",
       "      <td>-0.313958</td>\n",
       "      <td>1.229328</td>\n",
       "      <td>0.426375</td>\n",
       "      <td>-0.400016</td>\n",
       "    </tr>\n",
       "    <tr>\n",
       "      <th>7</th>\n",
       "      <td>-0.102007</td>\n",
       "      <td>0.867093</td>\n",
       "      <td>-2.555230</td>\n",
       "      <td>-0.879770</td>\n",
       "    </tr>\n",
       "    <tr>\n",
       "      <th>8</th>\n",
       "      <td>1.559138</td>\n",
       "      <td>1.599825</td>\n",
       "      <td>0.815790</td>\n",
       "      <td>0.549556</td>\n",
       "    </tr>\n",
       "  </tbody>\n",
       "</table>\n",
       "</div>"
      ],
      "text/plain": [
       "          A         B         C         D\n",
       "0  1.827990  1.177180  1.526874  0.176576\n",
       "1  1.335268 -0.788418  1.885086 -1.022073\n",
       "2  0.161495  0.115672  0.195773 -0.307617\n",
       "3  1.559138  1.599825  0.815790  0.549556\n",
       "4 -0.492847 -0.179839 -2.081423 -0.761020\n",
       "5  0.767459 -0.105366 -0.280443 -2.950745\n",
       "6 -0.313958  1.229328  0.426375 -0.400016\n",
       "7 -0.102007  0.867093 -2.555230 -0.879770\n",
       "8  1.559138  1.599825  0.815790  0.549556"
      ]
     },
     "execution_count": 102,
     "metadata": {},
     "output_type": "execute_result"
    }
   ],
   "source": [
    "df.append(s, ignore_index=True)"
   ]
  },
  {
   "cell_type": "code",
   "execution_count": 103,
   "metadata": {
    "collapsed": true
   },
   "outputs": [],
   "source": [
    "df = pd.DataFrame({'A' : ['foo', 'bar', 'foo', 'bar',\n",
    "                           'foo', 'bar', 'foo', 'foo'],\n",
    "                    'B' : ['one', 'one', 'two', 'three',\n",
    "                           'two', 'two', 'one', 'three'],\n",
    "                    'C' : np.random.randn(8),\n",
    "                   'D' : np.random.randn(8)})"
   ]
  },
  {
   "cell_type": "code",
   "execution_count": 104,
   "metadata": {
    "collapsed": false
   },
   "outputs": [
    {
     "data": {
      "text/html": [
       "<div>\n",
       "<table border=\"1\" class=\"dataframe\">\n",
       "  <thead>\n",
       "    <tr style=\"text-align: right;\">\n",
       "      <th></th>\n",
       "      <th>A</th>\n",
       "      <th>B</th>\n",
       "      <th>C</th>\n",
       "      <th>D</th>\n",
       "    </tr>\n",
       "  </thead>\n",
       "  <tbody>\n",
       "    <tr>\n",
       "      <th>0</th>\n",
       "      <td>foo</td>\n",
       "      <td>one</td>\n",
       "      <td>0.792122</td>\n",
       "      <td>-1.146958</td>\n",
       "    </tr>\n",
       "    <tr>\n",
       "      <th>1</th>\n",
       "      <td>bar</td>\n",
       "      <td>one</td>\n",
       "      <td>-1.213527</td>\n",
       "      <td>-0.130744</td>\n",
       "    </tr>\n",
       "    <tr>\n",
       "      <th>2</th>\n",
       "      <td>foo</td>\n",
       "      <td>two</td>\n",
       "      <td>0.837280</td>\n",
       "      <td>-0.420923</td>\n",
       "    </tr>\n",
       "    <tr>\n",
       "      <th>3</th>\n",
       "      <td>bar</td>\n",
       "      <td>three</td>\n",
       "      <td>0.789702</td>\n",
       "      <td>-1.218000</td>\n",
       "    </tr>\n",
       "    <tr>\n",
       "      <th>4</th>\n",
       "      <td>foo</td>\n",
       "      <td>two</td>\n",
       "      <td>-0.749418</td>\n",
       "      <td>0.446900</td>\n",
       "    </tr>\n",
       "    <tr>\n",
       "      <th>5</th>\n",
       "      <td>bar</td>\n",
       "      <td>two</td>\n",
       "      <td>0.520222</td>\n",
       "      <td>-0.448175</td>\n",
       "    </tr>\n",
       "    <tr>\n",
       "      <th>6</th>\n",
       "      <td>foo</td>\n",
       "      <td>one</td>\n",
       "      <td>-1.929398</td>\n",
       "      <td>1.473033</td>\n",
       "    </tr>\n",
       "    <tr>\n",
       "      <th>7</th>\n",
       "      <td>foo</td>\n",
       "      <td>three</td>\n",
       "      <td>0.334668</td>\n",
       "      <td>1.080040</td>\n",
       "    </tr>\n",
       "  </tbody>\n",
       "</table>\n",
       "</div>"
      ],
      "text/plain": [
       "     A      B         C         D\n",
       "0  foo    one  0.792122 -1.146958\n",
       "1  bar    one -1.213527 -0.130744\n",
       "2  foo    two  0.837280 -0.420923\n",
       "3  bar  three  0.789702 -1.218000\n",
       "4  foo    two -0.749418  0.446900\n",
       "5  bar    two  0.520222 -0.448175\n",
       "6  foo    one -1.929398  1.473033\n",
       "7  foo  three  0.334668  1.080040"
      ]
     },
     "execution_count": 104,
     "metadata": {},
     "output_type": "execute_result"
    }
   ],
   "source": [
    "df"
   ]
  },
  {
   "cell_type": "code",
   "execution_count": 105,
   "metadata": {
    "collapsed": false
   },
   "outputs": [
    {
     "data": {
      "text/html": [
       "<div>\n",
       "<table border=\"1\" class=\"dataframe\">\n",
       "  <thead>\n",
       "    <tr style=\"text-align: right;\">\n",
       "      <th></th>\n",
       "      <th>C</th>\n",
       "      <th>D</th>\n",
       "    </tr>\n",
       "    <tr>\n",
       "      <th>A</th>\n",
       "      <th></th>\n",
       "      <th></th>\n",
       "    </tr>\n",
       "  </thead>\n",
       "  <tbody>\n",
       "    <tr>\n",
       "      <th>bar</th>\n",
       "      <td>0.096397</td>\n",
       "      <td>-1.796919</td>\n",
       "    </tr>\n",
       "    <tr>\n",
       "      <th>foo</th>\n",
       "      <td>-0.714746</td>\n",
       "      <td>1.432091</td>\n",
       "    </tr>\n",
       "  </tbody>\n",
       "</table>\n",
       "</div>"
      ],
      "text/plain": [
       "            C         D\n",
       "A                      \n",
       "bar  0.096397 -1.796919\n",
       "foo -0.714746  1.432091"
      ]
     },
     "execution_count": 105,
     "metadata": {},
     "output_type": "execute_result"
    }
   ],
   "source": [
    "df.groupby('A').sum()"
   ]
  },
  {
   "cell_type": "code",
   "execution_count": 106,
   "metadata": {
    "collapsed": false
   },
   "outputs": [
    {
     "data": {
      "text/html": [
       "<div>\n",
       "<table border=\"1\" class=\"dataframe\">\n",
       "  <thead>\n",
       "    <tr style=\"text-align: right;\">\n",
       "      <th></th>\n",
       "      <th></th>\n",
       "      <th>C</th>\n",
       "      <th>D</th>\n",
       "    </tr>\n",
       "    <tr>\n",
       "      <th>A</th>\n",
       "      <th>B</th>\n",
       "      <th></th>\n",
       "      <th></th>\n",
       "    </tr>\n",
       "  </thead>\n",
       "  <tbody>\n",
       "    <tr>\n",
       "      <th rowspan=\"3\" valign=\"top\">bar</th>\n",
       "      <th>one</th>\n",
       "      <td>-1.213527</td>\n",
       "      <td>-0.130744</td>\n",
       "    </tr>\n",
       "    <tr>\n",
       "      <th>three</th>\n",
       "      <td>0.789702</td>\n",
       "      <td>-1.218000</td>\n",
       "    </tr>\n",
       "    <tr>\n",
       "      <th>two</th>\n",
       "      <td>0.520222</td>\n",
       "      <td>-0.448175</td>\n",
       "    </tr>\n",
       "    <tr>\n",
       "      <th rowspan=\"3\" valign=\"top\">foo</th>\n",
       "      <th>one</th>\n",
       "      <td>-1.137276</td>\n",
       "      <td>0.326075</td>\n",
       "    </tr>\n",
       "    <tr>\n",
       "      <th>three</th>\n",
       "      <td>0.334668</td>\n",
       "      <td>1.080040</td>\n",
       "    </tr>\n",
       "    <tr>\n",
       "      <th>two</th>\n",
       "      <td>0.087862</td>\n",
       "      <td>0.025977</td>\n",
       "    </tr>\n",
       "  </tbody>\n",
       "</table>\n",
       "</div>"
      ],
      "text/plain": [
       "                  C         D\n",
       "A   B                        \n",
       "bar one   -1.213527 -0.130744\n",
       "    three  0.789702 -1.218000\n",
       "    two    0.520222 -0.448175\n",
       "foo one   -1.137276  0.326075\n",
       "    three  0.334668  1.080040\n",
       "    two    0.087862  0.025977"
      ]
     },
     "execution_count": 106,
     "metadata": {},
     "output_type": "execute_result"
    }
   ],
   "source": [
    " df.groupby(['A','B']).sum()"
   ]
  },
  {
   "cell_type": "code",
   "execution_count": 107,
   "metadata": {
    "collapsed": false
   },
   "outputs": [
    {
     "data": {
      "text/html": [
       "<div>\n",
       "<table border=\"1\" class=\"dataframe\">\n",
       "  <thead>\n",
       "    <tr style=\"text-align: right;\">\n",
       "      <th></th>\n",
       "      <th>A</th>\n",
       "      <th>B</th>\n",
       "      <th>C</th>\n",
       "      <th>D</th>\n",
       "    </tr>\n",
       "  </thead>\n",
       "  <tbody>\n",
       "    <tr>\n",
       "      <th>0</th>\n",
       "      <td>foo</td>\n",
       "      <td>one</td>\n",
       "      <td>0.792122</td>\n",
       "      <td>-1.146958</td>\n",
       "    </tr>\n",
       "    <tr>\n",
       "      <th>1</th>\n",
       "      <td>bar</td>\n",
       "      <td>one</td>\n",
       "      <td>-1.213527</td>\n",
       "      <td>-0.130744</td>\n",
       "    </tr>\n",
       "    <tr>\n",
       "      <th>2</th>\n",
       "      <td>foo</td>\n",
       "      <td>two</td>\n",
       "      <td>0.837280</td>\n",
       "      <td>-0.420923</td>\n",
       "    </tr>\n",
       "    <tr>\n",
       "      <th>3</th>\n",
       "      <td>bar</td>\n",
       "      <td>three</td>\n",
       "      <td>0.789702</td>\n",
       "      <td>-1.218000</td>\n",
       "    </tr>\n",
       "    <tr>\n",
       "      <th>4</th>\n",
       "      <td>foo</td>\n",
       "      <td>two</td>\n",
       "      <td>-0.749418</td>\n",
       "      <td>0.446900</td>\n",
       "    </tr>\n",
       "    <tr>\n",
       "      <th>5</th>\n",
       "      <td>bar</td>\n",
       "      <td>two</td>\n",
       "      <td>0.520222</td>\n",
       "      <td>-0.448175</td>\n",
       "    </tr>\n",
       "    <tr>\n",
       "      <th>6</th>\n",
       "      <td>foo</td>\n",
       "      <td>one</td>\n",
       "      <td>-1.929398</td>\n",
       "      <td>1.473033</td>\n",
       "    </tr>\n",
       "    <tr>\n",
       "      <th>7</th>\n",
       "      <td>foo</td>\n",
       "      <td>three</td>\n",
       "      <td>0.334668</td>\n",
       "      <td>1.080040</td>\n",
       "    </tr>\n",
       "  </tbody>\n",
       "</table>\n",
       "</div>"
      ],
      "text/plain": [
       "     A      B         C         D\n",
       "0  foo    one  0.792122 -1.146958\n",
       "1  bar    one -1.213527 -0.130744\n",
       "2  foo    two  0.837280 -0.420923\n",
       "3  bar  three  0.789702 -1.218000\n",
       "4  foo    two -0.749418  0.446900\n",
       "5  bar    two  0.520222 -0.448175\n",
       "6  foo    one -1.929398  1.473033\n",
       "7  foo  three  0.334668  1.080040"
      ]
     },
     "execution_count": 107,
     "metadata": {},
     "output_type": "execute_result"
    }
   ],
   "source": [
    "df"
   ]
  },
  {
   "cell_type": "code",
   "execution_count": 108,
   "metadata": {
    "collapsed": false
   },
   "outputs": [
    {
     "data": {
      "text/html": [
       "<div>\n",
       "<table border=\"1\" class=\"dataframe\">\n",
       "  <thead>\n",
       "    <tr style=\"text-align: right;\">\n",
       "      <th></th>\n",
       "      <th></th>\n",
       "      <th>C</th>\n",
       "      <th>D</th>\n",
       "    </tr>\n",
       "    <tr>\n",
       "      <th>A</th>\n",
       "      <th>B</th>\n",
       "      <th></th>\n",
       "      <th></th>\n",
       "    </tr>\n",
       "  </thead>\n",
       "  <tbody>\n",
       "    <tr>\n",
       "      <th rowspan=\"3\" valign=\"top\">bar</th>\n",
       "      <th>one</th>\n",
       "      <td>-1.213527</td>\n",
       "      <td>-0.130744</td>\n",
       "    </tr>\n",
       "    <tr>\n",
       "      <th>three</th>\n",
       "      <td>0.789702</td>\n",
       "      <td>-1.218000</td>\n",
       "    </tr>\n",
       "    <tr>\n",
       "      <th>two</th>\n",
       "      <td>0.520222</td>\n",
       "      <td>-0.448175</td>\n",
       "    </tr>\n",
       "    <tr>\n",
       "      <th rowspan=\"3\" valign=\"top\">foo</th>\n",
       "      <th>one</th>\n",
       "      <td>-1.137276</td>\n",
       "      <td>0.326075</td>\n",
       "    </tr>\n",
       "    <tr>\n",
       "      <th>three</th>\n",
       "      <td>0.334668</td>\n",
       "      <td>1.080040</td>\n",
       "    </tr>\n",
       "    <tr>\n",
       "      <th>two</th>\n",
       "      <td>0.087862</td>\n",
       "      <td>0.025977</td>\n",
       "    </tr>\n",
       "  </tbody>\n",
       "</table>\n",
       "</div>"
      ],
      "text/plain": [
       "                  C         D\n",
       "A   B                        \n",
       "bar one   -1.213527 -0.130744\n",
       "    three  0.789702 -1.218000\n",
       "    two    0.520222 -0.448175\n",
       "foo one   -1.137276  0.326075\n",
       "    three  0.334668  1.080040\n",
       "    two    0.087862  0.025977"
      ]
     },
     "execution_count": 108,
     "metadata": {},
     "output_type": "execute_result"
    }
   ],
   "source": [
    "df.groupby(['A','B']).sum()"
   ]
  },
  {
   "cell_type": "code",
   "execution_count": 109,
   "metadata": {
    "collapsed": true
   },
   "outputs": [],
   "source": [
    " tuples = list(zip(*[['bar', 'bar', 'baz', 'baz',\n",
    "                     'foo', 'foo', 'qux', 'qux'],\n",
    "                    ['one', 'two', 'one', 'two',\n",
    "                     'one', 'two', 'one', 'two']]))"
   ]
  },
  {
   "cell_type": "code",
   "execution_count": 110,
   "metadata": {
    "collapsed": false
   },
   "outputs": [
    {
     "data": {
      "text/plain": [
       "[('bar', 'one'),\n",
       " ('bar', 'two'),\n",
       " ('baz', 'one'),\n",
       " ('baz', 'two'),\n",
       " ('foo', 'one'),\n",
       " ('foo', 'two'),\n",
       " ('qux', 'one'),\n",
       " ('qux', 'two')]"
      ]
     },
     "execution_count": 110,
     "metadata": {},
     "output_type": "execute_result"
    }
   ],
   "source": [
    "tuples"
   ]
  },
  {
   "cell_type": "code",
   "execution_count": 111,
   "metadata": {
    "collapsed": true
   },
   "outputs": [],
   "source": [
    "index = pd.MultiIndex.from_tuples(tuples, names=['first', 'second'])"
   ]
  },
  {
   "cell_type": "code",
   "execution_count": 112,
   "metadata": {
    "collapsed": false
   },
   "outputs": [
    {
     "data": {
      "text/plain": [
       "MultiIndex(levels=[[u'bar', u'baz', u'foo', u'qux'], [u'one', u'two']],\n",
       "           labels=[[0, 0, 1, 1, 2, 2, 3, 3], [0, 1, 0, 1, 0, 1, 0, 1]],\n",
       "           names=[u'first', u'second'])"
      ]
     },
     "execution_count": 112,
     "metadata": {},
     "output_type": "execute_result"
    }
   ],
   "source": [
    "index"
   ]
  },
  {
   "cell_type": "code",
   "execution_count": 113,
   "metadata": {
    "collapsed": true
   },
   "outputs": [],
   "source": [
    "df = pd.DataFrame(np.random.randn(8, 2), index=index, columns=['A', 'B'])"
   ]
  },
  {
   "cell_type": "code",
   "execution_count": 114,
   "metadata": {
    "collapsed": false
   },
   "outputs": [
    {
     "data": {
      "text/html": [
       "<div>\n",
       "<table border=\"1\" class=\"dataframe\">\n",
       "  <thead>\n",
       "    <tr style=\"text-align: right;\">\n",
       "      <th></th>\n",
       "      <th></th>\n",
       "      <th>A</th>\n",
       "      <th>B</th>\n",
       "    </tr>\n",
       "    <tr>\n",
       "      <th>first</th>\n",
       "      <th>second</th>\n",
       "      <th></th>\n",
       "      <th></th>\n",
       "    </tr>\n",
       "  </thead>\n",
       "  <tbody>\n",
       "    <tr>\n",
       "      <th rowspan=\"2\" valign=\"top\">bar</th>\n",
       "      <th>one</th>\n",
       "      <td>0.031217</td>\n",
       "      <td>2.082167</td>\n",
       "    </tr>\n",
       "    <tr>\n",
       "      <th>two</th>\n",
       "      <td>-0.000256</td>\n",
       "      <td>-0.762955</td>\n",
       "    </tr>\n",
       "    <tr>\n",
       "      <th rowspan=\"2\" valign=\"top\">baz</th>\n",
       "      <th>one</th>\n",
       "      <td>1.030173</td>\n",
       "      <td>0.562971</td>\n",
       "    </tr>\n",
       "    <tr>\n",
       "      <th>two</th>\n",
       "      <td>0.228839</td>\n",
       "      <td>-0.035081</td>\n",
       "    </tr>\n",
       "    <tr>\n",
       "      <th rowspan=\"2\" valign=\"top\">foo</th>\n",
       "      <th>one</th>\n",
       "      <td>-0.182410</td>\n",
       "      <td>-0.548838</td>\n",
       "    </tr>\n",
       "    <tr>\n",
       "      <th>two</th>\n",
       "      <td>-0.645222</td>\n",
       "      <td>-0.272800</td>\n",
       "    </tr>\n",
       "    <tr>\n",
       "      <th rowspan=\"2\" valign=\"top\">qux</th>\n",
       "      <th>one</th>\n",
       "      <td>0.151190</td>\n",
       "      <td>-0.723820</td>\n",
       "    </tr>\n",
       "    <tr>\n",
       "      <th>two</th>\n",
       "      <td>-0.257843</td>\n",
       "      <td>0.589542</td>\n",
       "    </tr>\n",
       "  </tbody>\n",
       "</table>\n",
       "</div>"
      ],
      "text/plain": [
       "                     A         B\n",
       "first second                    \n",
       "bar   one     0.031217  2.082167\n",
       "      two    -0.000256 -0.762955\n",
       "baz   one     1.030173  0.562971\n",
       "      two     0.228839 -0.035081\n",
       "foo   one    -0.182410 -0.548838\n",
       "      two    -0.645222 -0.272800\n",
       "qux   one     0.151190 -0.723820\n",
       "      two    -0.257843  0.589542"
      ]
     },
     "execution_count": 114,
     "metadata": {},
     "output_type": "execute_result"
    }
   ],
   "source": [
    "df"
   ]
  },
  {
   "cell_type": "code",
   "execution_count": 115,
   "metadata": {
    "collapsed": true
   },
   "outputs": [],
   "source": [
    " df2 = df[:4]"
   ]
  },
  {
   "cell_type": "code",
   "execution_count": 116,
   "metadata": {
    "collapsed": false
   },
   "outputs": [
    {
     "data": {
      "text/html": [
       "<div>\n",
       "<table border=\"1\" class=\"dataframe\">\n",
       "  <thead>\n",
       "    <tr style=\"text-align: right;\">\n",
       "      <th></th>\n",
       "      <th></th>\n",
       "      <th>A</th>\n",
       "      <th>B</th>\n",
       "    </tr>\n",
       "    <tr>\n",
       "      <th>first</th>\n",
       "      <th>second</th>\n",
       "      <th></th>\n",
       "      <th></th>\n",
       "    </tr>\n",
       "  </thead>\n",
       "  <tbody>\n",
       "    <tr>\n",
       "      <th rowspan=\"2\" valign=\"top\">bar</th>\n",
       "      <th>one</th>\n",
       "      <td>0.031217</td>\n",
       "      <td>2.082167</td>\n",
       "    </tr>\n",
       "    <tr>\n",
       "      <th>two</th>\n",
       "      <td>-0.000256</td>\n",
       "      <td>-0.762955</td>\n",
       "    </tr>\n",
       "    <tr>\n",
       "      <th rowspan=\"2\" valign=\"top\">baz</th>\n",
       "      <th>one</th>\n",
       "      <td>1.030173</td>\n",
       "      <td>0.562971</td>\n",
       "    </tr>\n",
       "    <tr>\n",
       "      <th>two</th>\n",
       "      <td>0.228839</td>\n",
       "      <td>-0.035081</td>\n",
       "    </tr>\n",
       "  </tbody>\n",
       "</table>\n",
       "</div>"
      ],
      "text/plain": [
       "                     A         B\n",
       "first second                    \n",
       "bar   one     0.031217  2.082167\n",
       "      two    -0.000256 -0.762955\n",
       "baz   one     1.030173  0.562971\n",
       "      two     0.228839 -0.035081"
      ]
     },
     "execution_count": 116,
     "metadata": {},
     "output_type": "execute_result"
    }
   ],
   "source": [
    "df2"
   ]
  },
  {
   "cell_type": "code",
   "execution_count": 117,
   "metadata": {
    "collapsed": true
   },
   "outputs": [],
   "source": [
    "stacked = df2.stack()"
   ]
  },
  {
   "cell_type": "code",
   "execution_count": 118,
   "metadata": {
    "collapsed": false
   },
   "outputs": [
    {
     "data": {
      "text/plain": [
       "first  second   \n",
       "bar    one     A    0.031217\n",
       "               B    2.082167\n",
       "       two     A   -0.000256\n",
       "               B   -0.762955\n",
       "baz    one     A    1.030173\n",
       "               B    0.562971\n",
       "       two     A    0.228839\n",
       "               B   -0.035081\n",
       "dtype: float64"
      ]
     },
     "execution_count": 118,
     "metadata": {},
     "output_type": "execute_result"
    }
   ],
   "source": [
    "stacked"
   ]
  },
  {
   "cell_type": "code",
   "execution_count": 119,
   "metadata": {
    "collapsed": false
   },
   "outputs": [
    {
     "data": {
      "text/html": [
       "<div>\n",
       "<table border=\"1\" class=\"dataframe\">\n",
       "  <thead>\n",
       "    <tr style=\"text-align: right;\">\n",
       "      <th></th>\n",
       "      <th></th>\n",
       "      <th>A</th>\n",
       "      <th>B</th>\n",
       "    </tr>\n",
       "    <tr>\n",
       "      <th>first</th>\n",
       "      <th>second</th>\n",
       "      <th></th>\n",
       "      <th></th>\n",
       "    </tr>\n",
       "  </thead>\n",
       "  <tbody>\n",
       "    <tr>\n",
       "      <th rowspan=\"2\" valign=\"top\">bar</th>\n",
       "      <th>one</th>\n",
       "      <td>0.031217</td>\n",
       "      <td>2.082167</td>\n",
       "    </tr>\n",
       "    <tr>\n",
       "      <th>two</th>\n",
       "      <td>-0.000256</td>\n",
       "      <td>-0.762955</td>\n",
       "    </tr>\n",
       "    <tr>\n",
       "      <th rowspan=\"2\" valign=\"top\">baz</th>\n",
       "      <th>one</th>\n",
       "      <td>1.030173</td>\n",
       "      <td>0.562971</td>\n",
       "    </tr>\n",
       "    <tr>\n",
       "      <th>two</th>\n",
       "      <td>0.228839</td>\n",
       "      <td>-0.035081</td>\n",
       "    </tr>\n",
       "  </tbody>\n",
       "</table>\n",
       "</div>"
      ],
      "text/plain": [
       "                     A         B\n",
       "first second                    \n",
       "bar   one     0.031217  2.082167\n",
       "      two    -0.000256 -0.762955\n",
       "baz   one     1.030173  0.562971\n",
       "      two     0.228839 -0.035081"
      ]
     },
     "execution_count": 119,
     "metadata": {},
     "output_type": "execute_result"
    }
   ],
   "source": [
    "stacked.unstack()"
   ]
  },
  {
   "cell_type": "code",
   "execution_count": 120,
   "metadata": {
    "collapsed": false
   },
   "outputs": [
    {
     "data": {
      "text/plain": [
       "first  second   \n",
       "bar    one     A    0.031217\n",
       "               B    2.082167\n",
       "       two     A   -0.000256\n",
       "               B   -0.762955\n",
       "baz    one     A    1.030173\n",
       "               B    0.562971\n",
       "       two     A    0.228839\n",
       "               B   -0.035081\n",
       "dtype: float64"
      ]
     },
     "execution_count": 120,
     "metadata": {},
     "output_type": "execute_result"
    }
   ],
   "source": [
    "stacked"
   ]
  },
  {
   "cell_type": "code",
   "execution_count": 121,
   "metadata": {
    "collapsed": false
   },
   "outputs": [
    {
     "data": {
      "text/html": [
       "<div>\n",
       "<table border=\"1\" class=\"dataframe\">\n",
       "  <thead>\n",
       "    <tr style=\"text-align: right;\">\n",
       "      <th></th>\n",
       "      <th></th>\n",
       "      <th>A</th>\n",
       "      <th>B</th>\n",
       "    </tr>\n",
       "    <tr>\n",
       "      <th>first</th>\n",
       "      <th>second</th>\n",
       "      <th></th>\n",
       "      <th></th>\n",
       "    </tr>\n",
       "  </thead>\n",
       "  <tbody>\n",
       "    <tr>\n",
       "      <th rowspan=\"2\" valign=\"top\">bar</th>\n",
       "      <th>one</th>\n",
       "      <td>0.031217</td>\n",
       "      <td>2.082167</td>\n",
       "    </tr>\n",
       "    <tr>\n",
       "      <th>two</th>\n",
       "      <td>-0.000256</td>\n",
       "      <td>-0.762955</td>\n",
       "    </tr>\n",
       "    <tr>\n",
       "      <th rowspan=\"2\" valign=\"top\">baz</th>\n",
       "      <th>one</th>\n",
       "      <td>1.030173</td>\n",
       "      <td>0.562971</td>\n",
       "    </tr>\n",
       "    <tr>\n",
       "      <th>two</th>\n",
       "      <td>0.228839</td>\n",
       "      <td>-0.035081</td>\n",
       "    </tr>\n",
       "  </tbody>\n",
       "</table>\n",
       "</div>"
      ],
      "text/plain": [
       "                     A         B\n",
       "first second                    \n",
       "bar   one     0.031217  2.082167\n",
       "      two    -0.000256 -0.762955\n",
       "baz   one     1.030173  0.562971\n",
       "      two     0.228839 -0.035081"
      ]
     },
     "execution_count": 121,
     "metadata": {},
     "output_type": "execute_result"
    }
   ],
   "source": [
    "stacked.unstack()"
   ]
  },
  {
   "cell_type": "code",
   "execution_count": 122,
   "metadata": {
    "collapsed": true
   },
   "outputs": [],
   "source": [
    " df = pd.DataFrame({'A' : ['one', 'one', 'two', 'three'] * 3,\n",
    "                   'B' : ['A', 'B', 'C'] * 4,\n",
    "                    'C' : ['foo', 'foo', 'foo', 'bar', 'bar', 'bar'] * 2,\n",
    "                    'D' : np.random.randn(12),\n",
    "                    'E' : np.random.randn(12)})"
   ]
  },
  {
   "cell_type": "code",
   "execution_count": 123,
   "metadata": {
    "collapsed": false
   },
   "outputs": [
    {
     "data": {
      "text/html": [
       "<div>\n",
       "<table border=\"1\" class=\"dataframe\">\n",
       "  <thead>\n",
       "    <tr style=\"text-align: right;\">\n",
       "      <th></th>\n",
       "      <th>A</th>\n",
       "      <th>B</th>\n",
       "      <th>C</th>\n",
       "      <th>D</th>\n",
       "      <th>E</th>\n",
       "    </tr>\n",
       "  </thead>\n",
       "  <tbody>\n",
       "    <tr>\n",
       "      <th>0</th>\n",
       "      <td>one</td>\n",
       "      <td>A</td>\n",
       "      <td>foo</td>\n",
       "      <td>1.065657</td>\n",
       "      <td>0.226158</td>\n",
       "    </tr>\n",
       "    <tr>\n",
       "      <th>1</th>\n",
       "      <td>one</td>\n",
       "      <td>B</td>\n",
       "      <td>foo</td>\n",
       "      <td>1.790985</td>\n",
       "      <td>0.264702</td>\n",
       "    </tr>\n",
       "    <tr>\n",
       "      <th>2</th>\n",
       "      <td>two</td>\n",
       "      <td>C</td>\n",
       "      <td>foo</td>\n",
       "      <td>-0.979936</td>\n",
       "      <td>1.168910</td>\n",
       "    </tr>\n",
       "    <tr>\n",
       "      <th>3</th>\n",
       "      <td>three</td>\n",
       "      <td>A</td>\n",
       "      <td>bar</td>\n",
       "      <td>0.327782</td>\n",
       "      <td>-0.314447</td>\n",
       "    </tr>\n",
       "    <tr>\n",
       "      <th>4</th>\n",
       "      <td>one</td>\n",
       "      <td>B</td>\n",
       "      <td>bar</td>\n",
       "      <td>0.214070</td>\n",
       "      <td>0.450483</td>\n",
       "    </tr>\n",
       "    <tr>\n",
       "      <th>5</th>\n",
       "      <td>one</td>\n",
       "      <td>C</td>\n",
       "      <td>bar</td>\n",
       "      <td>-0.719710</td>\n",
       "      <td>-0.011267</td>\n",
       "    </tr>\n",
       "    <tr>\n",
       "      <th>6</th>\n",
       "      <td>two</td>\n",
       "      <td>A</td>\n",
       "      <td>foo</td>\n",
       "      <td>0.129029</td>\n",
       "      <td>-0.163272</td>\n",
       "    </tr>\n",
       "    <tr>\n",
       "      <th>7</th>\n",
       "      <td>three</td>\n",
       "      <td>B</td>\n",
       "      <td>foo</td>\n",
       "      <td>0.517524</td>\n",
       "      <td>-2.086867</td>\n",
       "    </tr>\n",
       "    <tr>\n",
       "      <th>8</th>\n",
       "      <td>one</td>\n",
       "      <td>C</td>\n",
       "      <td>foo</td>\n",
       "      <td>-0.454144</td>\n",
       "      <td>1.381202</td>\n",
       "    </tr>\n",
       "    <tr>\n",
       "      <th>9</th>\n",
       "      <td>one</td>\n",
       "      <td>A</td>\n",
       "      <td>bar</td>\n",
       "      <td>-1.192996</td>\n",
       "      <td>1.884366</td>\n",
       "    </tr>\n",
       "    <tr>\n",
       "      <th>10</th>\n",
       "      <td>two</td>\n",
       "      <td>B</td>\n",
       "      <td>bar</td>\n",
       "      <td>0.164565</td>\n",
       "      <td>-0.223062</td>\n",
       "    </tr>\n",
       "    <tr>\n",
       "      <th>11</th>\n",
       "      <td>three</td>\n",
       "      <td>C</td>\n",
       "      <td>bar</td>\n",
       "      <td>-0.125630</td>\n",
       "      <td>-0.368982</td>\n",
       "    </tr>\n",
       "  </tbody>\n",
       "</table>\n",
       "</div>"
      ],
      "text/plain": [
       "        A  B    C         D         E\n",
       "0     one  A  foo  1.065657  0.226158\n",
       "1     one  B  foo  1.790985  0.264702\n",
       "2     two  C  foo -0.979936  1.168910\n",
       "3   three  A  bar  0.327782 -0.314447\n",
       "4     one  B  bar  0.214070  0.450483\n",
       "5     one  C  bar -0.719710 -0.011267\n",
       "6     two  A  foo  0.129029 -0.163272\n",
       "7   three  B  foo  0.517524 -2.086867\n",
       "8     one  C  foo -0.454144  1.381202\n",
       "9     one  A  bar -1.192996  1.884366\n",
       "10    two  B  bar  0.164565 -0.223062\n",
       "11  three  C  bar -0.125630 -0.368982"
      ]
     },
     "execution_count": 123,
     "metadata": {},
     "output_type": "execute_result"
    }
   ],
   "source": [
    "df"
   ]
  },
  {
   "cell_type": "code",
   "execution_count": 124,
   "metadata": {
    "collapsed": false
   },
   "outputs": [
    {
     "data": {
      "text/html": [
       "<div>\n",
       "<table border=\"1\" class=\"dataframe\">\n",
       "  <thead>\n",
       "    <tr style=\"text-align: right;\">\n",
       "      <th></th>\n",
       "      <th>C</th>\n",
       "      <th>bar</th>\n",
       "      <th>foo</th>\n",
       "    </tr>\n",
       "    <tr>\n",
       "      <th>A</th>\n",
       "      <th>B</th>\n",
       "      <th></th>\n",
       "      <th></th>\n",
       "    </tr>\n",
       "  </thead>\n",
       "  <tbody>\n",
       "    <tr>\n",
       "      <th rowspan=\"3\" valign=\"top\">one</th>\n",
       "      <th>A</th>\n",
       "      <td>-1.192996</td>\n",
       "      <td>1.065657</td>\n",
       "    </tr>\n",
       "    <tr>\n",
       "      <th>B</th>\n",
       "      <td>0.214070</td>\n",
       "      <td>1.790985</td>\n",
       "    </tr>\n",
       "    <tr>\n",
       "      <th>C</th>\n",
       "      <td>-0.719710</td>\n",
       "      <td>-0.454144</td>\n",
       "    </tr>\n",
       "    <tr>\n",
       "      <th rowspan=\"3\" valign=\"top\">three</th>\n",
       "      <th>A</th>\n",
       "      <td>0.327782</td>\n",
       "      <td>NaN</td>\n",
       "    </tr>\n",
       "    <tr>\n",
       "      <th>B</th>\n",
       "      <td>NaN</td>\n",
       "      <td>0.517524</td>\n",
       "    </tr>\n",
       "    <tr>\n",
       "      <th>C</th>\n",
       "      <td>-0.125630</td>\n",
       "      <td>NaN</td>\n",
       "    </tr>\n",
       "    <tr>\n",
       "      <th rowspan=\"3\" valign=\"top\">two</th>\n",
       "      <th>A</th>\n",
       "      <td>NaN</td>\n",
       "      <td>0.129029</td>\n",
       "    </tr>\n",
       "    <tr>\n",
       "      <th>B</th>\n",
       "      <td>0.164565</td>\n",
       "      <td>NaN</td>\n",
       "    </tr>\n",
       "    <tr>\n",
       "      <th>C</th>\n",
       "      <td>NaN</td>\n",
       "      <td>-0.979936</td>\n",
       "    </tr>\n",
       "  </tbody>\n",
       "</table>\n",
       "</div>"
      ],
      "text/plain": [
       "C             bar       foo\n",
       "A     B                    \n",
       "one   A -1.192996  1.065657\n",
       "      B  0.214070  1.790985\n",
       "      C -0.719710 -0.454144\n",
       "three A  0.327782       NaN\n",
       "      B       NaN  0.517524\n",
       "      C -0.125630       NaN\n",
       "two   A       NaN  0.129029\n",
       "      B  0.164565       NaN\n",
       "      C       NaN -0.979936"
      ]
     },
     "execution_count": 124,
     "metadata": {},
     "output_type": "execute_result"
    }
   ],
   "source": [
    "pd.pivot_table(df, values='D', index=['A', 'B'], columns=['C'])"
   ]
  },
  {
   "cell_type": "code",
   "execution_count": 125,
   "metadata": {
    "collapsed": true
   },
   "outputs": [],
   "source": [
    "rng = pd.date_range('1/1/2012', periods=100, freq='S')"
   ]
  },
  {
   "cell_type": "code",
   "execution_count": 126,
   "metadata": {
    "collapsed": false
   },
   "outputs": [
    {
     "data": {
      "text/plain": [
       "DatetimeIndex(['2012-01-01 00:00:00', '2012-01-01 00:00:01',\n",
       "               '2012-01-01 00:00:02', '2012-01-01 00:00:03',\n",
       "               '2012-01-01 00:00:04', '2012-01-01 00:00:05',\n",
       "               '2012-01-01 00:00:06', '2012-01-01 00:00:07',\n",
       "               '2012-01-01 00:00:08', '2012-01-01 00:00:09',\n",
       "               '2012-01-01 00:00:10', '2012-01-01 00:00:11',\n",
       "               '2012-01-01 00:00:12', '2012-01-01 00:00:13',\n",
       "               '2012-01-01 00:00:14', '2012-01-01 00:00:15',\n",
       "               '2012-01-01 00:00:16', '2012-01-01 00:00:17',\n",
       "               '2012-01-01 00:00:18', '2012-01-01 00:00:19',\n",
       "               '2012-01-01 00:00:20', '2012-01-01 00:00:21',\n",
       "               '2012-01-01 00:00:22', '2012-01-01 00:00:23',\n",
       "               '2012-01-01 00:00:24', '2012-01-01 00:00:25',\n",
       "               '2012-01-01 00:00:26', '2012-01-01 00:00:27',\n",
       "               '2012-01-01 00:00:28', '2012-01-01 00:00:29',\n",
       "               '2012-01-01 00:00:30', '2012-01-01 00:00:31',\n",
       "               '2012-01-01 00:00:32', '2012-01-01 00:00:33',\n",
       "               '2012-01-01 00:00:34', '2012-01-01 00:00:35',\n",
       "               '2012-01-01 00:00:36', '2012-01-01 00:00:37',\n",
       "               '2012-01-01 00:00:38', '2012-01-01 00:00:39',\n",
       "               '2012-01-01 00:00:40', '2012-01-01 00:00:41',\n",
       "               '2012-01-01 00:00:42', '2012-01-01 00:00:43',\n",
       "               '2012-01-01 00:00:44', '2012-01-01 00:00:45',\n",
       "               '2012-01-01 00:00:46', '2012-01-01 00:00:47',\n",
       "               '2012-01-01 00:00:48', '2012-01-01 00:00:49',\n",
       "               '2012-01-01 00:00:50', '2012-01-01 00:00:51',\n",
       "               '2012-01-01 00:00:52', '2012-01-01 00:00:53',\n",
       "               '2012-01-01 00:00:54', '2012-01-01 00:00:55',\n",
       "               '2012-01-01 00:00:56', '2012-01-01 00:00:57',\n",
       "               '2012-01-01 00:00:58', '2012-01-01 00:00:59',\n",
       "               '2012-01-01 00:01:00', '2012-01-01 00:01:01',\n",
       "               '2012-01-01 00:01:02', '2012-01-01 00:01:03',\n",
       "               '2012-01-01 00:01:04', '2012-01-01 00:01:05',\n",
       "               '2012-01-01 00:01:06', '2012-01-01 00:01:07',\n",
       "               '2012-01-01 00:01:08', '2012-01-01 00:01:09',\n",
       "               '2012-01-01 00:01:10', '2012-01-01 00:01:11',\n",
       "               '2012-01-01 00:01:12', '2012-01-01 00:01:13',\n",
       "               '2012-01-01 00:01:14', '2012-01-01 00:01:15',\n",
       "               '2012-01-01 00:01:16', '2012-01-01 00:01:17',\n",
       "               '2012-01-01 00:01:18', '2012-01-01 00:01:19',\n",
       "               '2012-01-01 00:01:20', '2012-01-01 00:01:21',\n",
       "               '2012-01-01 00:01:22', '2012-01-01 00:01:23',\n",
       "               '2012-01-01 00:01:24', '2012-01-01 00:01:25',\n",
       "               '2012-01-01 00:01:26', '2012-01-01 00:01:27',\n",
       "               '2012-01-01 00:01:28', '2012-01-01 00:01:29',\n",
       "               '2012-01-01 00:01:30', '2012-01-01 00:01:31',\n",
       "               '2012-01-01 00:01:32', '2012-01-01 00:01:33',\n",
       "               '2012-01-01 00:01:34', '2012-01-01 00:01:35',\n",
       "               '2012-01-01 00:01:36', '2012-01-01 00:01:37',\n",
       "               '2012-01-01 00:01:38', '2012-01-01 00:01:39'],\n",
       "              dtype='datetime64[ns]', freq='S')"
      ]
     },
     "execution_count": 126,
     "metadata": {},
     "output_type": "execute_result"
    }
   ],
   "source": [
    "rng"
   ]
  },
  {
   "cell_type": "code",
   "execution_count": 127,
   "metadata": {
    "collapsed": true
   },
   "outputs": [],
   "source": [
    "ts = pd.Series(np.random.randint(0, 500, len(rng)), index=rng)"
   ]
  },
  {
   "cell_type": "code",
   "execution_count": 128,
   "metadata": {
    "collapsed": false
   },
   "outputs": [
    {
     "data": {
      "text/plain": [
       "2012-01-01 00:00:00     39\n",
       "2012-01-01 00:00:01    235\n",
       "2012-01-01 00:00:02    217\n",
       "2012-01-01 00:00:03    152\n",
       "2012-01-01 00:00:04    486\n",
       "2012-01-01 00:00:05    133\n",
       "2012-01-01 00:00:06    398\n",
       "2012-01-01 00:00:07    364\n",
       "2012-01-01 00:00:08      1\n",
       "2012-01-01 00:00:09     36\n",
       "2012-01-01 00:00:10     36\n",
       "2012-01-01 00:00:11    305\n",
       "2012-01-01 00:00:12     78\n",
       "2012-01-01 00:00:13     64\n",
       "2012-01-01 00:00:14     52\n",
       "2012-01-01 00:00:15    395\n",
       "2012-01-01 00:00:16    131\n",
       "2012-01-01 00:00:17    432\n",
       "2012-01-01 00:00:18     38\n",
       "2012-01-01 00:00:19    405\n",
       "2012-01-01 00:00:20    294\n",
       "2012-01-01 00:00:21    232\n",
       "2012-01-01 00:00:22     26\n",
       "2012-01-01 00:00:23    276\n",
       "2012-01-01 00:00:24    264\n",
       "2012-01-01 00:00:25    265\n",
       "2012-01-01 00:00:26    212\n",
       "2012-01-01 00:00:27    215\n",
       "2012-01-01 00:00:28    203\n",
       "2012-01-01 00:00:29    380\n",
       "                      ... \n",
       "2012-01-01 00:01:10    468\n",
       "2012-01-01 00:01:11    258\n",
       "2012-01-01 00:01:12    270\n",
       "2012-01-01 00:01:13     52\n",
       "2012-01-01 00:01:14    487\n",
       "2012-01-01 00:01:15     46\n",
       "2012-01-01 00:01:16    149\n",
       "2012-01-01 00:01:17      9\n",
       "2012-01-01 00:01:18    283\n",
       "2012-01-01 00:01:19    273\n",
       "2012-01-01 00:01:20    127\n",
       "2012-01-01 00:01:21    405\n",
       "2012-01-01 00:01:22     47\n",
       "2012-01-01 00:01:23    280\n",
       "2012-01-01 00:01:24     51\n",
       "2012-01-01 00:01:25     54\n",
       "2012-01-01 00:01:26     55\n",
       "2012-01-01 00:01:27     15\n",
       "2012-01-01 00:01:28    435\n",
       "2012-01-01 00:01:29     97\n",
       "2012-01-01 00:01:30    292\n",
       "2012-01-01 00:01:31    306\n",
       "2012-01-01 00:01:32     37\n",
       "2012-01-01 00:01:33    311\n",
       "2012-01-01 00:01:34    163\n",
       "2012-01-01 00:01:35      8\n",
       "2012-01-01 00:01:36    185\n",
       "2012-01-01 00:01:37    169\n",
       "2012-01-01 00:01:38     58\n",
       "2012-01-01 00:01:39     83\n",
       "Freq: S, dtype: int32"
      ]
     },
     "execution_count": 128,
     "metadata": {},
     "output_type": "execute_result"
    }
   ],
   "source": [
    "ts"
   ]
  },
  {
   "cell_type": "code",
   "execution_count": 129,
   "metadata": {
    "collapsed": false
   },
   "outputs": [
    {
     "data": {
      "text/plain": [
       "225.59"
      ]
     },
     "execution_count": 129,
     "metadata": {},
     "output_type": "execute_result"
    }
   ],
   "source": [
    "ts.resample('5Min').sum()"
   ]
  },
  {
   "cell_type": "code",
   "execution_count": 130,
   "metadata": {
    "collapsed": false
   },
   "outputs": [
    {
     "data": {
      "text/plain": [
       "225.59"
      ]
     },
     "execution_count": 130,
     "metadata": {},
     "output_type": "execute_result"
    }
   ],
   "source": [
    "ts.resample('5Min').mean()"
   ]
  },
  {
   "cell_type": "code",
   "execution_count": 131,
   "metadata": {
    "collapsed": false
   },
   "outputs": [
    {
     "data": {
      "text/plain": [
       "225.59"
      ]
     },
     "execution_count": 131,
     "metadata": {},
     "output_type": "execute_result"
    }
   ],
   "source": [
    "ts.resample('5Min').sum()"
   ]
  },
  {
   "cell_type": "code",
   "execution_count": 132,
   "metadata": {
    "collapsed": false
   },
   "outputs": [
    {
     "data": {
      "text/plain": [
       "2012-01-01    225.59\n",
       "Freq: 5T, dtype: float64"
      ]
     },
     "execution_count": 132,
     "metadata": {},
     "output_type": "execute_result"
    }
   ],
   "source": [
    "ts.resample('5Min')"
   ]
  },
  {
   "cell_type": "code",
   "execution_count": 133,
   "metadata": {
    "collapsed": true
   },
   "outputs": [],
   "source": [
    "rng = pd.date_range('3/6/2012 00:00', periods=5, freq='D')"
   ]
  },
  {
   "cell_type": "code",
   "execution_count": 134,
   "metadata": {
    "collapsed": false
   },
   "outputs": [
    {
     "data": {
      "text/plain": [
       "DatetimeIndex(['2012-03-06', '2012-03-07', '2012-03-08', '2012-03-09',\n",
       "               '2012-03-10'],\n",
       "              dtype='datetime64[ns]', freq='D')"
      ]
     },
     "execution_count": 134,
     "metadata": {},
     "output_type": "execute_result"
    }
   ],
   "source": [
    "rng"
   ]
  },
  {
   "cell_type": "code",
   "execution_count": 135,
   "metadata": {
    "collapsed": true
   },
   "outputs": [],
   "source": [
    "ts = pd.Series(np.random.randn(len(rng)), rng)"
   ]
  },
  {
   "cell_type": "code",
   "execution_count": 136,
   "metadata": {
    "collapsed": false
   },
   "outputs": [
    {
     "data": {
      "text/plain": [
       "2012-03-06   -1.097840\n",
       "2012-03-07   -0.991245\n",
       "2012-03-08    2.203291\n",
       "2012-03-09    0.758252\n",
       "2012-03-10    0.189092\n",
       "Freq: D, dtype: float64"
      ]
     },
     "execution_count": 136,
     "metadata": {},
     "output_type": "execute_result"
    }
   ],
   "source": [
    "ts"
   ]
  },
  {
   "cell_type": "code",
   "execution_count": 137,
   "metadata": {
    "collapsed": true
   },
   "outputs": [],
   "source": [
    "ts_utc = ts.tz_localize('UTC')"
   ]
  },
  {
   "cell_type": "code",
   "execution_count": 138,
   "metadata": {
    "collapsed": false
   },
   "outputs": [
    {
     "data": {
      "text/plain": [
       "2012-03-06 00:00:00+00:00   -1.097840\n",
       "2012-03-07 00:00:00+00:00   -0.991245\n",
       "2012-03-08 00:00:00+00:00    2.203291\n",
       "2012-03-09 00:00:00+00:00    0.758252\n",
       "2012-03-10 00:00:00+00:00    0.189092\n",
       "Freq: D, dtype: float64"
      ]
     },
     "execution_count": 138,
     "metadata": {},
     "output_type": "execute_result"
    }
   ],
   "source": [
    "ts_utc"
   ]
  },
  {
   "cell_type": "code",
   "execution_count": 139,
   "metadata": {
    "collapsed": false
   },
   "outputs": [
    {
     "data": {
      "text/plain": [
       "2012-03-05 19:00:00-05:00   -1.097840\n",
       "2012-03-06 19:00:00-05:00   -0.991245\n",
       "2012-03-07 19:00:00-05:00    2.203291\n",
       "2012-03-08 19:00:00-05:00    0.758252\n",
       "2012-03-09 19:00:00-05:00    0.189092\n",
       "Freq: D, dtype: float64"
      ]
     },
     "execution_count": 139,
     "metadata": {},
     "output_type": "execute_result"
    }
   ],
   "source": [
    "ts_utc.tz_convert('US/Eastern')"
   ]
  },
  {
   "cell_type": "code",
   "execution_count": 140,
   "metadata": {
    "collapsed": true
   },
   "outputs": [],
   "source": [
    "rng = pd.date_range('1/1/2012', periods=5, freq='M')"
   ]
  },
  {
   "cell_type": "code",
   "execution_count": 141,
   "metadata": {
    "collapsed": false
   },
   "outputs": [
    {
     "data": {
      "text/plain": [
       "DatetimeIndex(['2012-01-31', '2012-02-29', '2012-03-31', '2012-04-30',\n",
       "               '2012-05-31'],\n",
       "              dtype='datetime64[ns]', freq='M')"
      ]
     },
     "execution_count": 141,
     "metadata": {},
     "output_type": "execute_result"
    }
   ],
   "source": [
    "rng"
   ]
  },
  {
   "cell_type": "code",
   "execution_count": 142,
   "metadata": {
    "collapsed": true
   },
   "outputs": [],
   "source": [
    "ts = pd.Series(np.random.randn(len(rng)), index=rng)"
   ]
  },
  {
   "cell_type": "code",
   "execution_count": 143,
   "metadata": {
    "collapsed": false
   },
   "outputs": [
    {
     "data": {
      "text/plain": [
       "2012-01-31   -0.214376\n",
       "2012-02-29    1.198012\n",
       "2012-03-31    0.339700\n",
       "2012-04-30   -0.547156\n",
       "2012-05-31    1.538832\n",
       "Freq: M, dtype: float64"
      ]
     },
     "execution_count": 143,
     "metadata": {},
     "output_type": "execute_result"
    }
   ],
   "source": [
    "ts"
   ]
  },
  {
   "cell_type": "code",
   "execution_count": 144,
   "metadata": {
    "collapsed": true
   },
   "outputs": [],
   "source": [
    "ps = ts.to_period()"
   ]
  },
  {
   "cell_type": "code",
   "execution_count": 145,
   "metadata": {
    "collapsed": false
   },
   "outputs": [
    {
     "data": {
      "text/plain": [
       "2012-01   -0.214376\n",
       "2012-02    1.198012\n",
       "2012-03    0.339700\n",
       "2012-04   -0.547156\n",
       "2012-05    1.538832\n",
       "Freq: M, dtype: float64"
      ]
     },
     "execution_count": 145,
     "metadata": {},
     "output_type": "execute_result"
    }
   ],
   "source": [
    "ps"
   ]
  },
  {
   "cell_type": "code",
   "execution_count": 146,
   "metadata": {
    "collapsed": false
   },
   "outputs": [
    {
     "data": {
      "text/plain": [
       "2012-01-01   -0.214376\n",
       "2012-02-01    1.198012\n",
       "2012-03-01    0.339700\n",
       "2012-04-01   -0.547156\n",
       "2012-05-01    1.538832\n",
       "Freq: MS, dtype: float64"
      ]
     },
     "execution_count": 146,
     "metadata": {},
     "output_type": "execute_result"
    }
   ],
   "source": [
    "ps.to_timestamp()"
   ]
  },
  {
   "cell_type": "code",
   "execution_count": 147,
   "metadata": {
    "collapsed": true
   },
   "outputs": [],
   "source": [
    "prng = pd.period_range('1990Q1', '2000Q4', freq='Q-NOV')"
   ]
  },
  {
   "cell_type": "code",
   "execution_count": 148,
   "metadata": {
    "collapsed": false
   },
   "outputs": [
    {
     "data": {
      "text/plain": [
       "PeriodIndex(['1990Q1', '1990Q2', '1990Q3', '1990Q4', '1991Q1', '1991Q2',\n",
       "             '1991Q3', '1991Q4', '1992Q1', '1992Q2', '1992Q3', '1992Q4',\n",
       "             '1993Q1', '1993Q2', '1993Q3', '1993Q4', '1994Q1', '1994Q2',\n",
       "             '1994Q3', '1994Q4', '1995Q1', '1995Q2', '1995Q3', '1995Q4',\n",
       "             '1996Q1', '1996Q2', '1996Q3', '1996Q4', '1997Q1', '1997Q2',\n",
       "             '1997Q3', '1997Q4', '1998Q1', '1998Q2', '1998Q3', '1998Q4',\n",
       "             '1999Q1', '1999Q2', '1999Q3', '1999Q4', '2000Q1', '2000Q2',\n",
       "             '2000Q3', '2000Q4'],\n",
       "            dtype='int64', freq='Q-NOV')"
      ]
     },
     "execution_count": 148,
     "metadata": {},
     "output_type": "execute_result"
    }
   ],
   "source": [
    "prng"
   ]
  },
  {
   "cell_type": "code",
   "execution_count": 149,
   "metadata": {
    "collapsed": true
   },
   "outputs": [],
   "source": [
    "ts = pd.Series(np.random.randn(len(prng)), prng)"
   ]
  },
  {
   "cell_type": "code",
   "execution_count": 150,
   "metadata": {
    "collapsed": false
   },
   "outputs": [
    {
     "data": {
      "text/plain": [
       "1990Q1    1.044303\n",
       "1990Q2    0.449026\n",
       "1990Q3    0.674796\n",
       "1990Q4   -1.837794\n",
       "1991Q1    0.165967\n",
       "1991Q2   -0.352605\n",
       "1991Q3    1.078952\n",
       "1991Q4   -0.834263\n",
       "1992Q1    0.077199\n",
       "1992Q2    0.768042\n",
       "1992Q3    0.156199\n",
       "1992Q4   -0.708764\n",
       "1993Q1   -0.711471\n",
       "1993Q2    0.703929\n",
       "1993Q3   -1.379523\n",
       "1993Q4    0.176308\n",
       "1994Q1    0.645028\n",
       "1994Q2    3.203791\n",
       "1994Q3    2.777504\n",
       "1994Q4    0.078346\n",
       "1995Q1    1.819953\n",
       "1995Q2   -1.487370\n",
       "1995Q3   -1.301598\n",
       "1995Q4   -2.485084\n",
       "1996Q1    1.156784\n",
       "1996Q2   -1.205935\n",
       "1996Q3   -0.445322\n",
       "1996Q4    0.763067\n",
       "1997Q1    1.253767\n",
       "1997Q2   -1.540099\n",
       "1997Q3    0.713095\n",
       "1997Q4   -1.636315\n",
       "1998Q1    1.218018\n",
       "1998Q2   -0.570844\n",
       "1998Q3   -0.742364\n",
       "1998Q4   -0.002177\n",
       "1999Q1    0.616897\n",
       "1999Q2   -1.858610\n",
       "1999Q3   -0.319084\n",
       "1999Q4   -0.070896\n",
       "2000Q1    1.544945\n",
       "2000Q2   -2.178741\n",
       "2000Q3    0.370402\n",
       "2000Q4    1.116195\n",
       "Freq: Q-NOV, dtype: float64"
      ]
     },
     "execution_count": 150,
     "metadata": {},
     "output_type": "execute_result"
    }
   ],
   "source": [
    "ts"
   ]
  },
  {
   "cell_type": "code",
   "execution_count": 151,
   "metadata": {
    "collapsed": true
   },
   "outputs": [],
   "source": [
    "ts.index = (prng.asfreq('M', 'e') + 1).asfreq('H', 's') + 9"
   ]
  },
  {
   "cell_type": "code",
   "execution_count": 152,
   "metadata": {
    "collapsed": false
   },
   "outputs": [
    {
     "data": {
      "text/plain": [
       "1990-03-01 09:00    1.044303\n",
       "1990-06-01 09:00    0.449026\n",
       "1990-09-01 09:00    0.674796\n",
       "1990-12-01 09:00   -1.837794\n",
       "1991-03-01 09:00    0.165967\n",
       "1991-06-01 09:00   -0.352605\n",
       "1991-09-01 09:00    1.078952\n",
       "1991-12-01 09:00   -0.834263\n",
       "1992-03-01 09:00    0.077199\n",
       "1992-06-01 09:00    0.768042\n",
       "1992-09-01 09:00    0.156199\n",
       "1992-12-01 09:00   -0.708764\n",
       "1993-03-01 09:00   -0.711471\n",
       "1993-06-01 09:00    0.703929\n",
       "1993-09-01 09:00   -1.379523\n",
       "1993-12-01 09:00    0.176308\n",
       "1994-03-01 09:00    0.645028\n",
       "1994-06-01 09:00    3.203791\n",
       "1994-09-01 09:00    2.777504\n",
       "1994-12-01 09:00    0.078346\n",
       "1995-03-01 09:00    1.819953\n",
       "1995-06-01 09:00   -1.487370\n",
       "1995-09-01 09:00   -1.301598\n",
       "1995-12-01 09:00   -2.485084\n",
       "1996-03-01 09:00    1.156784\n",
       "1996-06-01 09:00   -1.205935\n",
       "1996-09-01 09:00   -0.445322\n",
       "1996-12-01 09:00    0.763067\n",
       "1997-03-01 09:00    1.253767\n",
       "1997-06-01 09:00   -1.540099\n",
       "1997-09-01 09:00    0.713095\n",
       "1997-12-01 09:00   -1.636315\n",
       "1998-03-01 09:00    1.218018\n",
       "1998-06-01 09:00   -0.570844\n",
       "1998-09-01 09:00   -0.742364\n",
       "1998-12-01 09:00   -0.002177\n",
       "1999-03-01 09:00    0.616897\n",
       "1999-06-01 09:00   -1.858610\n",
       "1999-09-01 09:00   -0.319084\n",
       "1999-12-01 09:00   -0.070896\n",
       "2000-03-01 09:00    1.544945\n",
       "2000-06-01 09:00   -2.178741\n",
       "2000-09-01 09:00    0.370402\n",
       "2000-12-01 09:00    1.116195\n",
       "Freq: H, dtype: float64"
      ]
     },
     "execution_count": 152,
     "metadata": {},
     "output_type": "execute_result"
    }
   ],
   "source": [
    "ts"
   ]
  },
  {
   "cell_type": "code",
   "execution_count": 153,
   "metadata": {
    "collapsed": true
   },
   "outputs": [],
   "source": [
    "df = pd.DataFrame({\"id\":[1,2,3,4,5,6], \"raw_grade\":['a', 'b', 'b', 'a', 'a', 'e']})"
   ]
  },
  {
   "cell_type": "code",
   "execution_count": 154,
   "metadata": {
    "collapsed": false
   },
   "outputs": [
    {
     "data": {
      "text/html": [
       "<div>\n",
       "<table border=\"1\" class=\"dataframe\">\n",
       "  <thead>\n",
       "    <tr style=\"text-align: right;\">\n",
       "      <th></th>\n",
       "      <th>id</th>\n",
       "      <th>raw_grade</th>\n",
       "    </tr>\n",
       "  </thead>\n",
       "  <tbody>\n",
       "    <tr>\n",
       "      <th>0</th>\n",
       "      <td>1</td>\n",
       "      <td>a</td>\n",
       "    </tr>\n",
       "    <tr>\n",
       "      <th>1</th>\n",
       "      <td>2</td>\n",
       "      <td>b</td>\n",
       "    </tr>\n",
       "    <tr>\n",
       "      <th>2</th>\n",
       "      <td>3</td>\n",
       "      <td>b</td>\n",
       "    </tr>\n",
       "    <tr>\n",
       "      <th>3</th>\n",
       "      <td>4</td>\n",
       "      <td>a</td>\n",
       "    </tr>\n",
       "    <tr>\n",
       "      <th>4</th>\n",
       "      <td>5</td>\n",
       "      <td>a</td>\n",
       "    </tr>\n",
       "    <tr>\n",
       "      <th>5</th>\n",
       "      <td>6</td>\n",
       "      <td>e</td>\n",
       "    </tr>\n",
       "  </tbody>\n",
       "</table>\n",
       "</div>"
      ],
      "text/plain": [
       "   id raw_grade\n",
       "0   1         a\n",
       "1   2         b\n",
       "2   3         b\n",
       "3   4         a\n",
       "4   5         a\n",
       "5   6         e"
      ]
     },
     "execution_count": 154,
     "metadata": {},
     "output_type": "execute_result"
    }
   ],
   "source": [
    "df"
   ]
  },
  {
   "cell_type": "code",
   "execution_count": 155,
   "metadata": {
    "collapsed": true
   },
   "outputs": [],
   "source": [
    "df[\"grade\"] = df[\"raw_grade\"].astype(\"category\")"
   ]
  },
  {
   "cell_type": "code",
   "execution_count": 156,
   "metadata": {
    "collapsed": false
   },
   "outputs": [
    {
     "data": {
      "text/plain": [
       "0    a\n",
       "1    b\n",
       "2    b\n",
       "3    a\n",
       "4    a\n",
       "5    e\n",
       "Name: grade, dtype: category\n",
       "Categories (3, object): [a, b, e]"
      ]
     },
     "execution_count": 156,
     "metadata": {},
     "output_type": "execute_result"
    }
   ],
   "source": [
    "df[\"grade\"]"
   ]
  },
  {
   "cell_type": "code",
   "execution_count": 157,
   "metadata": {
    "collapsed": false
   },
   "outputs": [
    {
     "data": {
      "text/html": [
       "<div>\n",
       "<table border=\"1\" class=\"dataframe\">\n",
       "  <thead>\n",
       "    <tr style=\"text-align: right;\">\n",
       "      <th></th>\n",
       "      <th>id</th>\n",
       "      <th>raw_grade</th>\n",
       "      <th>grade</th>\n",
       "    </tr>\n",
       "  </thead>\n",
       "  <tbody>\n",
       "    <tr>\n",
       "      <th>0</th>\n",
       "      <td>1</td>\n",
       "      <td>a</td>\n",
       "      <td>a</td>\n",
       "    </tr>\n",
       "    <tr>\n",
       "      <th>1</th>\n",
       "      <td>2</td>\n",
       "      <td>b</td>\n",
       "      <td>b</td>\n",
       "    </tr>\n",
       "    <tr>\n",
       "      <th>2</th>\n",
       "      <td>3</td>\n",
       "      <td>b</td>\n",
       "      <td>b</td>\n",
       "    </tr>\n",
       "    <tr>\n",
       "      <th>3</th>\n",
       "      <td>4</td>\n",
       "      <td>a</td>\n",
       "      <td>a</td>\n",
       "    </tr>\n",
       "    <tr>\n",
       "      <th>4</th>\n",
       "      <td>5</td>\n",
       "      <td>a</td>\n",
       "      <td>a</td>\n",
       "    </tr>\n",
       "    <tr>\n",
       "      <th>5</th>\n",
       "      <td>6</td>\n",
       "      <td>e</td>\n",
       "      <td>e</td>\n",
       "    </tr>\n",
       "  </tbody>\n",
       "</table>\n",
       "</div>"
      ],
      "text/plain": [
       "   id raw_grade grade\n",
       "0   1         a     a\n",
       "1   2         b     b\n",
       "2   3         b     b\n",
       "3   4         a     a\n",
       "4   5         a     a\n",
       "5   6         e     e"
      ]
     },
     "execution_count": 157,
     "metadata": {},
     "output_type": "execute_result"
    }
   ],
   "source": [
    "df"
   ]
  },
  {
   "cell_type": "code",
   "execution_count": 158,
   "metadata": {
    "collapsed": true
   },
   "outputs": [],
   "source": [
    "df[\"grade\"].cat.categories = [\"very good\", \"good\", \"very bad\"]"
   ]
  },
  {
   "cell_type": "code",
   "execution_count": 159,
   "metadata": {
    "collapsed": true
   },
   "outputs": [],
   "source": [
    "df[\"grade\"] = df[\"grade\"].cat.set_categories([\"very bad\", \"bad\", \"medium\", \"good\", \"very good\"])"
   ]
  },
  {
   "cell_type": "code",
   "execution_count": 160,
   "metadata": {
    "collapsed": false
   },
   "outputs": [
    {
     "data": {
      "text/plain": [
       "0    very good\n",
       "1         good\n",
       "2         good\n",
       "3    very good\n",
       "4    very good\n",
       "5     very bad\n",
       "Name: grade, dtype: category\n",
       "Categories (5, object): [very bad, bad, medium, good, very good]"
      ]
     },
     "execution_count": 160,
     "metadata": {},
     "output_type": "execute_result"
    }
   ],
   "source": [
    " df[\"grade\"]"
   ]
  },
  {
   "cell_type": "code",
   "execution_count": 161,
   "metadata": {
    "collapsed": false
   },
   "outputs": [
    {
     "data": {
      "text/html": [
       "<div>\n",
       "<table border=\"1\" class=\"dataframe\">\n",
       "  <thead>\n",
       "    <tr style=\"text-align: right;\">\n",
       "      <th></th>\n",
       "      <th>id</th>\n",
       "      <th>raw_grade</th>\n",
       "      <th>grade</th>\n",
       "    </tr>\n",
       "  </thead>\n",
       "  <tbody>\n",
       "    <tr>\n",
       "      <th>5</th>\n",
       "      <td>6</td>\n",
       "      <td>e</td>\n",
       "      <td>very bad</td>\n",
       "    </tr>\n",
       "    <tr>\n",
       "      <th>1</th>\n",
       "      <td>2</td>\n",
       "      <td>b</td>\n",
       "      <td>good</td>\n",
       "    </tr>\n",
       "    <tr>\n",
       "      <th>2</th>\n",
       "      <td>3</td>\n",
       "      <td>b</td>\n",
       "      <td>good</td>\n",
       "    </tr>\n",
       "    <tr>\n",
       "      <th>0</th>\n",
       "      <td>1</td>\n",
       "      <td>a</td>\n",
       "      <td>very good</td>\n",
       "    </tr>\n",
       "    <tr>\n",
       "      <th>3</th>\n",
       "      <td>4</td>\n",
       "      <td>a</td>\n",
       "      <td>very good</td>\n",
       "    </tr>\n",
       "    <tr>\n",
       "      <th>4</th>\n",
       "      <td>5</td>\n",
       "      <td>a</td>\n",
       "      <td>very good</td>\n",
       "    </tr>\n",
       "  </tbody>\n",
       "</table>\n",
       "</div>"
      ],
      "text/plain": [
       "   id raw_grade      grade\n",
       "5   6         e   very bad\n",
       "1   2         b       good\n",
       "2   3         b       good\n",
       "0   1         a  very good\n",
       "3   4         a  very good\n",
       "4   5         a  very good"
      ]
     },
     "execution_count": 161,
     "metadata": {},
     "output_type": "execute_result"
    }
   ],
   "source": [
    "df.sort_values(by=\"grade\")"
   ]
  },
  {
   "cell_type": "code",
   "execution_count": null,
   "metadata": {
    "collapsed": true
   },
   "outputs": [],
   "source": []
  },
  {
   "cell_type": "code",
   "execution_count": 162,
   "metadata": {
    "collapsed": true
   },
   "outputs": [],
   "source": [
    "ts = pd.Series(np.random.randn(1000), index=pd.date_range('1/1/2000', periods=1000))"
   ]
  },
  {
   "cell_type": "code",
   "execution_count": 163,
   "metadata": {
    "collapsed": false
   },
   "outputs": [
    {
     "data": {
      "text/plain": [
       "2000-01-01   -0.899752\n",
       "2000-01-02    0.516661\n",
       "2000-01-03   -0.936262\n",
       "2000-01-04   -1.076392\n",
       "2000-01-05    1.338865\n",
       "2000-01-06    0.793579\n",
       "2000-01-07    0.839005\n",
       "2000-01-08    0.413567\n",
       "2000-01-09    0.152959\n",
       "2000-01-10   -0.729209\n",
       "2000-01-11    0.263191\n",
       "2000-01-12    0.299866\n",
       "2000-01-13    0.352526\n",
       "2000-01-14   -0.961485\n",
       "2000-01-15   -1.432568\n",
       "2000-01-16   -0.625775\n",
       "2000-01-17   -0.293195\n",
       "2000-01-18   -1.188360\n",
       "2000-01-19    1.453728\n",
       "2000-01-20    0.189737\n",
       "2000-01-21    0.926224\n",
       "2000-01-22    0.243392\n",
       "2000-01-23    0.589964\n",
       "2000-01-24    1.610375\n",
       "2000-01-25    0.921754\n",
       "2000-01-26    0.469186\n",
       "2000-01-27   -0.911914\n",
       "2000-01-28    1.893913\n",
       "2000-01-29   -0.376855\n",
       "2000-01-30   -0.444890\n",
       "                ...   \n",
       "2002-08-28    1.154245\n",
       "2002-08-29    0.039195\n",
       "2002-08-30   -1.816525\n",
       "2002-08-31   -0.440224\n",
       "2002-09-01    0.941851\n",
       "2002-09-02    0.916788\n",
       "2002-09-03   -0.686617\n",
       "2002-09-04   -0.806447\n",
       "2002-09-05    0.111719\n",
       "2002-09-06   -1.424909\n",
       "2002-09-07   -0.903814\n",
       "2002-09-08    0.112781\n",
       "2002-09-09   -0.440344\n",
       "2002-09-10    0.081496\n",
       "2002-09-11    0.464063\n",
       "2002-09-12    0.879342\n",
       "2002-09-13    1.512622\n",
       "2002-09-14    1.031325\n",
       "2002-09-15    0.998000\n",
       "2002-09-16    0.404169\n",
       "2002-09-17    0.035289\n",
       "2002-09-18   -1.210788\n",
       "2002-09-19   -0.449898\n",
       "2002-09-20    0.085613\n",
       "2002-09-21   -1.044357\n",
       "2002-09-22   -0.130391\n",
       "2002-09-23    0.506866\n",
       "2002-09-24   -0.189365\n",
       "2002-09-25   -0.218110\n",
       "2002-09-26   -0.123043\n",
       "Freq: D, dtype: float64"
      ]
     },
     "execution_count": 163,
     "metadata": {},
     "output_type": "execute_result"
    }
   ],
   "source": [
    "ts"
   ]
  },
  {
   "cell_type": "code",
   "execution_count": 164,
   "metadata": {
    "collapsed": true
   },
   "outputs": [],
   "source": [
    "ts = ts.cumsum()"
   ]
  },
  {
   "cell_type": "code",
   "execution_count": 165,
   "metadata": {
    "collapsed": false
   },
   "outputs": [
    {
     "data": {
      "text/plain": [
       "2000-01-01   -0.899752\n",
       "2000-01-02   -0.383091\n",
       "2000-01-03   -1.319352\n",
       "2000-01-04   -2.395744\n",
       "2000-01-05   -1.056879\n",
       "2000-01-06   -0.263300\n",
       "2000-01-07    0.575705\n",
       "2000-01-08    0.989272\n",
       "2000-01-09    1.142231\n",
       "2000-01-10    0.413022\n",
       "2000-01-11    0.676214\n",
       "2000-01-12    0.976079\n",
       "2000-01-13    1.328605\n",
       "2000-01-14    0.367120\n",
       "2000-01-15   -1.065448\n",
       "2000-01-16   -1.691223\n",
       "2000-01-17   -1.984418\n",
       "2000-01-18   -3.172778\n",
       "2000-01-19   -1.719050\n",
       "2000-01-20   -1.529313\n",
       "2000-01-21   -0.603089\n",
       "2000-01-22   -0.359697\n",
       "2000-01-23    0.230267\n",
       "2000-01-24    1.840643\n",
       "2000-01-25    2.762396\n",
       "2000-01-26    3.231583\n",
       "2000-01-27    2.319669\n",
       "2000-01-28    4.213582\n",
       "2000-01-29    3.836727\n",
       "2000-01-30    3.391837\n",
       "                ...   \n",
       "2002-08-28   -2.564944\n",
       "2002-08-29   -2.525749\n",
       "2002-08-30   -4.342274\n",
       "2002-08-31   -4.782498\n",
       "2002-09-01   -3.840647\n",
       "2002-09-02   -2.923859\n",
       "2002-09-03   -3.610476\n",
       "2002-09-04   -4.416923\n",
       "2002-09-05   -4.305204\n",
       "2002-09-06   -5.730113\n",
       "2002-09-07   -6.633927\n",
       "2002-09-08   -6.521147\n",
       "2002-09-09   -6.961491\n",
       "2002-09-10   -6.879995\n",
       "2002-09-11   -6.415932\n",
       "2002-09-12   -5.536590\n",
       "2002-09-13   -4.023968\n",
       "2002-09-14   -2.992643\n",
       "2002-09-15   -1.994642\n",
       "2002-09-16   -1.590474\n",
       "2002-09-17   -1.555185\n",
       "2002-09-18   -2.765973\n",
       "2002-09-19   -3.215872\n",
       "2002-09-20   -3.130259\n",
       "2002-09-21   -4.174615\n",
       "2002-09-22   -4.305006\n",
       "2002-09-23   -3.798140\n",
       "2002-09-24   -3.987505\n",
       "2002-09-25   -4.205615\n",
       "2002-09-26   -4.328658\n",
       "Freq: D, dtype: float64"
      ]
     },
     "execution_count": 165,
     "metadata": {},
     "output_type": "execute_result"
    }
   ],
   "source": [
    "ts"
   ]
  },
  {
   "cell_type": "code",
   "execution_count": 166,
   "metadata": {
    "collapsed": false
   },
   "outputs": [
    {
     "data": {
      "text/plain": [
       "<matplotlib.axes._subplots.AxesSubplot at 0x9a85940>"
      ]
     },
     "execution_count": 166,
     "metadata": {},
     "output_type": "execute_result"
    }
   ],
   "source": [
    "ts.plot()"
   ]
  },
  {
   "cell_type": "code",
   "execution_count": 167,
   "metadata": {
    "collapsed": false
   },
   "outputs": [
    {
     "data": {
      "text/plain": [
       "2000-01-01   -0.899752\n",
       "2000-01-02   -0.383091\n",
       "2000-01-03   -1.319352\n",
       "2000-01-04   -2.395744\n",
       "2000-01-05   -1.056879\n",
       "2000-01-06   -0.263300\n",
       "2000-01-07    0.575705\n",
       "2000-01-08    0.989272\n",
       "2000-01-09    1.142231\n",
       "2000-01-10    0.413022\n",
       "2000-01-11    0.676214\n",
       "2000-01-12    0.976079\n",
       "2000-01-13    1.328605\n",
       "2000-01-14    0.367120\n",
       "2000-01-15   -1.065448\n",
       "2000-01-16   -1.691223\n",
       "2000-01-17   -1.984418\n",
       "2000-01-18   -3.172778\n",
       "2000-01-19   -1.719050\n",
       "2000-01-20   -1.529313\n",
       "2000-01-21   -0.603089\n",
       "2000-01-22   -0.359697\n",
       "2000-01-23    0.230267\n",
       "2000-01-24    1.840643\n",
       "2000-01-25    2.762396\n",
       "2000-01-26    3.231583\n",
       "2000-01-27    2.319669\n",
       "2000-01-28    4.213582\n",
       "2000-01-29    3.836727\n",
       "2000-01-30    3.391837\n",
       "                ...   \n",
       "2002-08-28   -2.564944\n",
       "2002-08-29   -2.525749\n",
       "2002-08-30   -4.342274\n",
       "2002-08-31   -4.782498\n",
       "2002-09-01   -3.840647\n",
       "2002-09-02   -2.923859\n",
       "2002-09-03   -3.610476\n",
       "2002-09-04   -4.416923\n",
       "2002-09-05   -4.305204\n",
       "2002-09-06   -5.730113\n",
       "2002-09-07   -6.633927\n",
       "2002-09-08   -6.521147\n",
       "2002-09-09   -6.961491\n",
       "2002-09-10   -6.879995\n",
       "2002-09-11   -6.415932\n",
       "2002-09-12   -5.536590\n",
       "2002-09-13   -4.023968\n",
       "2002-09-14   -2.992643\n",
       "2002-09-15   -1.994642\n",
       "2002-09-16   -1.590474\n",
       "2002-09-17   -1.555185\n",
       "2002-09-18   -2.765973\n",
       "2002-09-19   -3.215872\n",
       "2002-09-20   -3.130259\n",
       "2002-09-21   -4.174615\n",
       "2002-09-22   -4.305006\n",
       "2002-09-23   -3.798140\n",
       "2002-09-24   -3.987505\n",
       "2002-09-25   -4.205615\n",
       "2002-09-26   -4.328658\n",
       "Freq: D, dtype: float64"
      ]
     },
     "execution_count": 167,
     "metadata": {},
     "output_type": "execute_result"
    }
   ],
   "source": [
    "ts"
   ]
  },
  {
   "cell_type": "code",
   "execution_count": 168,
   "metadata": {
    "collapsed": false
   },
   "outputs": [
    {
     "data": {
      "text/plain": [
       "<matplotlib.axes._subplots.AxesSubplot at 0x9a85940>"
      ]
     },
     "execution_count": 168,
     "metadata": {},
     "output_type": "execute_result"
    }
   ],
   "source": [
    "ts.plot()"
   ]
  },
  {
   "cell_type": "code",
   "execution_count": 169,
   "metadata": {
    "collapsed": false
   },
   "outputs": [
    {
     "name": "stdout",
     "output_type": "stream",
     "text": [
      "Axes(0.125,0.1;0.775x0.8)\n"
     ]
    }
   ],
   "source": [
    "print ts.plot()"
   ]
  },
  {
   "cell_type": "code",
   "execution_count": 170,
   "metadata": {
    "collapsed": false
   },
   "outputs": [
    {
     "ename": "SyntaxError",
     "evalue": "invalid syntax (<ipython-input-170-0db1acd9c266>, line 1)",
     "output_type": "error",
     "traceback": [
      "\u001b[1;36m  File \u001b[1;32m\"<ipython-input-170-0db1acd9c266>\"\u001b[1;36m, line \u001b[1;32m1\u001b[0m\n\u001b[1;33m    show ts.plot()\u001b[0m\n\u001b[1;37m          ^\u001b[0m\n\u001b[1;31mSyntaxError\u001b[0m\u001b[1;31m:\u001b[0m invalid syntax\n"
     ]
    }
   ],
   "source": [
    "show ts.plot()"
   ]
  },
  {
   "cell_type": "code",
   "execution_count": 171,
   "metadata": {
    "collapsed": false
   },
   "outputs": [
    {
     "data": {
      "text/plain": [
       "<matplotlib.axes._subplots.AxesSubplot at 0x9a85940>"
      ]
     },
     "execution_count": 171,
     "metadata": {},
     "output_type": "execute_result"
    }
   ],
   "source": [
    "ts.plot()\n"
   ]
  },
  {
   "cell_type": "code",
   "execution_count": 172,
   "metadata": {
    "collapsed": false
   },
   "outputs": [
    {
     "data": {
      "text/plain": [
       "<matplotlib.axes._subplots.AxesSubplot at 0x9a85940>"
      ]
     },
     "execution_count": 172,
     "metadata": {},
     "output_type": "execute_result"
    }
   ],
   "source": [
    "ts.plot()"
   ]
  },
  {
   "cell_type": "code",
   "execution_count": 173,
   "metadata": {
    "collapsed": false
   },
   "outputs": [
    {
     "data": {
      "text/plain": [
       "<matplotlib.axes._subplots.AxesSubplot at 0x9a85940>"
      ]
     },
     "execution_count": 173,
     "metadata": {},
     "output_type": "execute_result"
    }
   ],
   "source": [
    "ts.plot()\n"
   ]
  },
  {
   "cell_type": "code",
   "execution_count": 174,
   "metadata": {
    "collapsed": true
   },
   "outputs": [],
   "source": [
    "%matplotlib inline"
   ]
  },
  {
   "cell_type": "code",
   "execution_count": 175,
   "metadata": {
    "collapsed": false
   },
   "outputs": [
    {
     "data": {
      "text/plain": [
       "2000-01-01   -0.899752\n",
       "2000-01-02   -0.383091\n",
       "2000-01-03   -1.319352\n",
       "2000-01-04   -2.395744\n",
       "2000-01-05   -1.056879\n",
       "2000-01-06   -0.263300\n",
       "2000-01-07    0.575705\n",
       "2000-01-08    0.989272\n",
       "2000-01-09    1.142231\n",
       "2000-01-10    0.413022\n",
       "2000-01-11    0.676214\n",
       "2000-01-12    0.976079\n",
       "2000-01-13    1.328605\n",
       "2000-01-14    0.367120\n",
       "2000-01-15   -1.065448\n",
       "2000-01-16   -1.691223\n",
       "2000-01-17   -1.984418\n",
       "2000-01-18   -3.172778\n",
       "2000-01-19   -1.719050\n",
       "2000-01-20   -1.529313\n",
       "2000-01-21   -0.603089\n",
       "2000-01-22   -0.359697\n",
       "2000-01-23    0.230267\n",
       "2000-01-24    1.840643\n",
       "2000-01-25    2.762396\n",
       "2000-01-26    3.231583\n",
       "2000-01-27    2.319669\n",
       "2000-01-28    4.213582\n",
       "2000-01-29    3.836727\n",
       "2000-01-30    3.391837\n",
       "                ...   \n",
       "2002-08-28   -2.564944\n",
       "2002-08-29   -2.525749\n",
       "2002-08-30   -4.342274\n",
       "2002-08-31   -4.782498\n",
       "2002-09-01   -3.840647\n",
       "2002-09-02   -2.923859\n",
       "2002-09-03   -3.610476\n",
       "2002-09-04   -4.416923\n",
       "2002-09-05   -4.305204\n",
       "2002-09-06   -5.730113\n",
       "2002-09-07   -6.633927\n",
       "2002-09-08   -6.521147\n",
       "2002-09-09   -6.961491\n",
       "2002-09-10   -6.879995\n",
       "2002-09-11   -6.415932\n",
       "2002-09-12   -5.536590\n",
       "2002-09-13   -4.023968\n",
       "2002-09-14   -2.992643\n",
       "2002-09-15   -1.994642\n",
       "2002-09-16   -1.590474\n",
       "2002-09-17   -1.555185\n",
       "2002-09-18   -2.765973\n",
       "2002-09-19   -3.215872\n",
       "2002-09-20   -3.130259\n",
       "2002-09-21   -4.174615\n",
       "2002-09-22   -4.305006\n",
       "2002-09-23   -3.798140\n",
       "2002-09-24   -3.987505\n",
       "2002-09-25   -4.205615\n",
       "2002-09-26   -4.328658\n",
       "Freq: D, dtype: float64"
      ]
     },
     "execution_count": 175,
     "metadata": {},
     "output_type": "execute_result"
    }
   ],
   "source": [
    "ts\n"
   ]
  },
  {
   "cell_type": "code",
   "execution_count": 176,
   "metadata": {
    "collapsed": false
   },
   "outputs": [
    {
     "data": {
      "text/plain": [
       "<matplotlib.axes._subplots.AxesSubplot at 0x9ce1198>"
      ]
     },
     "execution_count": 176,
     "metadata": {},
     "output_type": "execute_result"
    },
    {
     "data": {
      "image/png": "[encoded data removed]",
      "text/plain": [
       "<matplotlib.figure.Figure at 0x9b07860>"
      ]
     },
     "metadata": {},
     "output_type": "display_data"
    }
   ],
   "source": [
    "ts.plot()"
   ]
  },
  {
   "cell_type": "code",
   "execution_count": 177,
   "metadata": {
    "collapsed": true
   },
   "outputs": [],
   "source": [
    "df = pd.DataFrame(np.random.randn(1000, 4), index=ts.index,\n",
    "                columns=['A', 'B', 'C', 'D'])"
   ]
  },
  {
   "cell_type": "code",
   "execution_count": 178,
   "metadata": {
    "collapsed": false
   },
   "outputs": [
    {
     "data": {
      "text/html": [
       "<div>\n",
       "<table border=\"1\" class=\"dataframe\">\n",
       "  <thead>\n",
       "    <tr style=\"text-align: right;\">\n",
       "      <th></th>\n",
       "      <th>A</th>\n",
       "      <th>B</th>\n",
       "      <th>C</th>\n",
       "      <th>D</th>\n",
       "    </tr>\n",
       "  </thead>\n",
       "  <tbody>\n",
       "    <tr>\n",
       "      <th>2000-01-01</th>\n",
       "      <td>-0.115294</td>\n",
       "      <td>0.477522</td>\n",
       "      <td>-1.662135</td>\n",
       "      <td>0.173055</td>\n",
       "    </tr>\n",
       "    <tr>\n",
       "      <th>2000-01-02</th>\n",
       "      <td>-0.668194</td>\n",
       "      <td>-0.592864</td>\n",
       "      <td>1.942722</td>\n",
       "      <td>-1.196264</td>\n",
       "    </tr>\n",
       "    <tr>\n",
       "      <th>2000-01-03</th>\n",
       "      <td>2.267482</td>\n",
       "      <td>-0.398393</td>\n",
       "      <td>-1.083836</td>\n",
       "      <td>-0.069727</td>\n",
       "    </tr>\n",
       "    <tr>\n",
       "      <th>2000-01-04</th>\n",
       "      <td>-0.290546</td>\n",
       "      <td>0.627661</td>\n",
       "      <td>1.266579</td>\n",
       "      <td>-0.170659</td>\n",
       "    </tr>\n",
       "    <tr>\n",
       "      <th>2000-01-05</th>\n",
       "      <td>0.441614</td>\n",
       "      <td>-0.826774</td>\n",
       "      <td>0.216525</td>\n",
       "      <td>-0.646188</td>\n",
       "    </tr>\n",
       "    <tr>\n",
       "      <th>2000-01-06</th>\n",
       "      <td>1.302519</td>\n",
       "      <td>-0.249767</td>\n",
       "      <td>0.269412</td>\n",
       "      <td>-1.343785</td>\n",
       "    </tr>\n",
       "    <tr>\n",
       "      <th>2000-01-07</th>\n",
       "      <td>-0.477359</td>\n",
       "      <td>0.677636</td>\n",
       "      <td>2.375793</td>\n",
       "      <td>1.160577</td>\n",
       "    </tr>\n",
       "    <tr>\n",
       "      <th>2000-01-08</th>\n",
       "      <td>0.972731</td>\n",
       "      <td>-0.012448</td>\n",
       "      <td>-0.321932</td>\n",
       "      <td>0.194697</td>\n",
       "    </tr>\n",
       "    <tr>\n",
       "      <th>2000-01-09</th>\n",
       "      <td>2.221012</td>\n",
       "      <td>-0.836401</td>\n",
       "      <td>-0.255907</td>\n",
       "      <td>-1.817406</td>\n",
       "    </tr>\n",
       "    <tr>\n",
       "      <th>2000-01-10</th>\n",
       "      <td>1.294441</td>\n",
       "      <td>0.105187</td>\n",
       "      <td>-0.359100</td>\n",
       "      <td>-0.820095</td>\n",
       "    </tr>\n",
       "    <tr>\n",
       "      <th>2000-01-11</th>\n",
       "      <td>-0.436691</td>\n",
       "      <td>-0.304562</td>\n",
       "      <td>2.053669</td>\n",
       "      <td>0.833373</td>\n",
       "    </tr>\n",
       "    <tr>\n",
       "      <th>2000-01-12</th>\n",
       "      <td>1.428601</td>\n",
       "      <td>-0.121428</td>\n",
       "      <td>0.957007</td>\n",
       "      <td>0.443866</td>\n",
       "    </tr>\n",
       "    <tr>\n",
       "      <th>2000-01-13</th>\n",
       "      <td>-0.492528</td>\n",
       "      <td>-0.701589</td>\n",
       "      <td>0.164312</td>\n",
       "      <td>0.037080</td>\n",
       "    </tr>\n",
       "    <tr>\n",
       "      <th>2000-01-14</th>\n",
       "      <td>0.597824</td>\n",
       "      <td>0.270690</td>\n",
       "      <td>0.891201</td>\n",
       "      <td>1.461112</td>\n",
       "    </tr>\n",
       "    <tr>\n",
       "      <th>2000-01-15</th>\n",
       "      <td>-0.784990</td>\n",
       "      <td>0.551427</td>\n",
       "      <td>1.378894</td>\n",
       "      <td>1.249717</td>\n",
       "    </tr>\n",
       "    <tr>\n",
       "      <th>2000-01-16</th>\n",
       "      <td>0.396257</td>\n",
       "      <td>-0.338637</td>\n",
       "      <td>0.208109</td>\n",
       "      <td>-0.067852</td>\n",
       "    </tr>\n",
       "    <tr>\n",
       "      <th>2000-01-17</th>\n",
       "      <td>-1.164313</td>\n",
       "      <td>-1.491103</td>\n",
       "      <td>0.465911</td>\n",
       "      <td>-0.177659</td>\n",
       "    </tr>\n",
       "    <tr>\n",
       "      <th>2000-01-18</th>\n",
       "      <td>-0.424065</td>\n",
       "      <td>1.016414</td>\n",
       "      <td>0.969199</td>\n",
       "      <td>-1.886594</td>\n",
       "    </tr>\n",
       "    <tr>\n",
       "      <th>2000-01-19</th>\n",
       "      <td>-1.519176</td>\n",
       "      <td>1.024078</td>\n",
       "      <td>-0.151014</td>\n",
       "      <td>1.588037</td>\n",
       "    </tr>\n",
       "    <tr>\n",
       "      <th>2000-01-20</th>\n",
       "      <td>-1.148162</td>\n",
       "      <td>-1.054929</td>\n",
       "      <td>-0.616735</td>\n",
       "      <td>0.903995</td>\n",
       "    </tr>\n",
       "    <tr>\n",
       "      <th>2000-01-21</th>\n",
       "      <td>2.535763</td>\n",
       "      <td>-1.431095</td>\n",
       "      <td>-0.245308</td>\n",
       "      <td>0.186512</td>\n",
       "    </tr>\n",
       "    <tr>\n",
       "      <th>2000-01-22</th>\n",
       "      <td>-2.235889</td>\n",
       "      <td>0.518400</td>\n",
       "      <td>1.021502</td>\n",
       "      <td>-0.221956</td>\n",
       "    </tr>\n",
       "    <tr>\n",
       "      <th>2000-01-23</th>\n",
       "      <td>0.063521</td>\n",
       "      <td>0.099077</td>\n",
       "      <td>1.016706</td>\n",
       "      <td>1.170423</td>\n",
       "    </tr>\n",
       "    <tr>\n",
       "      <th>2000-01-24</th>\n",
       "      <td>0.528054</td>\n",
       "      <td>-1.428697</td>\n",
       "      <td>0.349040</td>\n",
       "      <td>1.756108</td>\n",
       "    </tr>\n",
       "    <tr>\n",
       "      <th>2000-01-25</th>\n",
       "      <td>1.887459</td>\n",
       "      <td>0.736868</td>\n",
       "      <td>-0.390122</td>\n",
       "      <td>2.432522</td>\n",
       "    </tr>\n",
       "    <tr>\n",
       "      <th>2000-01-26</th>\n",
       "      <td>-0.666837</td>\n",
       "      <td>0.215525</td>\n",
       "      <td>1.032509</td>\n",
       "      <td>0.382264</td>\n",
       "    </tr>\n",
       "    <tr>\n",
       "      <th>2000-01-27</th>\n",
       "      <td>-1.581698</td>\n",
       "      <td>-0.415305</td>\n",
       "      <td>-1.547406</td>\n",
       "      <td>0.966180</td>\n",
       "    </tr>\n",
       "    <tr>\n",
       "      <th>2000-01-28</th>\n",
       "      <td>-0.452967</td>\n",
       "      <td>-0.061712</td>\n",
       "      <td>0.997633</td>\n",
       "      <td>-0.472367</td>\n",
       "    </tr>\n",
       "    <tr>\n",
       "      <th>2000-01-29</th>\n",
       "      <td>-0.750385</td>\n",
       "      <td>1.167602</td>\n",
       "      <td>-0.825994</td>\n",
       "      <td>-0.531817</td>\n",
       "    </tr>\n",
       "    <tr>\n",
       "      <th>2000-01-30</th>\n",
       "      <td>1.495091</td>\n",
       "      <td>-1.315583</td>\n",
       "      <td>0.173404</td>\n",
       "      <td>-0.129892</td>\n",
       "    </tr>\n",
       "    <tr>\n",
       "      <th>...</th>\n",
       "      <td>...</td>\n",
       "      <td>...</td>\n",
       "      <td>...</td>\n",
       "      <td>...</td>\n",
       "    </tr>\n",
       "    <tr>\n",
       "      <th>2002-08-28</th>\n",
       "      <td>1.248886</td>\n",
       "      <td>1.633029</td>\n",
       "      <td>-1.378184</td>\n",
       "      <td>1.108911</td>\n",
       "    </tr>\n",
       "    <tr>\n",
       "      <th>2002-08-29</th>\n",
       "      <td>0.983850</td>\n",
       "      <td>1.141733</td>\n",
       "      <td>-0.061966</td>\n",
       "      <td>0.590999</td>\n",
       "    </tr>\n",
       "    <tr>\n",
       "      <th>2002-08-30</th>\n",
       "      <td>-0.686564</td>\n",
       "      <td>0.166676</td>\n",
       "      <td>-0.968525</td>\n",
       "      <td>0.796101</td>\n",
       "    </tr>\n",
       "    <tr>\n",
       "      <th>2002-08-31</th>\n",
       "      <td>0.251070</td>\n",
       "      <td>0.423353</td>\n",
       "      <td>-0.285689</td>\n",
       "      <td>0.749607</td>\n",
       "    </tr>\n",
       "    <tr>\n",
       "      <th>2002-09-01</th>\n",
       "      <td>-1.273347</td>\n",
       "      <td>-0.722459</td>\n",
       "      <td>-0.546668</td>\n",
       "      <td>0.307751</td>\n",
       "    </tr>\n",
       "    <tr>\n",
       "      <th>2002-09-02</th>\n",
       "      <td>-1.275206</td>\n",
       "      <td>0.415075</td>\n",
       "      <td>-0.407110</td>\n",
       "      <td>-0.228360</td>\n",
       "    </tr>\n",
       "    <tr>\n",
       "      <th>2002-09-03</th>\n",
       "      <td>-1.556369</td>\n",
       "      <td>1.276533</td>\n",
       "      <td>-1.326557</td>\n",
       "      <td>-0.006270</td>\n",
       "    </tr>\n",
       "    <tr>\n",
       "      <th>2002-09-04</th>\n",
       "      <td>-0.180499</td>\n",
       "      <td>-1.270068</td>\n",
       "      <td>-0.440929</td>\n",
       "      <td>-0.096476</td>\n",
       "    </tr>\n",
       "    <tr>\n",
       "      <th>2002-09-05</th>\n",
       "      <td>0.432644</td>\n",
       "      <td>0.818946</td>\n",
       "      <td>1.219078</td>\n",
       "      <td>-0.600228</td>\n",
       "    </tr>\n",
       "    <tr>\n",
       "      <th>2002-09-06</th>\n",
       "      <td>-0.132934</td>\n",
       "      <td>0.915245</td>\n",
       "      <td>0.709621</td>\n",
       "      <td>-0.031662</td>\n",
       "    </tr>\n",
       "    <tr>\n",
       "      <th>2002-09-07</th>\n",
       "      <td>-0.101143</td>\n",
       "      <td>0.537417</td>\n",
       "      <td>0.174819</td>\n",
       "      <td>0.864009</td>\n",
       "    </tr>\n",
       "    <tr>\n",
       "      <th>2002-09-08</th>\n",
       "      <td>-0.004379</td>\n",
       "      <td>-0.349991</td>\n",
       "      <td>0.079026</td>\n",
       "      <td>-0.685584</td>\n",
       "    </tr>\n",
       "    <tr>\n",
       "      <th>2002-09-09</th>\n",
       "      <td>1.025745</td>\n",
       "      <td>0.086036</td>\n",
       "      <td>0.207379</td>\n",
       "      <td>-1.579984</td>\n",
       "    </tr>\n",
       "    <tr>\n",
       "      <th>2002-09-10</th>\n",
       "      <td>0.222970</td>\n",
       "      <td>0.904971</td>\n",
       "      <td>1.026157</td>\n",
       "      <td>-0.829571</td>\n",
       "    </tr>\n",
       "    <tr>\n",
       "      <th>2002-09-11</th>\n",
       "      <td>0.270609</td>\n",
       "      <td>0.000590</td>\n",
       "      <td>0.426516</td>\n",
       "      <td>0.006437</td>\n",
       "    </tr>\n",
       "    <tr>\n",
       "      <th>2002-09-12</th>\n",
       "      <td>0.805581</td>\n",
       "      <td>1.363776</td>\n",
       "      <td>-0.438680</td>\n",
       "      <td>-1.416642</td>\n",
       "    </tr>\n",
       "    <tr>\n",
       "      <th>2002-09-13</th>\n",
       "      <td>-0.338198</td>\n",
       "      <td>-0.776702</td>\n",
       "      <td>-0.914764</td>\n",
       "      <td>0.043301</td>\n",
       "    </tr>\n",
       "    <tr>\n",
       "      <th>2002-09-14</th>\n",
       "      <td>0.144838</td>\n",
       "      <td>0.725023</td>\n",
       "      <td>-2.224543</td>\n",
       "      <td>-0.971290</td>\n",
       "    </tr>\n",
       "    <tr>\n",
       "      <th>2002-09-15</th>\n",
       "      <td>1.332667</td>\n",
       "      <td>-0.330472</td>\n",
       "      <td>0.748564</td>\n",
       "      <td>1.120491</td>\n",
       "    </tr>\n",
       "    <tr>\n",
       "      <th>2002-09-16</th>\n",
       "      <td>-1.676755</td>\n",
       "      <td>1.020891</td>\n",
       "      <td>1.288397</td>\n",
       "      <td>0.136112</td>\n",
       "    </tr>\n",
       "    <tr>\n",
       "      <th>2002-09-17</th>\n",
       "      <td>-0.874747</td>\n",
       "      <td>-1.108008</td>\n",
       "      <td>-1.769207</td>\n",
       "      <td>-2.381151</td>\n",
       "    </tr>\n",
       "    <tr>\n",
       "      <th>2002-09-18</th>\n",
       "      <td>-0.595176</td>\n",
       "      <td>-0.718525</td>\n",
       "      <td>0.285960</td>\n",
       "      <td>1.247722</td>\n",
       "    </tr>\n",
       "    <tr>\n",
       "      <th>2002-09-19</th>\n",
       "      <td>0.153820</td>\n",
       "      <td>-0.883642</td>\n",
       "      <td>-1.559716</td>\n",
       "      <td>1.224750</td>\n",
       "    </tr>\n",
       "    <tr>\n",
       "      <th>2002-09-20</th>\n",
       "      <td>-1.537620</td>\n",
       "      <td>0.815989</td>\n",
       "      <td>0.903827</td>\n",
       "      <td>-0.125953</td>\n",
       "    </tr>\n",
       "    <tr>\n",
       "      <th>2002-09-21</th>\n",
       "      <td>-0.741057</td>\n",
       "      <td>1.920797</td>\n",
       "      <td>0.160372</td>\n",
       "      <td>-0.048638</td>\n",
       "    </tr>\n",
       "    <tr>\n",
       "      <th>2002-09-22</th>\n",
       "      <td>0.402077</td>\n",
       "      <td>-0.735760</td>\n",
       "      <td>-0.742859</td>\n",
       "      <td>0.972106</td>\n",
       "    </tr>\n",
       "    <tr>\n",
       "      <th>2002-09-23</th>\n",
       "      <td>1.099224</td>\n",
       "      <td>0.690456</td>\n",
       "      <td>0.782052</td>\n",
       "      <td>-0.280971</td>\n",
       "    </tr>\n",
       "    <tr>\n",
       "      <th>2002-09-24</th>\n",
       "      <td>0.889492</td>\n",
       "      <td>-0.503972</td>\n",
       "      <td>1.100578</td>\n",
       "      <td>-0.937275</td>\n",
       "    </tr>\n",
       "    <tr>\n",
       "      <th>2002-09-25</th>\n",
       "      <td>-0.454774</td>\n",
       "      <td>1.023267</td>\n",
       "      <td>0.719363</td>\n",
       "      <td>-1.055109</td>\n",
       "    </tr>\n",
       "    <tr>\n",
       "      <th>2002-09-26</th>\n",
       "      <td>1.927283</td>\n",
       "      <td>0.008184</td>\n",
       "      <td>-0.773255</td>\n",
       "      <td>-0.104963</td>\n",
       "    </tr>\n",
       "  </tbody>\n",
       "</table>\n",
       "<p>1000 rows × 4 columns</p>\n",
       "</div>"
      ],
      "text/plain": [
       "                   A         B         C         D\n",
       "2000-01-01 -0.115294  0.477522 -1.662135  0.173055\n",
       "2000-01-02 -0.668194 -0.592864  1.942722 -1.196264\n",
       "2000-01-03  2.267482 -0.398393 -1.083836 -0.069727\n",
       "2000-01-04 -0.290546  0.627661  1.266579 -0.170659\n",
       "2000-01-05  0.441614 -0.826774  0.216525 -0.646188\n",
       "2000-01-06  1.302519 -0.249767  0.269412 -1.343785\n",
       "2000-01-07 -0.477359  0.677636  2.375793  1.160577\n",
       "2000-01-08  0.972731 -0.012448 -0.321932  0.194697\n",
       "2000-01-09  2.221012 -0.836401 -0.255907 -1.817406\n",
       "2000-01-10  1.294441  0.105187 -0.359100 -0.820095\n",
       "2000-01-11 -0.436691 -0.304562  2.053669  0.833373\n",
       "2000-01-12  1.428601 -0.121428  0.957007  0.443866\n",
       "2000-01-13 -0.492528 -0.701589  0.164312  0.037080\n",
       "2000-01-14  0.597824  0.270690  0.891201  1.461112\n",
       "2000-01-15 -0.784990  0.551427  1.378894  1.249717\n",
       "2000-01-16  0.396257 -0.338637  0.208109 -0.067852\n",
       "2000-01-17 -1.164313 -1.491103  0.465911 -0.177659\n",
       "2000-01-18 -0.424065  1.016414  0.969199 -1.886594\n",
       "2000-01-19 -1.519176  1.024078 -0.151014  1.588037\n",
       "2000-01-20 -1.148162 -1.054929 -0.616735  0.903995\n",
       "2000-01-21  2.535763 -1.431095 -0.245308  0.186512\n",
       "2000-01-22 -2.235889  0.518400  1.021502 -0.221956\n",
       "2000-01-23  0.063521  0.099077  1.016706  1.170423\n",
       "2000-01-24  0.528054 -1.428697  0.349040  1.756108\n",
       "2000-01-25  1.887459  0.736868 -0.390122  2.432522\n",
       "2000-01-26 -0.666837  0.215525  1.032509  0.382264\n",
       "2000-01-27 -1.581698 -0.415305 -1.547406  0.966180\n",
       "2000-01-28 -0.452967 -0.061712  0.997633 -0.472367\n",
       "2000-01-29 -0.750385  1.167602 -0.825994 -0.531817\n",
       "2000-01-30  1.495091 -1.315583  0.173404 -0.129892\n",
       "...              ...       ...       ...       ...\n",
       "2002-08-28  1.248886  1.633029 -1.378184  1.108911\n",
       "2002-08-29  0.983850  1.141733 -0.061966  0.590999\n",
       "2002-08-30 -0.686564  0.166676 -0.968525  0.796101\n",
       "2002-08-31  0.251070  0.423353 -0.285689  0.749607\n",
       "2002-09-01 -1.273347 -0.722459 -0.546668  0.307751\n",
       "2002-09-02 -1.275206  0.415075 -0.407110 -0.228360\n",
       "2002-09-03 -1.556369  1.276533 -1.326557 -0.006270\n",
       "2002-09-04 -0.180499 -1.270068 -0.440929 -0.096476\n",
       "2002-09-05  0.432644  0.818946  1.219078 -0.600228\n",
       "2002-09-06 -0.132934  0.915245  0.709621 -0.031662\n",
       "2002-09-07 -0.101143  0.537417  0.174819  0.864009\n",
       "2002-09-08 -0.004379 -0.349991  0.079026 -0.685584\n",
       "2002-09-09  1.025745  0.086036  0.207379 -1.579984\n",
       "2002-09-10  0.222970  0.904971  1.026157 -0.829571\n",
       "2002-09-11  0.270609  0.000590  0.426516  0.006437\n",
       "2002-09-12  0.805581  1.363776 -0.438680 -1.416642\n",
       "2002-09-13 -0.338198 -0.776702 -0.914764  0.043301\n",
       "2002-09-14  0.144838  0.725023 -2.224543 -0.971290\n",
       "2002-09-15  1.332667 -0.330472  0.748564  1.120491\n",
       "2002-09-16 -1.676755  1.020891  1.288397  0.136112\n",
       "2002-09-17 -0.874747 -1.108008 -1.769207 -2.381151\n",
       "2002-09-18 -0.595176 -0.718525  0.285960  1.247722\n",
       "2002-09-19  0.153820 -0.883642 -1.559716  1.224750\n",
       "2002-09-20 -1.537620  0.815989  0.903827 -0.125953\n",
       "2002-09-21 -0.741057  1.920797  0.160372 -0.048638\n",
       "2002-09-22  0.402077 -0.735760 -0.742859  0.972106\n",
       "2002-09-23  1.099224  0.690456  0.782052 -0.280971\n",
       "2002-09-24  0.889492 -0.503972  1.100578 -0.937275\n",
       "2002-09-25 -0.454774  1.023267  0.719363 -1.055109\n",
       "2002-09-26  1.927283  0.008184 -0.773255 -0.104963\n",
       "\n",
       "[1000 rows x 4 columns]"
      ]
     },
     "execution_count": 178,
     "metadata": {},
     "output_type": "execute_result"
    }
   ],
   "source": [
    "df"
   ]
  },
  {
   "cell_type": "code",
   "execution_count": 179,
   "metadata": {
    "collapsed": false
   },
   "outputs": [
    {
     "data": {
      "text/html": [
       "<div>\n",
       "<table border=\"1\" class=\"dataframe\">\n",
       "  <thead>\n",
       "    <tr style=\"text-align: right;\">\n",
       "      <th></th>\n",
       "      <th>A</th>\n",
       "      <th>B</th>\n",
       "      <th>C</th>\n",
       "      <th>D</th>\n",
       "    </tr>\n",
       "  </thead>\n",
       "  <tbody>\n",
       "    <tr>\n",
       "      <th>2000-01-01</th>\n",
       "      <td>-0.115294</td>\n",
       "      <td>0.477522</td>\n",
       "      <td>-1.662135</td>\n",
       "      <td>0.173055</td>\n",
       "    </tr>\n",
       "    <tr>\n",
       "      <th>2000-01-02</th>\n",
       "      <td>-0.668194</td>\n",
       "      <td>-0.592864</td>\n",
       "      <td>1.942722</td>\n",
       "      <td>-1.196264</td>\n",
       "    </tr>\n",
       "    <tr>\n",
       "      <th>2000-01-03</th>\n",
       "      <td>2.267482</td>\n",
       "      <td>-0.398393</td>\n",
       "      <td>-1.083836</td>\n",
       "      <td>-0.069727</td>\n",
       "    </tr>\n",
       "    <tr>\n",
       "      <th>2000-01-04</th>\n",
       "      <td>-0.290546</td>\n",
       "      <td>0.627661</td>\n",
       "      <td>1.266579</td>\n",
       "      <td>-0.170659</td>\n",
       "    </tr>\n",
       "    <tr>\n",
       "      <th>2000-01-05</th>\n",
       "      <td>0.441614</td>\n",
       "      <td>-0.826774</td>\n",
       "      <td>0.216525</td>\n",
       "      <td>-0.646188</td>\n",
       "    </tr>\n",
       "  </tbody>\n",
       "</table>\n",
       "</div>"
      ],
      "text/plain": [
       "                   A         B         C         D\n",
       "2000-01-01 -0.115294  0.477522 -1.662135  0.173055\n",
       "2000-01-02 -0.668194 -0.592864  1.942722 -1.196264\n",
       "2000-01-03  2.267482 -0.398393 -1.083836 -0.069727\n",
       "2000-01-04 -0.290546  0.627661  1.266579 -0.170659\n",
       "2000-01-05  0.441614 -0.826774  0.216525 -0.646188"
      ]
     },
     "execution_count": 179,
     "metadata": {},
     "output_type": "execute_result"
    }
   ],
   "source": [
    "df.head()"
   ]
  },
  {
   "cell_type": "code",
   "execution_count": 180,
   "metadata": {
    "collapsed": true
   },
   "outputs": [],
   "source": [
    "df = df.cumsum()"
   ]
  },
  {
   "cell_type": "code",
   "execution_count": 181,
   "metadata": {
    "collapsed": false
   },
   "outputs": [
    {
     "data": {
      "text/html": [
       "<div>\n",
       "<table border=\"1\" class=\"dataframe\">\n",
       "  <thead>\n",
       "    <tr style=\"text-align: right;\">\n",
       "      <th></th>\n",
       "      <th>A</th>\n",
       "      <th>B</th>\n",
       "      <th>C</th>\n",
       "      <th>D</th>\n",
       "    </tr>\n",
       "  </thead>\n",
       "  <tbody>\n",
       "    <tr>\n",
       "      <th>2000-01-01</th>\n",
       "      <td>-0.115294</td>\n",
       "      <td>0.477522</td>\n",
       "      <td>-1.662135</td>\n",
       "      <td>0.173055</td>\n",
       "    </tr>\n",
       "    <tr>\n",
       "      <th>2000-01-02</th>\n",
       "      <td>-0.783488</td>\n",
       "      <td>-0.115342</td>\n",
       "      <td>0.280588</td>\n",
       "      <td>-1.023208</td>\n",
       "    </tr>\n",
       "    <tr>\n",
       "      <th>2000-01-03</th>\n",
       "      <td>1.483995</td>\n",
       "      <td>-0.513735</td>\n",
       "      <td>-0.803249</td>\n",
       "      <td>-1.092936</td>\n",
       "    </tr>\n",
       "    <tr>\n",
       "      <th>2000-01-04</th>\n",
       "      <td>1.193449</td>\n",
       "      <td>0.113926</td>\n",
       "      <td>0.463330</td>\n",
       "      <td>-1.263594</td>\n",
       "    </tr>\n",
       "    <tr>\n",
       "      <th>2000-01-05</th>\n",
       "      <td>1.635063</td>\n",
       "      <td>-0.712848</td>\n",
       "      <td>0.679855</td>\n",
       "      <td>-1.909782</td>\n",
       "    </tr>\n",
       "  </tbody>\n",
       "</table>\n",
       "</div>"
      ],
      "text/plain": [
       "                   A         B         C         D\n",
       "2000-01-01 -0.115294  0.477522 -1.662135  0.173055\n",
       "2000-01-02 -0.783488 -0.115342  0.280588 -1.023208\n",
       "2000-01-03  1.483995 -0.513735 -0.803249 -1.092936\n",
       "2000-01-04  1.193449  0.113926  0.463330 -1.263594\n",
       "2000-01-05  1.635063 -0.712848  0.679855 -1.909782"
      ]
     },
     "execution_count": 181,
     "metadata": {},
     "output_type": "execute_result"
    }
   ],
   "source": [
    "df.head()"
   ]
  },
  {
   "cell_type": "code",
   "execution_count": 182,
   "metadata": {
    "collapsed": false
   },
   "outputs": [
    {
     "data": {
      "text/plain": [
       "<matplotlib.figure.Figure at 0xa015cf8>"
      ]
     },
     "execution_count": 182,
     "metadata": {},
     "output_type": "execute_result"
    },
    {
     "data": {
      "text/plain": [
       "<matplotlib.figure.Figure at 0xa015cf8>"
      ]
     },
     "metadata": {},
     "output_type": "display_data"
    }
   ],
   "source": [
    "plt.figure()"
   ]
  },
  {
   "cell_type": "code",
   "execution_count": 183,
   "metadata": {
    "collapsed": false
   },
   "outputs": [
    {
     "data": {
      "text/plain": [
       "<matplotlib.legend.Legend at 0x9fd4a90>"
      ]
     },
     "execution_count": 183,
     "metadata": {},
     "output_type": "execute_result"
    },
    {
     "data": {
      "text/plain": [
       "<matplotlib.figure.Figure at 0x9ff7a58>"
      ]
     },
     "metadata": {},
     "output_type": "display_data"
    },
    {
     "data": {
      "image/png": "[encoded data removed]",
      "text/plain": [
       "<matplotlib.figure.Figure at 0x9fd45f8>"
      ]
     },
     "metadata": {},
     "output_type": "display_data"
    }
   ],
   "source": [
    "plt.figure(); df.plot(); plt.legend(loc='best')"
   ]
  },
  {
   "cell_type": "code",
   "execution_count": 184,
   "metadata": {
    "collapsed": true
   },
   "outputs": [],
   "source": [
    "df.to_csv('foo.csv')"
   ]
  },
  {
   "cell_type": "code",
   "execution_count": 185,
   "metadata": {
    "collapsed": false
   },
   "outputs": [
    {
     "data": {
      "text/html": [
       "<div>\n",
       "<table border=\"1\" class=\"dataframe\">\n",
       "  <thead>\n",
       "    <tr style=\"text-align: right;\">\n",
       "      <th></th>\n",
       "      <th>Unnamed: 0</th>\n",
       "      <th>A</th>\n",
       "      <th>B</th>\n",
       "      <th>C</th>\n",
       "      <th>D</th>\n",
       "    </tr>\n",
       "  </thead>\n",
       "  <tbody>\n",
       "    <tr>\n",
       "      <th>0</th>\n",
       "      <td>2000-01-01</td>\n",
       "      <td>-0.115294</td>\n",
       "      <td>0.477522</td>\n",
       "      <td>-1.662135</td>\n",
       "      <td>0.173055</td>\n",
       "    </tr>\n",
       "    <tr>\n",
       "      <th>1</th>\n",
       "      <td>2000-01-02</td>\n",
       "      <td>-0.783488</td>\n",
       "      <td>-0.115342</td>\n",
       "      <td>0.280588</td>\n",
       "      <td>-1.023208</td>\n",
       "    </tr>\n",
       "    <tr>\n",
       "      <th>2</th>\n",
       "      <td>2000-01-03</td>\n",
       "      <td>1.483995</td>\n",
       "      <td>-0.513735</td>\n",
       "      <td>-0.803249</td>\n",
       "      <td>-1.092936</td>\n",
       "    </tr>\n",
       "    <tr>\n",
       "      <th>3</th>\n",
       "      <td>2000-01-04</td>\n",
       "      <td>1.193449</td>\n",
       "      <td>0.113926</td>\n",
       "      <td>0.463330</td>\n",
       "      <td>-1.263594</td>\n",
       "    </tr>\n",
       "    <tr>\n",
       "      <th>4</th>\n",
       "      <td>2000-01-05</td>\n",
       "      <td>1.635063</td>\n",
       "      <td>-0.712848</td>\n",
       "      <td>0.679855</td>\n",
       "      <td>-1.909782</td>\n",
       "    </tr>\n",
       "    <tr>\n",
       "      <th>5</th>\n",
       "      <td>2000-01-06</td>\n",
       "      <td>2.937582</td>\n",
       "      <td>-0.962615</td>\n",
       "      <td>0.949267</td>\n",
       "      <td>-3.253567</td>\n",
       "    </tr>\n",
       "    <tr>\n",
       "      <th>6</th>\n",
       "      <td>2000-01-07</td>\n",
       "      <td>2.460223</td>\n",
       "      <td>-0.284980</td>\n",
       "      <td>3.325060</td>\n",
       "      <td>-2.092990</td>\n",
       "    </tr>\n",
       "    <tr>\n",
       "      <th>7</th>\n",
       "      <td>2000-01-08</td>\n",
       "      <td>3.432954</td>\n",
       "      <td>-0.297427</td>\n",
       "      <td>3.003128</td>\n",
       "      <td>-1.898293</td>\n",
       "    </tr>\n",
       "    <tr>\n",
       "      <th>8</th>\n",
       "      <td>2000-01-09</td>\n",
       "      <td>5.653966</td>\n",
       "      <td>-1.133828</td>\n",
       "      <td>2.747221</td>\n",
       "      <td>-3.715699</td>\n",
       "    </tr>\n",
       "    <tr>\n",
       "      <th>9</th>\n",
       "      <td>2000-01-10</td>\n",
       "      <td>6.948407</td>\n",
       "      <td>-1.028641</td>\n",
       "      <td>2.388121</td>\n",
       "      <td>-4.535794</td>\n",
       "    </tr>\n",
       "    <tr>\n",
       "      <th>10</th>\n",
       "      <td>2000-01-11</td>\n",
       "      <td>6.511716</td>\n",
       "      <td>-1.333203</td>\n",
       "      <td>4.441790</td>\n",
       "      <td>-3.702421</td>\n",
       "    </tr>\n",
       "    <tr>\n",
       "      <th>11</th>\n",
       "      <td>2000-01-12</td>\n",
       "      <td>7.940317</td>\n",
       "      <td>-1.454631</td>\n",
       "      <td>5.398797</td>\n",
       "      <td>-3.258555</td>\n",
       "    </tr>\n",
       "    <tr>\n",
       "      <th>12</th>\n",
       "      <td>2000-01-13</td>\n",
       "      <td>7.447789</td>\n",
       "      <td>-2.156220</td>\n",
       "      <td>5.563109</td>\n",
       "      <td>-3.221475</td>\n",
       "    </tr>\n",
       "    <tr>\n",
       "      <th>13</th>\n",
       "      <td>2000-01-14</td>\n",
       "      <td>8.045613</td>\n",
       "      <td>-1.885529</td>\n",
       "      <td>6.454309</td>\n",
       "      <td>-1.760364</td>\n",
       "    </tr>\n",
       "    <tr>\n",
       "      <th>14</th>\n",
       "      <td>2000-01-15</td>\n",
       "      <td>7.260623</td>\n",
       "      <td>-1.334102</td>\n",
       "      <td>7.833203</td>\n",
       "      <td>-0.510646</td>\n",
       "    </tr>\n",
       "    <tr>\n",
       "      <th>15</th>\n",
       "      <td>2000-01-16</td>\n",
       "      <td>7.656879</td>\n",
       "      <td>-1.672739</td>\n",
       "      <td>8.041312</td>\n",
       "      <td>-0.578499</td>\n",
       "    </tr>\n",
       "    <tr>\n",
       "      <th>16</th>\n",
       "      <td>2000-01-17</td>\n",
       "      <td>6.492567</td>\n",
       "      <td>-3.163842</td>\n",
       "      <td>8.507224</td>\n",
       "      <td>-0.756157</td>\n",
       "    </tr>\n",
       "    <tr>\n",
       "      <th>17</th>\n",
       "      <td>2000-01-18</td>\n",
       "      <td>6.068502</td>\n",
       "      <td>-2.147427</td>\n",
       "      <td>9.476423</td>\n",
       "      <td>-2.642751</td>\n",
       "    </tr>\n",
       "    <tr>\n",
       "      <th>18</th>\n",
       "      <td>2000-01-19</td>\n",
       "      <td>4.549325</td>\n",
       "      <td>-1.123350</td>\n",
       "      <td>9.325409</td>\n",
       "      <td>-1.054714</td>\n",
       "    </tr>\n",
       "    <tr>\n",
       "      <th>19</th>\n",
       "      <td>2000-01-20</td>\n",
       "      <td>3.401164</td>\n",
       "      <td>-2.178279</td>\n",
       "      <td>8.708674</td>\n",
       "      <td>-0.150719</td>\n",
       "    </tr>\n",
       "    <tr>\n",
       "      <th>20</th>\n",
       "      <td>2000-01-21</td>\n",
       "      <td>5.936926</td>\n",
       "      <td>-3.609374</td>\n",
       "      <td>8.463366</td>\n",
       "      <td>0.035793</td>\n",
       "    </tr>\n",
       "    <tr>\n",
       "      <th>21</th>\n",
       "      <td>2000-01-22</td>\n",
       "      <td>3.701037</td>\n",
       "      <td>-3.090974</td>\n",
       "      <td>9.484868</td>\n",
       "      <td>-0.186164</td>\n",
       "    </tr>\n",
       "    <tr>\n",
       "      <th>22</th>\n",
       "      <td>2000-01-23</td>\n",
       "      <td>3.764558</td>\n",
       "      <td>-2.991897</td>\n",
       "      <td>10.501574</td>\n",
       "      <td>0.984260</td>\n",
       "    </tr>\n",
       "    <tr>\n",
       "      <th>23</th>\n",
       "      <td>2000-01-24</td>\n",
       "      <td>4.292612</td>\n",
       "      <td>-4.420594</td>\n",
       "      <td>10.850614</td>\n",
       "      <td>2.740367</td>\n",
       "    </tr>\n",
       "    <tr>\n",
       "      <th>24</th>\n",
       "      <td>2000-01-25</td>\n",
       "      <td>6.180071</td>\n",
       "      <td>-3.683727</td>\n",
       "      <td>10.460492</td>\n",
       "      <td>5.172890</td>\n",
       "    </tr>\n",
       "    <tr>\n",
       "      <th>25</th>\n",
       "      <td>2000-01-26</td>\n",
       "      <td>5.513234</td>\n",
       "      <td>-3.468201</td>\n",
       "      <td>11.493001</td>\n",
       "      <td>5.555154</td>\n",
       "    </tr>\n",
       "    <tr>\n",
       "      <th>26</th>\n",
       "      <td>2000-01-27</td>\n",
       "      <td>3.931536</td>\n",
       "      <td>-3.883506</td>\n",
       "      <td>9.945595</td>\n",
       "      <td>6.521334</td>\n",
       "    </tr>\n",
       "    <tr>\n",
       "      <th>27</th>\n",
       "      <td>2000-01-28</td>\n",
       "      <td>3.478569</td>\n",
       "      <td>-3.945218</td>\n",
       "      <td>10.943228</td>\n",
       "      <td>6.048967</td>\n",
       "    </tr>\n",
       "    <tr>\n",
       "      <th>28</th>\n",
       "      <td>2000-01-29</td>\n",
       "      <td>2.728183</td>\n",
       "      <td>-2.777616</td>\n",
       "      <td>10.117235</td>\n",
       "      <td>5.517150</td>\n",
       "    </tr>\n",
       "    <tr>\n",
       "      <th>29</th>\n",
       "      <td>2000-01-30</td>\n",
       "      <td>4.223274</td>\n",
       "      <td>-4.093198</td>\n",
       "      <td>10.290639</td>\n",
       "      <td>5.387258</td>\n",
       "    </tr>\n",
       "    <tr>\n",
       "      <th>...</th>\n",
       "      <td>...</td>\n",
       "      <td>...</td>\n",
       "      <td>...</td>\n",
       "      <td>...</td>\n",
       "      <td>...</td>\n",
       "    </tr>\n",
       "    <tr>\n",
       "      <th>970</th>\n",
       "      <td>2002-08-28</td>\n",
       "      <td>30.099020</td>\n",
       "      <td>24.903478</td>\n",
       "      <td>5.316341</td>\n",
       "      <td>-40.690826</td>\n",
       "    </tr>\n",
       "    <tr>\n",
       "      <th>971</th>\n",
       "      <td>2002-08-29</td>\n",
       "      <td>31.082870</td>\n",
       "      <td>26.045211</td>\n",
       "      <td>5.254374</td>\n",
       "      <td>-40.099827</td>\n",
       "    </tr>\n",
       "    <tr>\n",
       "      <th>972</th>\n",
       "      <td>2002-08-30</td>\n",
       "      <td>30.396306</td>\n",
       "      <td>26.211887</td>\n",
       "      <td>4.285850</td>\n",
       "      <td>-39.303725</td>\n",
       "    </tr>\n",
       "    <tr>\n",
       "      <th>973</th>\n",
       "      <td>2002-08-31</td>\n",
       "      <td>30.647376</td>\n",
       "      <td>26.635239</td>\n",
       "      <td>4.000161</td>\n",
       "      <td>-38.554119</td>\n",
       "    </tr>\n",
       "    <tr>\n",
       "      <th>974</th>\n",
       "      <td>2002-09-01</td>\n",
       "      <td>29.374029</td>\n",
       "      <td>25.912780</td>\n",
       "      <td>3.453493</td>\n",
       "      <td>-38.246368</td>\n",
       "    </tr>\n",
       "    <tr>\n",
       "      <th>975</th>\n",
       "      <td>2002-09-02</td>\n",
       "      <td>28.098823</td>\n",
       "      <td>26.327855</td>\n",
       "      <td>3.046383</td>\n",
       "      <td>-38.474728</td>\n",
       "    </tr>\n",
       "    <tr>\n",
       "      <th>976</th>\n",
       "      <td>2002-09-03</td>\n",
       "      <td>26.542454</td>\n",
       "      <td>27.604387</td>\n",
       "      <td>1.719827</td>\n",
       "      <td>-38.480998</td>\n",
       "    </tr>\n",
       "    <tr>\n",
       "      <th>977</th>\n",
       "      <td>2002-09-04</td>\n",
       "      <td>26.361955</td>\n",
       "      <td>26.334319</td>\n",
       "      <td>1.278898</td>\n",
       "      <td>-38.577474</td>\n",
       "    </tr>\n",
       "    <tr>\n",
       "      <th>978</th>\n",
       "      <td>2002-09-05</td>\n",
       "      <td>26.794599</td>\n",
       "      <td>27.153265</td>\n",
       "      <td>2.497976</td>\n",
       "      <td>-39.177703</td>\n",
       "    </tr>\n",
       "    <tr>\n",
       "      <th>979</th>\n",
       "      <td>2002-09-06</td>\n",
       "      <td>26.661666</td>\n",
       "      <td>28.068510</td>\n",
       "      <td>3.207597</td>\n",
       "      <td>-39.209365</td>\n",
       "    </tr>\n",
       "    <tr>\n",
       "      <th>980</th>\n",
       "      <td>2002-09-07</td>\n",
       "      <td>26.560522</td>\n",
       "      <td>28.605927</td>\n",
       "      <td>3.382417</td>\n",
       "      <td>-38.345356</td>\n",
       "    </tr>\n",
       "    <tr>\n",
       "      <th>981</th>\n",
       "      <td>2002-09-08</td>\n",
       "      <td>26.556144</td>\n",
       "      <td>28.255936</td>\n",
       "      <td>3.461442</td>\n",
       "      <td>-39.030939</td>\n",
       "    </tr>\n",
       "    <tr>\n",
       "      <th>982</th>\n",
       "      <td>2002-09-09</td>\n",
       "      <td>27.581889</td>\n",
       "      <td>28.341972</td>\n",
       "      <td>3.668822</td>\n",
       "      <td>-40.610923</td>\n",
       "    </tr>\n",
       "    <tr>\n",
       "      <th>983</th>\n",
       "      <td>2002-09-10</td>\n",
       "      <td>27.804859</td>\n",
       "      <td>29.246943</td>\n",
       "      <td>4.694979</td>\n",
       "      <td>-41.440494</td>\n",
       "    </tr>\n",
       "    <tr>\n",
       "      <th>984</th>\n",
       "      <td>2002-09-11</td>\n",
       "      <td>28.075468</td>\n",
       "      <td>29.247534</td>\n",
       "      <td>5.121495</td>\n",
       "      <td>-41.434057</td>\n",
       "    </tr>\n",
       "    <tr>\n",
       "      <th>985</th>\n",
       "      <td>2002-09-12</td>\n",
       "      <td>28.881049</td>\n",
       "      <td>30.611310</td>\n",
       "      <td>4.682815</td>\n",
       "      <td>-42.850699</td>\n",
       "    </tr>\n",
       "    <tr>\n",
       "      <th>986</th>\n",
       "      <td>2002-09-13</td>\n",
       "      <td>28.542852</td>\n",
       "      <td>29.834608</td>\n",
       "      <td>3.768050</td>\n",
       "      <td>-42.807398</td>\n",
       "    </tr>\n",
       "    <tr>\n",
       "      <th>987</th>\n",
       "      <td>2002-09-14</td>\n",
       "      <td>28.687690</td>\n",
       "      <td>30.559631</td>\n",
       "      <td>1.543508</td>\n",
       "      <td>-43.778688</td>\n",
       "    </tr>\n",
       "    <tr>\n",
       "      <th>988</th>\n",
       "      <td>2002-09-15</td>\n",
       "      <td>30.020357</td>\n",
       "      <td>30.229158</td>\n",
       "      <td>2.292072</td>\n",
       "      <td>-42.658198</td>\n",
       "    </tr>\n",
       "    <tr>\n",
       "      <th>989</th>\n",
       "      <td>2002-09-16</td>\n",
       "      <td>28.343602</td>\n",
       "      <td>31.250049</td>\n",
       "      <td>3.580468</td>\n",
       "      <td>-42.522086</td>\n",
       "    </tr>\n",
       "    <tr>\n",
       "      <th>990</th>\n",
       "      <td>2002-09-17</td>\n",
       "      <td>27.468854</td>\n",
       "      <td>30.142041</td>\n",
       "      <td>1.811261</td>\n",
       "      <td>-44.903237</td>\n",
       "    </tr>\n",
       "    <tr>\n",
       "      <th>991</th>\n",
       "      <td>2002-09-18</td>\n",
       "      <td>26.873679</td>\n",
       "      <td>29.423516</td>\n",
       "      <td>2.097221</td>\n",
       "      <td>-43.655515</td>\n",
       "    </tr>\n",
       "    <tr>\n",
       "      <th>992</th>\n",
       "      <td>2002-09-19</td>\n",
       "      <td>27.027499</td>\n",
       "      <td>28.539874</td>\n",
       "      <td>0.537505</td>\n",
       "      <td>-42.430765</td>\n",
       "    </tr>\n",
       "    <tr>\n",
       "      <th>993</th>\n",
       "      <td>2002-09-20</td>\n",
       "      <td>25.489879</td>\n",
       "      <td>29.355863</td>\n",
       "      <td>1.441332</td>\n",
       "      <td>-42.556718</td>\n",
       "    </tr>\n",
       "    <tr>\n",
       "      <th>994</th>\n",
       "      <td>2002-09-21</td>\n",
       "      <td>24.748822</td>\n",
       "      <td>31.276659</td>\n",
       "      <td>1.601704</td>\n",
       "      <td>-42.605355</td>\n",
       "    </tr>\n",
       "    <tr>\n",
       "      <th>995</th>\n",
       "      <td>2002-09-22</td>\n",
       "      <td>25.150899</td>\n",
       "      <td>30.540899</td>\n",
       "      <td>0.858846</td>\n",
       "      <td>-41.633249</td>\n",
       "    </tr>\n",
       "    <tr>\n",
       "      <th>996</th>\n",
       "      <td>2002-09-23</td>\n",
       "      <td>26.250123</td>\n",
       "      <td>31.231355</td>\n",
       "      <td>1.640898</td>\n",
       "      <td>-41.914219</td>\n",
       "    </tr>\n",
       "    <tr>\n",
       "      <th>997</th>\n",
       "      <td>2002-09-24</td>\n",
       "      <td>27.139615</td>\n",
       "      <td>30.727383</td>\n",
       "      <td>2.741476</td>\n",
       "      <td>-42.851494</td>\n",
       "    </tr>\n",
       "    <tr>\n",
       "      <th>998</th>\n",
       "      <td>2002-09-25</td>\n",
       "      <td>26.684841</td>\n",
       "      <td>31.750651</td>\n",
       "      <td>3.460838</td>\n",
       "      <td>-43.906603</td>\n",
       "    </tr>\n",
       "    <tr>\n",
       "      <th>999</th>\n",
       "      <td>2002-09-26</td>\n",
       "      <td>28.612124</td>\n",
       "      <td>31.758834</td>\n",
       "      <td>2.687583</td>\n",
       "      <td>-44.011566</td>\n",
       "    </tr>\n",
       "  </tbody>\n",
       "</table>\n",
       "<p>1000 rows × 5 columns</p>\n",
       "</div>"
      ],
      "text/plain": [
       "     Unnamed: 0          A          B          C          D\n",
       "0    2000-01-01  -0.115294   0.477522  -1.662135   0.173055\n",
       "1    2000-01-02  -0.783488  -0.115342   0.280588  -1.023208\n",
       "2    2000-01-03   1.483995  -0.513735  -0.803249  -1.092936\n",
       "3    2000-01-04   1.193449   0.113926   0.463330  -1.263594\n",
       "4    2000-01-05   1.635063  -0.712848   0.679855  -1.909782\n",
       "5    2000-01-06   2.937582  -0.962615   0.949267  -3.253567\n",
       "6    2000-01-07   2.460223  -0.284980   3.325060  -2.092990\n",
       "7    2000-01-08   3.432954  -0.297427   3.003128  -1.898293\n",
       "8    2000-01-09   5.653966  -1.133828   2.747221  -3.715699\n",
       "9    2000-01-10   6.948407  -1.028641   2.388121  -4.535794\n",
       "10   2000-01-11   6.511716  -1.333203   4.441790  -3.702421\n",
       "11   2000-01-12   7.940317  -1.454631   5.398797  -3.258555\n",
       "12   2000-01-13   7.447789  -2.156220   5.563109  -3.221475\n",
       "13   2000-01-14   8.045613  -1.885529   6.454309  -1.760364\n",
       "14   2000-01-15   7.260623  -1.334102   7.833203  -0.510646\n",
       "15   2000-01-16   7.656879  -1.672739   8.041312  -0.578499\n",
       "16   2000-01-17   6.492567  -3.163842   8.507224  -0.756157\n",
       "17   2000-01-18   6.068502  -2.147427   9.476423  -2.642751\n",
       "18   2000-01-19   4.549325  -1.123350   9.325409  -1.054714\n",
       "19   2000-01-20   3.401164  -2.178279   8.708674  -0.150719\n",
       "20   2000-01-21   5.936926  -3.609374   8.463366   0.035793\n",
       "21   2000-01-22   3.701037  -3.090974   9.484868  -0.186164\n",
       "22   2000-01-23   3.764558  -2.991897  10.501574   0.984260\n",
       "23   2000-01-24   4.292612  -4.420594  10.850614   2.740367\n",
       "24   2000-01-25   6.180071  -3.683727  10.460492   5.172890\n",
       "25   2000-01-26   5.513234  -3.468201  11.493001   5.555154\n",
       "26   2000-01-27   3.931536  -3.883506   9.945595   6.521334\n",
       "27   2000-01-28   3.478569  -3.945218  10.943228   6.048967\n",
       "28   2000-01-29   2.728183  -2.777616  10.117235   5.517150\n",
       "29   2000-01-30   4.223274  -4.093198  10.290639   5.387258\n",
       "..          ...        ...        ...        ...        ...\n",
       "970  2002-08-28  30.099020  24.903478   5.316341 -40.690826\n",
       "971  2002-08-29  31.082870  26.045211   5.254374 -40.099827\n",
       "972  2002-08-30  30.396306  26.211887   4.285850 -39.303725\n",
       "973  2002-08-31  30.647376  26.635239   4.000161 -38.554119\n",
       "974  2002-09-01  29.374029  25.912780   3.453493 -38.246368\n",
       "975  2002-09-02  28.098823  26.327855   3.046383 -38.474728\n",
       "976  2002-09-03  26.542454  27.604387   1.719827 -38.480998\n",
       "977  2002-09-04  26.361955  26.334319   1.278898 -38.577474\n",
       "978  2002-09-05  26.794599  27.153265   2.497976 -39.177703\n",
       "979  2002-09-06  26.661666  28.068510   3.207597 -39.209365\n",
       "980  2002-09-07  26.560522  28.605927   3.382417 -38.345356\n",
       "981  2002-09-08  26.556144  28.255936   3.461442 -39.030939\n",
       "982  2002-09-09  27.581889  28.341972   3.668822 -40.610923\n",
       "983  2002-09-10  27.804859  29.246943   4.694979 -41.440494\n",
       "984  2002-09-11  28.075468  29.247534   5.121495 -41.434057\n",
       "985  2002-09-12  28.881049  30.611310   4.682815 -42.850699\n",
       "986  2002-09-13  28.542852  29.834608   3.768050 -42.807398\n",
       "987  2002-09-14  28.687690  30.559631   1.543508 -43.778688\n",
       "988  2002-09-15  30.020357  30.229158   2.292072 -42.658198\n",
       "989  2002-09-16  28.343602  31.250049   3.580468 -42.522086\n",
       "990  2002-09-17  27.468854  30.142041   1.811261 -44.903237\n",
       "991  2002-09-18  26.873679  29.423516   2.097221 -43.655515\n",
       "992  2002-09-19  27.027499  28.539874   0.537505 -42.430765\n",
       "993  2002-09-20  25.489879  29.355863   1.441332 -42.556718\n",
       "994  2002-09-21  24.748822  31.276659   1.601704 -42.605355\n",
       "995  2002-09-22  25.150899  30.540899   0.858846 -41.633249\n",
       "996  2002-09-23  26.250123  31.231355   1.640898 -41.914219\n",
       "997  2002-09-24  27.139615  30.727383   2.741476 -42.851494\n",
       "998  2002-09-25  26.684841  31.750651   3.460838 -43.906603\n",
       "999  2002-09-26  28.612124  31.758834   2.687583 -44.011566\n",
       "\n",
       "[1000 rows x 5 columns]"
      ]
     },
     "execution_count": 185,
     "metadata": {},
     "output_type": "execute_result"
    }
   ],
   "source": [
    "pd.read_csv('foo.csv')"
   ]
  },
  {
   "cell_type": "code",
   "execution_count": 186,
   "metadata": {
    "collapsed": true
   },
   "outputs": [],
   "source": [
    "df.to_hdf('foo.h5','df')"
   ]
  },
  {
   "cell_type": "code",
   "execution_count": 187,
   "metadata": {
    "collapsed": false
   },
   "outputs": [
    {
     "data": {
      "text/html": [
       "<div>\n",
       "<table border=\"1\" class=\"dataframe\">\n",
       "  <thead>\n",
       "    <tr style=\"text-align: right;\">\n",
       "      <th></th>\n",
       "      <th>A</th>\n",
       "      <th>B</th>\n",
       "      <th>C</th>\n",
       "      <th>D</th>\n",
       "    </tr>\n",
       "  </thead>\n",
       "  <tbody>\n",
       "    <tr>\n",
       "      <th>2000-01-01</th>\n",
       "      <td>-0.115294</td>\n",
       "      <td>0.477522</td>\n",
       "      <td>-1.662135</td>\n",
       "      <td>0.173055</td>\n",
       "    </tr>\n",
       "    <tr>\n",
       "      <th>2000-01-02</th>\n",
       "      <td>-0.783488</td>\n",
       "      <td>-0.115342</td>\n",
       "      <td>0.280588</td>\n",
       "      <td>-1.023208</td>\n",
       "    </tr>\n",
       "    <tr>\n",
       "      <th>2000-01-03</th>\n",
       "      <td>1.483995</td>\n",
       "      <td>-0.513735</td>\n",
       "      <td>-0.803249</td>\n",
       "      <td>-1.092936</td>\n",
       "    </tr>\n",
       "    <tr>\n",
       "      <th>2000-01-04</th>\n",
       "      <td>1.193449</td>\n",
       "      <td>0.113926</td>\n",
       "      <td>0.463330</td>\n",
       "      <td>-1.263594</td>\n",
       "    </tr>\n",
       "    <tr>\n",
       "      <th>2000-01-05</th>\n",
       "      <td>1.635063</td>\n",
       "      <td>-0.712848</td>\n",
       "      <td>0.679855</td>\n",
       "      <td>-1.909782</td>\n",
       "    </tr>\n",
       "    <tr>\n",
       "      <th>2000-01-06</th>\n",
       "      <td>2.937582</td>\n",
       "      <td>-0.962615</td>\n",
       "      <td>0.949267</td>\n",
       "      <td>-3.253567</td>\n",
       "    </tr>\n",
       "    <tr>\n",
       "      <th>2000-01-07</th>\n",
       "      <td>2.460223</td>\n",
       "      <td>-0.284980</td>\n",
       "      <td>3.325060</td>\n",
       "      <td>-2.092990</td>\n",
       "    </tr>\n",
       "    <tr>\n",
       "      <th>2000-01-08</th>\n",
       "      <td>3.432954</td>\n",
       "      <td>-0.297427</td>\n",
       "      <td>3.003128</td>\n",
       "      <td>-1.898293</td>\n",
       "    </tr>\n",
       "    <tr>\n",
       "      <th>2000-01-09</th>\n",
       "      <td>5.653966</td>\n",
       "      <td>-1.133828</td>\n",
       "      <td>2.747221</td>\n",
       "      <td>-3.715699</td>\n",
       "    </tr>\n",
       "    <tr>\n",
       "      <th>2000-01-10</th>\n",
       "      <td>6.948407</td>\n",
       "      <td>-1.028641</td>\n",
       "      <td>2.388121</td>\n",
       "      <td>-4.535794</td>\n",
       "    </tr>\n",
       "    <tr>\n",
       "      <th>2000-01-11</th>\n",
       "      <td>6.511716</td>\n",
       "      <td>-1.333203</td>\n",
       "      <td>4.441790</td>\n",
       "      <td>-3.702421</td>\n",
       "    </tr>\n",
       "    <tr>\n",
       "      <th>2000-01-12</th>\n",
       "      <td>7.940317</td>\n",
       "      <td>-1.454631</td>\n",
       "      <td>5.398797</td>\n",
       "      <td>-3.258555</td>\n",
       "    </tr>\n",
       "    <tr>\n",
       "      <th>2000-01-13</th>\n",
       "      <td>7.447789</td>\n",
       "      <td>-2.156220</td>\n",
       "      <td>5.563109</td>\n",
       "      <td>-3.221475</td>\n",
       "    </tr>\n",
       "    <tr>\n",
       "      <th>2000-01-14</th>\n",
       "      <td>8.045613</td>\n",
       "      <td>-1.885529</td>\n",
       "      <td>6.454309</td>\n",
       "      <td>-1.760364</td>\n",
       "    </tr>\n",
       "    <tr>\n",
       "      <th>2000-01-15</th>\n",
       "      <td>7.260623</td>\n",
       "      <td>-1.334102</td>\n",
       "      <td>7.833203</td>\n",
       "      <td>-0.510646</td>\n",
       "    </tr>\n",
       "    <tr>\n",
       "      <th>2000-01-16</th>\n",
       "      <td>7.656879</td>\n",
       "      <td>-1.672739</td>\n",
       "      <td>8.041312</td>\n",
       "      <td>-0.578499</td>\n",
       "    </tr>\n",
       "    <tr>\n",
       "      <th>2000-01-17</th>\n",
       "      <td>6.492567</td>\n",
       "      <td>-3.163842</td>\n",
       "      <td>8.507224</td>\n",
       "      <td>-0.756157</td>\n",
       "    </tr>\n",
       "    <tr>\n",
       "      <th>2000-01-18</th>\n",
       "      <td>6.068502</td>\n",
       "      <td>-2.147427</td>\n",
       "      <td>9.476423</td>\n",
       "      <td>-2.642751</td>\n",
       "    </tr>\n",
       "    <tr>\n",
       "      <th>2000-01-19</th>\n",
       "      <td>4.549325</td>\n",
       "      <td>-1.123350</td>\n",
       "      <td>9.325409</td>\n",
       "      <td>-1.054714</td>\n",
       "    </tr>\n",
       "    <tr>\n",
       "      <th>2000-01-20</th>\n",
       "      <td>3.401164</td>\n",
       "      <td>-2.178279</td>\n",
       "      <td>8.708674</td>\n",
       "      <td>-0.150719</td>\n",
       "    </tr>\n",
       "    <tr>\n",
       "      <th>2000-01-21</th>\n",
       "      <td>5.936926</td>\n",
       "      <td>-3.609374</td>\n",
       "      <td>8.463366</td>\n",
       "      <td>0.035793</td>\n",
       "    </tr>\n",
       "    <tr>\n",
       "      <th>2000-01-22</th>\n",
       "      <td>3.701037</td>\n",
       "      <td>-3.090974</td>\n",
       "      <td>9.484868</td>\n",
       "      <td>-0.186164</td>\n",
       "    </tr>\n",
       "    <tr>\n",
       "      <th>2000-01-23</th>\n",
       "      <td>3.764558</td>\n",
       "      <td>-2.991897</td>\n",
       "      <td>10.501574</td>\n",
       "      <td>0.984260</td>\n",
       "    </tr>\n",
       "    <tr>\n",
       "      <th>2000-01-24</th>\n",
       "      <td>4.292612</td>\n",
       "      <td>-4.420594</td>\n",
       "      <td>10.850614</td>\n",
       "      <td>2.740367</td>\n",
       "    </tr>\n",
       "    <tr>\n",
       "      <th>2000-01-25</th>\n",
       "      <td>6.180071</td>\n",
       "      <td>-3.683727</td>\n",
       "      <td>10.460492</td>\n",
       "      <td>5.172890</td>\n",
       "    </tr>\n",
       "    <tr>\n",
       "      <th>2000-01-26</th>\n",
       "      <td>5.513234</td>\n",
       "      <td>-3.468201</td>\n",
       "      <td>11.493001</td>\n",
       "      <td>5.555154</td>\n",
       "    </tr>\n",
       "    <tr>\n",
       "      <th>2000-01-27</th>\n",
       "      <td>3.931536</td>\n",
       "      <td>-3.883506</td>\n",
       "      <td>9.945595</td>\n",
       "      <td>6.521334</td>\n",
       "    </tr>\n",
       "    <tr>\n",
       "      <th>2000-01-28</th>\n",
       "      <td>3.478569</td>\n",
       "      <td>-3.945218</td>\n",
       "      <td>10.943228</td>\n",
       "      <td>6.048967</td>\n",
       "    </tr>\n",
       "    <tr>\n",
       "      <th>2000-01-29</th>\n",
       "      <td>2.728183</td>\n",
       "      <td>-2.777616</td>\n",
       "      <td>10.117235</td>\n",
       "      <td>5.517150</td>\n",
       "    </tr>\n",
       "    <tr>\n",
       "      <th>2000-01-30</th>\n",
       "      <td>4.223274</td>\n",
       "      <td>-4.093198</td>\n",
       "      <td>10.290639</td>\n",
       "      <td>5.387258</td>\n",
       "    </tr>\n",
       "    <tr>\n",
       "      <th>...</th>\n",
       "      <td>...</td>\n",
       "      <td>...</td>\n",
       "      <td>...</td>\n",
       "      <td>...</td>\n",
       "    </tr>\n",
       "    <tr>\n",
       "      <th>2002-08-28</th>\n",
       "      <td>30.099020</td>\n",
       "      <td>24.903478</td>\n",
       "      <td>5.316341</td>\n",
       "      <td>-40.690826</td>\n",
       "    </tr>\n",
       "    <tr>\n",
       "      <th>2002-08-29</th>\n",
       "      <td>31.082870</td>\n",
       "      <td>26.045211</td>\n",
       "      <td>5.254374</td>\n",
       "      <td>-40.099827</td>\n",
       "    </tr>\n",
       "    <tr>\n",
       "      <th>2002-08-30</th>\n",
       "      <td>30.396306</td>\n",
       "      <td>26.211887</td>\n",
       "      <td>4.285850</td>\n",
       "      <td>-39.303725</td>\n",
       "    </tr>\n",
       "    <tr>\n",
       "      <th>2002-08-31</th>\n",
       "      <td>30.647376</td>\n",
       "      <td>26.635239</td>\n",
       "      <td>4.000161</td>\n",
       "      <td>-38.554119</td>\n",
       "    </tr>\n",
       "    <tr>\n",
       "      <th>2002-09-01</th>\n",
       "      <td>29.374029</td>\n",
       "      <td>25.912780</td>\n",
       "      <td>3.453493</td>\n",
       "      <td>-38.246368</td>\n",
       "    </tr>\n",
       "    <tr>\n",
       "      <th>2002-09-02</th>\n",
       "      <td>28.098823</td>\n",
       "      <td>26.327855</td>\n",
       "      <td>3.046383</td>\n",
       "      <td>-38.474728</td>\n",
       "    </tr>\n",
       "    <tr>\n",
       "      <th>2002-09-03</th>\n",
       "      <td>26.542454</td>\n",
       "      <td>27.604387</td>\n",
       "      <td>1.719827</td>\n",
       "      <td>-38.480998</td>\n",
       "    </tr>\n",
       "    <tr>\n",
       "      <th>2002-09-04</th>\n",
       "      <td>26.361955</td>\n",
       "      <td>26.334319</td>\n",
       "      <td>1.278898</td>\n",
       "      <td>-38.577474</td>\n",
       "    </tr>\n",
       "    <tr>\n",
       "      <th>2002-09-05</th>\n",
       "      <td>26.794599</td>\n",
       "      <td>27.153265</td>\n",
       "      <td>2.497976</td>\n",
       "      <td>-39.177703</td>\n",
       "    </tr>\n",
       "    <tr>\n",
       "      <th>2002-09-06</th>\n",
       "      <td>26.661666</td>\n",
       "      <td>28.068510</td>\n",
       "      <td>3.207597</td>\n",
       "      <td>-39.209365</td>\n",
       "    </tr>\n",
       "    <tr>\n",
       "      <th>2002-09-07</th>\n",
       "      <td>26.560522</td>\n",
       "      <td>28.605927</td>\n",
       "      <td>3.382417</td>\n",
       "      <td>-38.345356</td>\n",
       "    </tr>\n",
       "    <tr>\n",
       "      <th>2002-09-08</th>\n",
       "      <td>26.556144</td>\n",
       "      <td>28.255936</td>\n",
       "      <td>3.461442</td>\n",
       "      <td>-39.030939</td>\n",
       "    </tr>\n",
       "    <tr>\n",
       "      <th>2002-09-09</th>\n",
       "      <td>27.581889</td>\n",
       "      <td>28.341972</td>\n",
       "      <td>3.668822</td>\n",
       "      <td>-40.610923</td>\n",
       "    </tr>\n",
       "    <tr>\n",
       "      <th>2002-09-10</th>\n",
       "      <td>27.804859</td>\n",
       "      <td>29.246943</td>\n",
       "      <td>4.694979</td>\n",
       "      <td>-41.440494</td>\n",
       "    </tr>\n",
       "    <tr>\n",
       "      <th>2002-09-11</th>\n",
       "      <td>28.075468</td>\n",
       "      <td>29.247534</td>\n",
       "      <td>5.121495</td>\n",
       "      <td>-41.434057</td>\n",
       "    </tr>\n",
       "    <tr>\n",
       "      <th>2002-09-12</th>\n",
       "      <td>28.881049</td>\n",
       "      <td>30.611310</td>\n",
       "      <td>4.682815</td>\n",
       "      <td>-42.850699</td>\n",
       "    </tr>\n",
       "    <tr>\n",
       "      <th>2002-09-13</th>\n",
       "      <td>28.542852</td>\n",
       "      <td>29.834608</td>\n",
       "      <td>3.768050</td>\n",
       "      <td>-42.807398</td>\n",
       "    </tr>\n",
       "    <tr>\n",
       "      <th>2002-09-14</th>\n",
       "      <td>28.687690</td>\n",
       "      <td>30.559631</td>\n",
       "      <td>1.543508</td>\n",
       "      <td>-43.778688</td>\n",
       "    </tr>\n",
       "    <tr>\n",
       "      <th>2002-09-15</th>\n",
       "      <td>30.020357</td>\n",
       "      <td>30.229158</td>\n",
       "      <td>2.292072</td>\n",
       "      <td>-42.658198</td>\n",
       "    </tr>\n",
       "    <tr>\n",
       "      <th>2002-09-16</th>\n",
       "      <td>28.343602</td>\n",
       "      <td>31.250049</td>\n",
       "      <td>3.580468</td>\n",
       "      <td>-42.522086</td>\n",
       "    </tr>\n",
       "    <tr>\n",
       "      <th>2002-09-17</th>\n",
       "      <td>27.468854</td>\n",
       "      <td>30.142041</td>\n",
       "      <td>1.811261</td>\n",
       "      <td>-44.903237</td>\n",
       "    </tr>\n",
       "    <tr>\n",
       "      <th>2002-09-18</th>\n",
       "      <td>26.873679</td>\n",
       "      <td>29.423516</td>\n",
       "      <td>2.097221</td>\n",
       "      <td>-43.655515</td>\n",
       "    </tr>\n",
       "    <tr>\n",
       "      <th>2002-09-19</th>\n",
       "      <td>27.027499</td>\n",
       "      <td>28.539874</td>\n",
       "      <td>0.537505</td>\n",
       "      <td>-42.430765</td>\n",
       "    </tr>\n",
       "    <tr>\n",
       "      <th>2002-09-20</th>\n",
       "      <td>25.489879</td>\n",
       "      <td>29.355863</td>\n",
       "      <td>1.441332</td>\n",
       "      <td>-42.556718</td>\n",
       "    </tr>\n",
       "    <tr>\n",
       "      <th>2002-09-21</th>\n",
       "      <td>24.748822</td>\n",
       "      <td>31.276659</td>\n",
       "      <td>1.601704</td>\n",
       "      <td>-42.605355</td>\n",
       "    </tr>\n",
       "    <tr>\n",
       "      <th>2002-09-22</th>\n",
       "      <td>25.150899</td>\n",
       "      <td>30.540899</td>\n",
       "      <td>0.858846</td>\n",
       "      <td>-41.633249</td>\n",
       "    </tr>\n",
       "    <tr>\n",
       "      <th>2002-09-23</th>\n",
       "      <td>26.250123</td>\n",
       "      <td>31.231355</td>\n",
       "      <td>1.640898</td>\n",
       "      <td>-41.914219</td>\n",
       "    </tr>\n",
       "    <tr>\n",
       "      <th>2002-09-24</th>\n",
       "      <td>27.139615</td>\n",
       "      <td>30.727383</td>\n",
       "      <td>2.741476</td>\n",
       "      <td>-42.851494</td>\n",
       "    </tr>\n",
       "    <tr>\n",
       "      <th>2002-09-25</th>\n",
       "      <td>26.684841</td>\n",
       "      <td>31.750651</td>\n",
       "      <td>3.460838</td>\n",
       "      <td>-43.906603</td>\n",
       "    </tr>\n",
       "    <tr>\n",
       "      <th>2002-09-26</th>\n",
       "      <td>28.612124</td>\n",
       "      <td>31.758834</td>\n",
       "      <td>2.687583</td>\n",
       "      <td>-44.011566</td>\n",
       "    </tr>\n",
       "  </tbody>\n",
       "</table>\n",
       "<p>1000 rows × 4 columns</p>\n",
       "</div>"
      ],
      "text/plain": [
       "                    A          B          C          D\n",
       "2000-01-01  -0.115294   0.477522  -1.662135   0.173055\n",
       "2000-01-02  -0.783488  -0.115342   0.280588  -1.023208\n",
       "2000-01-03   1.483995  -0.513735  -0.803249  -1.092936\n",
       "2000-01-04   1.193449   0.113926   0.463330  -1.263594\n",
       "2000-01-05   1.635063  -0.712848   0.679855  -1.909782\n",
       "2000-01-06   2.937582  -0.962615   0.949267  -3.253567\n",
       "2000-01-07   2.460223  -0.284980   3.325060  -2.092990\n",
       "2000-01-08   3.432954  -0.297427   3.003128  -1.898293\n",
       "2000-01-09   5.653966  -1.133828   2.747221  -3.715699\n",
       "2000-01-10   6.948407  -1.028641   2.388121  -4.535794\n",
       "2000-01-11   6.511716  -1.333203   4.441790  -3.702421\n",
       "2000-01-12   7.940317  -1.454631   5.398797  -3.258555\n",
       "2000-01-13   7.447789  -2.156220   5.563109  -3.221475\n",
       "2000-01-14   8.045613  -1.885529   6.454309  -1.760364\n",
       "2000-01-15   7.260623  -1.334102   7.833203  -0.510646\n",
       "2000-01-16   7.656879  -1.672739   8.041312  -0.578499\n",
       "2000-01-17   6.492567  -3.163842   8.507224  -0.756157\n",
       "2000-01-18   6.068502  -2.147427   9.476423  -2.642751\n",
       "2000-01-19   4.549325  -1.123350   9.325409  -1.054714\n",
       "2000-01-20   3.401164  -2.178279   8.708674  -0.150719\n",
       "2000-01-21   5.936926  -3.609374   8.463366   0.035793\n",
       "2000-01-22   3.701037  -3.090974   9.484868  -0.186164\n",
       "2000-01-23   3.764558  -2.991897  10.501574   0.984260\n",
       "2000-01-24   4.292612  -4.420594  10.850614   2.740367\n",
       "2000-01-25   6.180071  -3.683727  10.460492   5.172890\n",
       "2000-01-26   5.513234  -3.468201  11.493001   5.555154\n",
       "2000-01-27   3.931536  -3.883506   9.945595   6.521334\n",
       "2000-01-28   3.478569  -3.945218  10.943228   6.048967\n",
       "2000-01-29   2.728183  -2.777616  10.117235   5.517150\n",
       "2000-01-30   4.223274  -4.093198  10.290639   5.387258\n",
       "...               ...        ...        ...        ...\n",
       "2002-08-28  30.099020  24.903478   5.316341 -40.690826\n",
       "2002-08-29  31.082870  26.045211   5.254374 -40.099827\n",
       "2002-08-30  30.396306  26.211887   4.285850 -39.303725\n",
       "2002-08-31  30.647376  26.635239   4.000161 -38.554119\n",
       "2002-09-01  29.374029  25.912780   3.453493 -38.246368\n",
       "2002-09-02  28.098823  26.327855   3.046383 -38.474728\n",
       "2002-09-03  26.542454  27.604387   1.719827 -38.480998\n",
       "2002-09-04  26.361955  26.334319   1.278898 -38.577474\n",
       "2002-09-05  26.794599  27.153265   2.497976 -39.177703\n",
       "2002-09-06  26.661666  28.068510   3.207597 -39.209365\n",
       "2002-09-07  26.560522  28.605927   3.382417 -38.345356\n",
       "2002-09-08  26.556144  28.255936   3.461442 -39.030939\n",
       "2002-09-09  27.581889  28.341972   3.668822 -40.610923\n",
       "2002-09-10  27.804859  29.246943   4.694979 -41.440494\n",
       "2002-09-11  28.075468  29.247534   5.121495 -41.434057\n",
       "2002-09-12  28.881049  30.611310   4.682815 -42.850699\n",
       "2002-09-13  28.542852  29.834608   3.768050 -42.807398\n",
       "2002-09-14  28.687690  30.559631   1.543508 -43.778688\n",
       "2002-09-15  30.020357  30.229158   2.292072 -42.658198\n",
       "2002-09-16  28.343602  31.250049   3.580468 -42.522086\n",
       "2002-09-17  27.468854  30.142041   1.811261 -44.903237\n",
       "2002-09-18  26.873679  29.423516   2.097221 -43.655515\n",
       "2002-09-19  27.027499  28.539874   0.537505 -42.430765\n",
       "2002-09-20  25.489879  29.355863   1.441332 -42.556718\n",
       "2002-09-21  24.748822  31.276659   1.601704 -42.605355\n",
       "2002-09-22  25.150899  30.540899   0.858846 -41.633249\n",
       "2002-09-23  26.250123  31.231355   1.640898 -41.914219\n",
       "2002-09-24  27.139615  30.727383   2.741476 -42.851494\n",
       "2002-09-25  26.684841  31.750651   3.460838 -43.906603\n",
       "2002-09-26  28.612124  31.758834   2.687583 -44.011566\n",
       "\n",
       "[1000 rows x 4 columns]"
      ]
     },
     "execution_count": 187,
     "metadata": {},
     "output_type": "execute_result"
    }
   ],
   "source": [
    "pd.read_hdf('foo.h5','df')"
   ]
  },
  {
   "cell_type": "code",
   "execution_count": 188,
   "metadata": {
    "collapsed": true
   },
   "outputs": [],
   "source": [
    "df.to_excel('foo.xlsx', sheet_name='Sheet1')"
   ]
  },
  {
   "cell_type": "code",
   "execution_count": 189,
   "metadata": {
    "collapsed": false
   },
   "outputs": [
    {
     "data": {
      "text/html": [
       "<div>\n",
       "<table border=\"1\" class=\"dataframe\">\n",
       "  <thead>\n",
       "    <tr style=\"text-align: right;\">\n",
       "      <th></th>\n",
       "      <th>A</th>\n",
       "      <th>B</th>\n",
       "      <th>C</th>\n",
       "      <th>D</th>\n",
       "    </tr>\n",
       "  </thead>\n",
       "  <tbody>\n",
       "    <tr>\n",
       "      <th>2000-01-01</th>\n",
       "      <td>-0.115294</td>\n",
       "      <td>0.477522</td>\n",
       "      <td>-1.662135</td>\n",
       "      <td>0.173055</td>\n",
       "    </tr>\n",
       "    <tr>\n",
       "      <th>2000-01-02</th>\n",
       "      <td>-0.783488</td>\n",
       "      <td>-0.115342</td>\n",
       "      <td>0.280588</td>\n",
       "      <td>-1.023208</td>\n",
       "    </tr>\n",
       "    <tr>\n",
       "      <th>2000-01-03</th>\n",
       "      <td>1.483995</td>\n",
       "      <td>-0.513735</td>\n",
       "      <td>-0.803249</td>\n",
       "      <td>-1.092936</td>\n",
       "    </tr>\n",
       "    <tr>\n",
       "      <th>2000-01-04</th>\n",
       "      <td>1.193449</td>\n",
       "      <td>0.113926</td>\n",
       "      <td>0.463330</td>\n",
       "      <td>-1.263594</td>\n",
       "    </tr>\n",
       "    <tr>\n",
       "      <th>2000-01-05</th>\n",
       "      <td>1.635063</td>\n",
       "      <td>-0.712848</td>\n",
       "      <td>0.679855</td>\n",
       "      <td>-1.909782</td>\n",
       "    </tr>\n",
       "    <tr>\n",
       "      <th>2000-01-06</th>\n",
       "      <td>2.937582</td>\n",
       "      <td>-0.962615</td>\n",
       "      <td>0.949267</td>\n",
       "      <td>-3.253567</td>\n",
       "    </tr>\n",
       "    <tr>\n",
       "      <th>2000-01-07</th>\n",
       "      <td>2.460223</td>\n",
       "      <td>-0.284980</td>\n",
       "      <td>3.325060</td>\n",
       "      <td>-2.092990</td>\n",
       "    </tr>\n",
       "    <tr>\n",
       "      <th>2000-01-08</th>\n",
       "      <td>3.432954</td>\n",
       "      <td>-0.297427</td>\n",
       "      <td>3.003128</td>\n",
       "      <td>-1.898293</td>\n",
       "    </tr>\n",
       "    <tr>\n",
       "      <th>2000-01-09</th>\n",
       "      <td>5.653966</td>\n",
       "      <td>-1.133828</td>\n",
       "      <td>2.747221</td>\n",
       "      <td>-3.715699</td>\n",
       "    </tr>\n",
       "    <tr>\n",
       "      <th>2000-01-10</th>\n",
       "      <td>6.948407</td>\n",
       "      <td>-1.028641</td>\n",
       "      <td>2.388121</td>\n",
       "      <td>-4.535794</td>\n",
       "    </tr>\n",
       "    <tr>\n",
       "      <th>2000-01-11</th>\n",
       "      <td>6.511716</td>\n",
       "      <td>-1.333203</td>\n",
       "      <td>4.441790</td>\n",
       "      <td>-3.702421</td>\n",
       "    </tr>\n",
       "    <tr>\n",
       "      <th>2000-01-12</th>\n",
       "      <td>7.940317</td>\n",
       "      <td>-1.454631</td>\n",
       "      <td>5.398797</td>\n",
       "      <td>-3.258555</td>\n",
       "    </tr>\n",
       "    <tr>\n",
       "      <th>2000-01-13</th>\n",
       "      <td>7.447789</td>\n",
       "      <td>-2.156220</td>\n",
       "      <td>5.563109</td>\n",
       "      <td>-3.221475</td>\n",
       "    </tr>\n",
       "    <tr>\n",
       "      <th>2000-01-14</th>\n",
       "      <td>8.045613</td>\n",
       "      <td>-1.885529</td>\n",
       "      <td>6.454309</td>\n",
       "      <td>-1.760364</td>\n",
       "    </tr>\n",
       "    <tr>\n",
       "      <th>2000-01-15</th>\n",
       "      <td>7.260623</td>\n",
       "      <td>-1.334102</td>\n",
       "      <td>7.833203</td>\n",
       "      <td>-0.510646</td>\n",
       "    </tr>\n",
       "    <tr>\n",
       "      <th>2000-01-16</th>\n",
       "      <td>7.656879</td>\n",
       "      <td>-1.672739</td>\n",
       "      <td>8.041312</td>\n",
       "      <td>-0.578499</td>\n",
       "    </tr>\n",
       "    <tr>\n",
       "      <th>2000-01-17</th>\n",
       "      <td>6.492567</td>\n",
       "      <td>-3.163842</td>\n",
       "      <td>8.507224</td>\n",
       "      <td>-0.756157</td>\n",
       "    </tr>\n",
       "    <tr>\n",
       "      <th>2000-01-18</th>\n",
       "      <td>6.068502</td>\n",
       "      <td>-2.147427</td>\n",
       "      <td>9.476423</td>\n",
       "      <td>-2.642751</td>\n",
       "    </tr>\n",
       "    <tr>\n",
       "      <th>2000-01-19</th>\n",
       "      <td>4.549325</td>\n",
       "      <td>-1.123350</td>\n",
       "      <td>9.325409</td>\n",
       "      <td>-1.054714</td>\n",
       "    </tr>\n",
       "    <tr>\n",
       "      <th>2000-01-20</th>\n",
       "      <td>3.401164</td>\n",
       "      <td>-2.178279</td>\n",
       "      <td>8.708674</td>\n",
       "      <td>-0.150719</td>\n",
       "    </tr>\n",
       "    <tr>\n",
       "      <th>2000-01-21</th>\n",
       "      <td>5.936926</td>\n",
       "      <td>-3.609374</td>\n",
       "      <td>8.463366</td>\n",
       "      <td>0.035793</td>\n",
       "    </tr>\n",
       "    <tr>\n",
       "      <th>2000-01-22</th>\n",
       "      <td>3.701037</td>\n",
       "      <td>-3.090974</td>\n",
       "      <td>9.484868</td>\n",
       "      <td>-0.186164</td>\n",
       "    </tr>\n",
       "    <tr>\n",
       "      <th>2000-01-23</th>\n",
       "      <td>3.764558</td>\n",
       "      <td>-2.991897</td>\n",
       "      <td>10.501574</td>\n",
       "      <td>0.984260</td>\n",
       "    </tr>\n",
       "    <tr>\n",
       "      <th>2000-01-24</th>\n",
       "      <td>4.292612</td>\n",
       "      <td>-4.420594</td>\n",
       "      <td>10.850614</td>\n",
       "      <td>2.740367</td>\n",
       "    </tr>\n",
       "    <tr>\n",
       "      <th>2000-01-25</th>\n",
       "      <td>6.180071</td>\n",
       "      <td>-3.683727</td>\n",
       "      <td>10.460492</td>\n",
       "      <td>5.172890</td>\n",
       "    </tr>\n",
       "    <tr>\n",
       "      <th>2000-01-26</th>\n",
       "      <td>5.513234</td>\n",
       "      <td>-3.468201</td>\n",
       "      <td>11.493001</td>\n",
       "      <td>5.555154</td>\n",
       "    </tr>\n",
       "    <tr>\n",
       "      <th>2000-01-27</th>\n",
       "      <td>3.931536</td>\n",
       "      <td>-3.883506</td>\n",
       "      <td>9.945595</td>\n",
       "      <td>6.521334</td>\n",
       "    </tr>\n",
       "    <tr>\n",
       "      <th>2000-01-28</th>\n",
       "      <td>3.478569</td>\n",
       "      <td>-3.945218</td>\n",
       "      <td>10.943228</td>\n",
       "      <td>6.048967</td>\n",
       "    </tr>\n",
       "    <tr>\n",
       "      <th>2000-01-29</th>\n",
       "      <td>2.728183</td>\n",
       "      <td>-2.777616</td>\n",
       "      <td>10.117235</td>\n",
       "      <td>5.517150</td>\n",
       "    </tr>\n",
       "    <tr>\n",
       "      <th>2000-01-30</th>\n",
       "      <td>4.223274</td>\n",
       "      <td>-4.093198</td>\n",
       "      <td>10.290639</td>\n",
       "      <td>5.387258</td>\n",
       "    </tr>\n",
       "    <tr>\n",
       "      <th>...</th>\n",
       "      <td>...</td>\n",
       "      <td>...</td>\n",
       "      <td>...</td>\n",
       "      <td>...</td>\n",
       "    </tr>\n",
       "    <tr>\n",
       "      <th>2002-08-28</th>\n",
       "      <td>30.099020</td>\n",
       "      <td>24.903478</td>\n",
       "      <td>5.316341</td>\n",
       "      <td>-40.690826</td>\n",
       "    </tr>\n",
       "    <tr>\n",
       "      <th>2002-08-29</th>\n",
       "      <td>31.082870</td>\n",
       "      <td>26.045211</td>\n",
       "      <td>5.254374</td>\n",
       "      <td>-40.099827</td>\n",
       "    </tr>\n",
       "    <tr>\n",
       "      <th>2002-08-30</th>\n",
       "      <td>30.396306</td>\n",
       "      <td>26.211887</td>\n",
       "      <td>4.285850</td>\n",
       "      <td>-39.303725</td>\n",
       "    </tr>\n",
       "    <tr>\n",
       "      <th>2002-08-31</th>\n",
       "      <td>30.647376</td>\n",
       "      <td>26.635239</td>\n",
       "      <td>4.000161</td>\n",
       "      <td>-38.554119</td>\n",
       "    </tr>\n",
       "    <tr>\n",
       "      <th>2002-09-01</th>\n",
       "      <td>29.374029</td>\n",
       "      <td>25.912780</td>\n",
       "      <td>3.453493</td>\n",
       "      <td>-38.246368</td>\n",
       "    </tr>\n",
       "    <tr>\n",
       "      <th>2002-09-02</th>\n",
       "      <td>28.098823</td>\n",
       "      <td>26.327855</td>\n",
       "      <td>3.046383</td>\n",
       "      <td>-38.474728</td>\n",
       "    </tr>\n",
       "    <tr>\n",
       "      <th>2002-09-03</th>\n",
       "      <td>26.542454</td>\n",
       "      <td>27.604387</td>\n",
       "      <td>1.719827</td>\n",
       "      <td>-38.480998</td>\n",
       "    </tr>\n",
       "    <tr>\n",
       "      <th>2002-09-04</th>\n",
       "      <td>26.361955</td>\n",
       "      <td>26.334319</td>\n",
       "      <td>1.278898</td>\n",
       "      <td>-38.577474</td>\n",
       "    </tr>\n",
       "    <tr>\n",
       "      <th>2002-09-05</th>\n",
       "      <td>26.794599</td>\n",
       "      <td>27.153265</td>\n",
       "      <td>2.497976</td>\n",
       "      <td>-39.177703</td>\n",
       "    </tr>\n",
       "    <tr>\n",
       "      <th>2002-09-06</th>\n",
       "      <td>26.661666</td>\n",
       "      <td>28.068510</td>\n",
       "      <td>3.207597</td>\n",
       "      <td>-39.209365</td>\n",
       "    </tr>\n",
       "    <tr>\n",
       "      <th>2002-09-07</th>\n",
       "      <td>26.560522</td>\n",
       "      <td>28.605927</td>\n",
       "      <td>3.382417</td>\n",
       "      <td>-38.345356</td>\n",
       "    </tr>\n",
       "    <tr>\n",
       "      <th>2002-09-08</th>\n",
       "      <td>26.556144</td>\n",
       "      <td>28.255936</td>\n",
       "      <td>3.461442</td>\n",
       "      <td>-39.030939</td>\n",
       "    </tr>\n",
       "    <tr>\n",
       "      <th>2002-09-09</th>\n",
       "      <td>27.581889</td>\n",
       "      <td>28.341972</td>\n",
       "      <td>3.668822</td>\n",
       "      <td>-40.610923</td>\n",
       "    </tr>\n",
       "    <tr>\n",
       "      <th>2002-09-10</th>\n",
       "      <td>27.804859</td>\n",
       "      <td>29.246943</td>\n",
       "      <td>4.694979</td>\n",
       "      <td>-41.440494</td>\n",
       "    </tr>\n",
       "    <tr>\n",
       "      <th>2002-09-11</th>\n",
       "      <td>28.075468</td>\n",
       "      <td>29.247534</td>\n",
       "      <td>5.121495</td>\n",
       "      <td>-41.434057</td>\n",
       "    </tr>\n",
       "    <tr>\n",
       "      <th>2002-09-12</th>\n",
       "      <td>28.881049</td>\n",
       "      <td>30.611310</td>\n",
       "      <td>4.682815</td>\n",
       "      <td>-42.850699</td>\n",
       "    </tr>\n",
       "    <tr>\n",
       "      <th>2002-09-13</th>\n",
       "      <td>28.542852</td>\n",
       "      <td>29.834608</td>\n",
       "      <td>3.768050</td>\n",
       "      <td>-42.807398</td>\n",
       "    </tr>\n",
       "    <tr>\n",
       "      <th>2002-09-14</th>\n",
       "      <td>28.687690</td>\n",
       "      <td>30.559631</td>\n",
       "      <td>1.543508</td>\n",
       "      <td>-43.778688</td>\n",
       "    </tr>\n",
       "    <tr>\n",
       "      <th>2002-09-15</th>\n",
       "      <td>30.020357</td>\n",
       "      <td>30.229158</td>\n",
       "      <td>2.292072</td>\n",
       "      <td>-42.658198</td>\n",
       "    </tr>\n",
       "    <tr>\n",
       "      <th>2002-09-16</th>\n",
       "      <td>28.343602</td>\n",
       "      <td>31.250049</td>\n",
       "      <td>3.580468</td>\n",
       "      <td>-42.522086</td>\n",
       "    </tr>\n",
       "    <tr>\n",
       "      <th>2002-09-17</th>\n",
       "      <td>27.468854</td>\n",
       "      <td>30.142041</td>\n",
       "      <td>1.811261</td>\n",
       "      <td>-44.903237</td>\n",
       "    </tr>\n",
       "    <tr>\n",
       "      <th>2002-09-18</th>\n",
       "      <td>26.873679</td>\n",
       "      <td>29.423516</td>\n",
       "      <td>2.097221</td>\n",
       "      <td>-43.655515</td>\n",
       "    </tr>\n",
       "    <tr>\n",
       "      <th>2002-09-19</th>\n",
       "      <td>27.027499</td>\n",
       "      <td>28.539874</td>\n",
       "      <td>0.537505</td>\n",
       "      <td>-42.430765</td>\n",
       "    </tr>\n",
       "    <tr>\n",
       "      <th>2002-09-20</th>\n",
       "      <td>25.489879</td>\n",
       "      <td>29.355863</td>\n",
       "      <td>1.441332</td>\n",
       "      <td>-42.556718</td>\n",
       "    </tr>\n",
       "    <tr>\n",
       "      <th>2002-09-21</th>\n",
       "      <td>24.748822</td>\n",
       "      <td>31.276659</td>\n",
       "      <td>1.601704</td>\n",
       "      <td>-42.605355</td>\n",
       "    </tr>\n",
       "    <tr>\n",
       "      <th>2002-09-22</th>\n",
       "      <td>25.150899</td>\n",
       "      <td>30.540899</td>\n",
       "      <td>0.858846</td>\n",
       "      <td>-41.633249</td>\n",
       "    </tr>\n",
       "    <tr>\n",
       "      <th>2002-09-23</th>\n",
       "      <td>26.250123</td>\n",
       "      <td>31.231355</td>\n",
       "      <td>1.640898</td>\n",
       "      <td>-41.914219</td>\n",
       "    </tr>\n",
       "    <tr>\n",
       "      <th>2002-09-24</th>\n",
       "      <td>27.139615</td>\n",
       "      <td>30.727383</td>\n",
       "      <td>2.741476</td>\n",
       "      <td>-42.851494</td>\n",
       "    </tr>\n",
       "    <tr>\n",
       "      <th>2002-09-25</th>\n",
       "      <td>26.684841</td>\n",
       "      <td>31.750651</td>\n",
       "      <td>3.460838</td>\n",
       "      <td>-43.906603</td>\n",
       "    </tr>\n",
       "    <tr>\n",
       "      <th>2002-09-26</th>\n",
       "      <td>28.612124</td>\n",
       "      <td>31.758834</td>\n",
       "      <td>2.687583</td>\n",
       "      <td>-44.011566</td>\n",
       "    </tr>\n",
       "  </tbody>\n",
       "</table>\n",
       "<p>1000 rows × 4 columns</p>\n",
       "</div>"
      ],
      "text/plain": [
       "                    A          B          C          D\n",
       "2000-01-01  -0.115294   0.477522  -1.662135   0.173055\n",
       "2000-01-02  -0.783488  -0.115342   0.280588  -1.023208\n",
       "2000-01-03   1.483995  -0.513735  -0.803249  -1.092936\n",
       "2000-01-04   1.193449   0.113926   0.463330  -1.263594\n",
       "2000-01-05   1.635063  -0.712848   0.679855  -1.909782\n",
       "2000-01-06   2.937582  -0.962615   0.949267  -3.253567\n",
       "2000-01-07   2.460223  -0.284980   3.325060  -2.092990\n",
       "2000-01-08   3.432954  -0.297427   3.003128  -1.898293\n",
       "2000-01-09   5.653966  -1.133828   2.747221  -3.715699\n",
       "2000-01-10   6.948407  -1.028641   2.388121  -4.535794\n",
       "2000-01-11   6.511716  -1.333203   4.441790  -3.702421\n",
       "2000-01-12   7.940317  -1.454631   5.398797  -3.258555\n",
       "2000-01-13   7.447789  -2.156220   5.563109  -3.221475\n",
       "2000-01-14   8.045613  -1.885529   6.454309  -1.760364\n",
       "2000-01-15   7.260623  -1.334102   7.833203  -0.510646\n",
       "2000-01-16   7.656879  -1.672739   8.041312  -0.578499\n",
       "2000-01-17   6.492567  -3.163842   8.507224  -0.756157\n",
       "2000-01-18   6.068502  -2.147427   9.476423  -2.642751\n",
       "2000-01-19   4.549325  -1.123350   9.325409  -1.054714\n",
       "2000-01-20   3.401164  -2.178279   8.708674  -0.150719\n",
       "2000-01-21   5.936926  -3.609374   8.463366   0.035793\n",
       "2000-01-22   3.701037  -3.090974   9.484868  -0.186164\n",
       "2000-01-23   3.764558  -2.991897  10.501574   0.984260\n",
       "2000-01-24   4.292612  -4.420594  10.850614   2.740367\n",
       "2000-01-25   6.180071  -3.683727  10.460492   5.172890\n",
       "2000-01-26   5.513234  -3.468201  11.493001   5.555154\n",
       "2000-01-27   3.931536  -3.883506   9.945595   6.521334\n",
       "2000-01-28   3.478569  -3.945218  10.943228   6.048967\n",
       "2000-01-29   2.728183  -2.777616  10.117235   5.517150\n",
       "2000-01-30   4.223274  -4.093198  10.290639   5.387258\n",
       "...               ...        ...        ...        ...\n",
       "2002-08-28  30.099020  24.903478   5.316341 -40.690826\n",
       "2002-08-29  31.082870  26.045211   5.254374 -40.099827\n",
       "2002-08-30  30.396306  26.211887   4.285850 -39.303725\n",
       "2002-08-31  30.647376  26.635239   4.000161 -38.554119\n",
       "2002-09-01  29.374029  25.912780   3.453493 -38.246368\n",
       "2002-09-02  28.098823  26.327855   3.046383 -38.474728\n",
       "2002-09-03  26.542454  27.604387   1.719827 -38.480998\n",
       "2002-09-04  26.361955  26.334319   1.278898 -38.577474\n",
       "2002-09-05  26.794599  27.153265   2.497976 -39.177703\n",
       "2002-09-06  26.661666  28.068510   3.207597 -39.209365\n",
       "2002-09-07  26.560522  28.605927   3.382417 -38.345356\n",
       "2002-09-08  26.556144  28.255936   3.461442 -39.030939\n",
       "2002-09-09  27.581889  28.341972   3.668822 -40.610923\n",
       "2002-09-10  27.804859  29.246943   4.694979 -41.440494\n",
       "2002-09-11  28.075468  29.247534   5.121495 -41.434057\n",
       "2002-09-12  28.881049  30.611310   4.682815 -42.850699\n",
       "2002-09-13  28.542852  29.834608   3.768050 -42.807398\n",
       "2002-09-14  28.687690  30.559631   1.543508 -43.778688\n",
       "2002-09-15  30.020357  30.229158   2.292072 -42.658198\n",
       "2002-09-16  28.343602  31.250049   3.580468 -42.522086\n",
       "2002-09-17  27.468854  30.142041   1.811261 -44.903237\n",
       "2002-09-18  26.873679  29.423516   2.097221 -43.655515\n",
       "2002-09-19  27.027499  28.539874   0.537505 -42.430765\n",
       "2002-09-20  25.489879  29.355863   1.441332 -42.556718\n",
       "2002-09-21  24.748822  31.276659   1.601704 -42.605355\n",
       "2002-09-22  25.150899  30.540899   0.858846 -41.633249\n",
       "2002-09-23  26.250123  31.231355   1.640898 -41.914219\n",
       "2002-09-24  27.139615  30.727383   2.741476 -42.851494\n",
       "2002-09-25  26.684841  31.750651   3.460838 -43.906603\n",
       "2002-09-26  28.612124  31.758834   2.687583 -44.011566\n",
       "\n",
       "[1000 rows x 4 columns]"
      ]
     },
     "execution_count": 189,
     "metadata": {},
     "output_type": "execute_result"
    }
   ],
   "source": [
    "pd.read_excel('foo.xlsx', 'Sheet1', index_col=None, na_values=['NA'])"
   ]
  },
  {
   "cell_type": "code",
   "execution_count": null,
   "metadata": {
    "collapsed": true
   },
   "outputs": [],
   "source": []
  }
 ],
 "metadata": {
  "kernelspec": {
   "display_name": "Python 2",
   "language": "python",
   "name": "python2"
  },
  "language_info": {
   "codemirror_mode": {
    "name": "ipython",
    "version": 2
   },
   "file_extension": ".py",
   "mimetype": "text/x-python",
   "name": "python",
   "nbconvert_exporter": "python",
   "pygments_lexer": "ipython2",
   "version": "2.7.11"
  }
 },
 "nbformat": 4,
 "nbformat_minor": 0
}
